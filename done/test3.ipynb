{
 "cells": [
  {
   "cell_type": "code",
   "execution_count": 3,
   "metadata": {},
   "outputs": [
    {
     "name": "stdout",
     "output_type": "stream",
     "text": [
      "Jhon 8000\n"
     ]
    }
   ],
   "source": [
    "def salary(name,salary=\"9000\"):\n",
    "    return name + \" \" +salary\n",
    "print(salary('Jhon','8000'))"
   ]
  },
  {
   "cell_type": "code",
   "execution_count": 6,
   "metadata": {},
   "outputs": [
    {
     "name": "stdout",
     "output_type": "stream",
     "text": [
      "2\n"
     ]
    }
   ],
   "source": [
    "def calculate_numbers(x, y, operation=\"add\"):\n",
    "    if operation == \"add\":\n",
    "        return x + y\n",
    "    elif operation == \"subtract\":\n",
    "        return x - y\n",
    "print(calculate_numbers(y=1, x=3, operation=\"subtract\"))"
   ]
  },
  {
   "cell_type": "code",
   "execution_count": 8,
   "metadata": {},
   "outputs": [
    {
     "name": "stdout",
     "output_type": "stream",
     "text": [
      "210\n"
     ]
    }
   ],
   "source": [
    "def sum(*numbers):\n",
    "    sum = 0 \n",
    "    for num in numbers:\n",
    "        sum += num\n",
    "    return sum\n",
    "print(sum(90, 120))"
   ]
  },
  {
   "cell_type": "code",
   "execution_count": 12,
   "metadata": {},
   "outputs": [
    {
     "name": "stdout",
     "output_type": "stream",
     "text": [
      "0\n"
     ]
    }
   ],
   "source": [
    "def addition(a, b, *args, option=True):\n",
    "   result = 0\n",
    "   if option:\n",
    "      for i in args:\n",
    "          result += i\n",
    "      return a + b + result\n",
    "   else:\n",
    "      return result\n",
    "\n",
    "print(addition(1,4,12,19, option=False))"
   ]
  },
  {
   "cell_type": "code",
   "execution_count": 13,
   "metadata": {},
   "outputs": [
    {
     "name": "stdout",
     "output_type": "stream",
     "text": [
      "37\n"
     ]
    }
   ],
   "source": [
    "def addition(a,b,*args,option = True):\n",
    "    result = 0 \n",
    "    if option:\n",
    "        for i in args:\n",
    "            result += i\n",
    "        return a + b + result\n",
    "    else:\n",
    "        return result\n",
    "print(addition(1,5,12,19))"
   ]
  },
  {
   "cell_type": "code",
   "execution_count": 29,
   "metadata": {},
   "outputs": [
    {
     "ename": "UnboundLocalError",
     "evalue": "cannot access local variable 'seafood' where it is not associated with a value",
     "output_type": "error",
     "traceback": [
      "\u001b[0;31m---------------------------------------------------------------------------\u001b[0m",
      "\u001b[0;31mUnboundLocalError\u001b[0m                         Traceback (most recent call last)",
      "Cell \u001b[0;32mIn[29], line 20\u001b[0m\n\u001b[1;32m     18\u001b[0m         unspecified \u001b[39m=\u001b[39m \u001b[39mf\u001b[39m\u001b[39m'\u001b[39m\u001b[39munspecified \u001b[39m\u001b[39m{\u001b[39;00munspecified_count\u001b[39m}\u001b[39;00m\u001b[39m'\u001b[39m\n\u001b[1;32m     19\u001b[0m     \u001b[39mreturn\u001b[39;00m seafood \u001b[39m+\u001b[39m chicken \u001b[39m+\u001b[39m vegetarian \u001b[39m+\u001b[39m unspecified\n\u001b[0;32m---> 20\u001b[0m \u001b[39mprint\u001b[39m(meal_preference(name\u001b[39m=\u001b[39m\u001b[39m\"\u001b[39m\u001b[39mMary\u001b[39m\u001b[39m\"\u001b[39m,food\u001b[39m=\u001b[39m\u001b[39m\"\u001b[39m\u001b[39mNone\u001b[39m\u001b[39m\"\u001b[39m))\n",
      "Cell \u001b[0;32mIn[29], line 7\u001b[0m, in \u001b[0;36mmeal_preference\u001b[0;34m(**kargs)\u001b[0m\n\u001b[1;32m      5\u001b[0m unspecified_count \u001b[39m=\u001b[39m \u001b[39m0\u001b[39m\n\u001b[1;32m      6\u001b[0m food \u001b[39m=\u001b[39m kargs[\u001b[39m\"\u001b[39m\u001b[39mfood\u001b[39m\u001b[39m\"\u001b[39m]\n\u001b[0;32m----> 7\u001b[0m \u001b[39mif\u001b[39;00m food \u001b[39m==\u001b[39m seafood:\n\u001b[1;32m      8\u001b[0m     seafood_count \u001b[39m+\u001b[39m\u001b[39m=\u001b[39m\u001b[39m1\u001b[39m\n\u001b[1;32m      9\u001b[0m     seafood \u001b[39m=\u001b[39m \u001b[39mf\u001b[39m\u001b[39m'\u001b[39m\u001b[39mseefood \u001b[39m\u001b[39m{\u001b[39;00mseafood_count\u001b[39m}\u001b[39;00m\u001b[39m'\u001b[39m\n",
      "\u001b[0;31mUnboundLocalError\u001b[0m: cannot access local variable 'seafood' where it is not associated with a value"
     ]
    }
   ],
   "source": [
    "def meal_preference(**kargs):\n",
    "    seafood_count = 0\n",
    "    chicken_count = 0\n",
    "    vegetarian_count = 0\n",
    "    unspecified_count = 0\n",
    "    food = kargs[\"food\"]\n",
    "    if food == seafood:\n",
    "        seafood_count +=1\n",
    "        seafood = f'seefood {seafood_count}'\n",
    "    elif food == chicken:\n",
    "        chicken_count += 1\n",
    "        chicken = f'chicken {chicken_count}'\n",
    "    elif food == vegetarian:\n",
    "        vegetarian_count += 1\n",
    "        vegetarian = f'vegetarian {vegetarian_count}'\n",
    "    elif food == \"None\":\n",
    "        unspecified_count += 1\n",
    "        unspecified = f'unspecified {unspecified_count}'\n",
    "    return seafood + chicken + vegetarian + unspecified\n",
    "print(meal_preference(name=\"Mary\",food=\"None\"))"
   ]
  },
  {
   "cell_type": "code",
   "execution_count": 31,
   "metadata": {},
   "outputs": [
    {
     "name": "stdout",
     "output_type": "stream",
     "text": [
      "4\n"
     ]
    }
   ],
   "source": [
    "max_num = lambda num1,num2: num1 if (num1>num2) else num2\n",
    "print(max_num(2,4))"
   ]
  },
  {
   "cell_type": "code",
   "execution_count": 34,
   "metadata": {},
   "outputs": [
    {
     "name": "stdout",
     "output_type": "stream",
     "text": [
      "Num is greater than 10\n"
     ]
    }
   ],
   "source": [
    "check_num = lambda x: 'Num is greater than 10'if (x>10) else 'Num is less than 10'\n",
    "print(check_num(15))"
   ]
  },
  {
   "cell_type": "code",
   "execution_count": null,
   "metadata": {},
   "outputs": [],
   "source": []
  }
 ],
 "metadata": {
  "kernelspec": {
   "display_name": "base",
   "language": "python",
   "name": "python3"
  },
  "language_info": {
   "codemirror_mode": {
    "name": "ipython",
    "version": 3
   },
   "file_extension": ".py",
   "mimetype": "text/x-python",
   "name": "python",
   "nbconvert_exporter": "python",
   "pygments_lexer": "ipython3",
   "version": "3.11.3"
  },
  "orig_nbformat": 4
 },
 "nbformat": 4,
 "nbformat_minor": 2
}
