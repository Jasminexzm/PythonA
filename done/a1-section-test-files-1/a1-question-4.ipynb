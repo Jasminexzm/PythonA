{
 "cells": [
  {
   "attachments": {},
   "cell_type": "markdown",
   "id": "e235f7e0-9183-42d5-b67f-9c36c3af65ff",
   "metadata": {},
   "source": [
    "# <mark style=\"background: #02a2d5; color: #ffffff;\" >&nbsp;A1&nbsp;</mark> Question 4\n",
    "\n",
    "1. Use one notebook per question (the downloaded notebooks are numbered).\n",
    "1. You may freely modify the notebook - adding/changing cells as required.\n",
    "1. You are encouraged **not** to clear the output of your executed code before submitting in order to demonstrate testing of your solution.\n",
    "1. Save and upload your notebook to Gradescope for manual marking."
   ]
  },
  {
   "cell_type": "code",
   "execution_count": null,
   "id": "5cf9993d-b957-4c64-acc0-0b1877280450",
   "metadata": {},
   "outputs": [],
   "source": []
  },
  {
   "cell_type": "code",
   "execution_count": null,
   "id": "5200c071-de48-48af-b64a-8bc0e9f22b6c",
   "metadata": {},
   "outputs": [],
   "source": []
  }
 ],
 "metadata": {
  "kernelspec": {
   "display_name": "Python 3 (ipykernel)",
   "language": "python",
   "name": "python3"
  },
  "language_info": {
   "codemirror_mode": {
    "name": "ipython",
    "version": 3
   },
   "file_extension": ".py",
   "mimetype": "text/x-python",
   "name": "python",
   "nbconvert_exporter": "python",
   "pygments_lexer": "ipython3",
   "version": "3.9.13"
  }
 },
 "nbformat": 4,
 "nbformat_minor": 5
}
