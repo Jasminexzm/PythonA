{
 "cells": [
  {
   "cell_type": "code",
   "execution_count": 1,
   "id": "c324f036",
   "metadata": {},
   "outputs": [
    {
     "name": "stdout",
     "output_type": "stream",
     "text": [
      "Hello!/how are you?/I love programming\n"
     ]
    }
   ],
   "source": [
    "print(\"Hello!\", \"how are you?\", \"I love programming\", sep=\"/\")"
   ]
  },
  {
   "cell_type": "code",
   "execution_count": 2,
   "id": "2d7a0485",
   "metadata": {},
   "outputs": [
    {
     "name": "stdout",
     "output_type": "stream",
     "text": [
      "H e l l o !\n"
     ]
    }
   ],
   "source": [
    "print(\"H\", \"e\", \"l\", \"l\", \"o\", \"!\")"
   ]
  },
  {
   "cell_type": "code",
   "execution_count": null,
   "id": "0475cea3",
   "metadata": {},
   "outputs": [],
   "source": [
    "print(\"H\", \"e\", \"l\", \"l\", \"o\", \"!\")"
   ]
  },
  {
   "cell_type": "code",
   "execution_count": 3,
   "id": "721e25b8",
   "metadata": {},
   "outputs": [
    {
     "name": "stdout",
     "output_type": "stream",
     "text": [
      "hello!-how much is this-12-dollars\n"
     ]
    }
   ],
   "source": [
    "print('hello!', 'how much is this', 12, \"dollars\", sep='-')"
   ]
  },
  {
   "cell_type": "code",
   "execution_count": 4,
   "id": "ce9ada1b",
   "metadata": {},
   "outputs": [
    {
     "name": "stdout",
     "output_type": "stream",
     "text": [
      "my#name#is#John/"
     ]
    }
   ],
   "source": [
    "print('my', 'name', 'is', 'John', sep=\"#\", end='/')"
   ]
  },
  {
   "cell_type": "code",
   "execution_count": 2,
   "id": "98a08bcc",
   "metadata": {},
   "outputs": [
    {
     "name": "stdout",
     "output_type": "stream",
     "text": [
      "H e l l o !\n"
     ]
    }
   ],
   "source": [
    "print(\"H\", \"e\", \"l\", \"l\", \"o\", \"!\")"
   ]
  },
  {
   "cell_type": "code",
   "execution_count": 3,
   "id": "8c35c637",
   "metadata": {},
   "outputs": [
    {
     "name": "stdout",
     "output_type": "stream",
     "text": [
      "Help on built-in function print in module builtins:\n",
      "\n",
      "print(*args, sep=' ', end='\\n', file=None, flush=False)\n",
      "    Prints the values to a stream, or to sys.stdout by default.\n",
      "    \n",
      "    sep\n",
      "      string inserted between values, default a space.\n",
      "    end\n",
      "      string appended after the last value, default a newline.\n",
      "    file\n",
      "      a file-like object (stream); defaults to the current sys.stdout.\n",
      "    flush\n",
      "      whether to forcibly flush the stream.\n",
      "\n"
     ]
    }
   ],
   "source": [
    "help(print)"
   ]
  },
  {
   "cell_type": "markdown",
   "id": "2e10cfd6",
   "metadata": {},
   "source": [
    "This is the Wikipedia page of [Markdown][https://en.wikipedia.org/wiki/Markdown]"
   ]
  },
  {
   "cell_type": "code",
   "execution_count": 4,
   "id": "17bde064",
   "metadata": {},
   "outputs": [
    {
     "ename": "SyntaxError",
     "evalue": "invalid syntax (3835670012.py, line 1)",
     "output_type": "error",
     "traceback": [
      "\u001b[0;36m  Cell \u001b[0;32mIn[4], line 1\u001b[0;36m\u001b[0m\n\u001b[0;31m    This is the Wikipedia page of [Markdown]{https://en.wikipedia.org/wiki/Markdown}\u001b[0m\n\u001b[0m                ^\u001b[0m\n\u001b[0;31mSyntaxError\u001b[0m\u001b[0;31m:\u001b[0m invalid syntax\n"
     ]
    }
   ],
   "source": [
    "This is the Wikipedia page of [Markdown]{https://en.wikipedia.org/wiki/Markdown}"
   ]
  },
  {
   "cell_type": "markdown",
   "id": "ff8a41a8",
   "metadata": {},
   "source": [
    "This is the Wikipedia page of [Markdown]{https://en.wikipedia.org/wiki/Markdown}"
   ]
  },
  {
   "cell_type": "markdown",
   "id": "0f67024d",
   "metadata": {},
   "source": [
    "This is the Wikipedia page of (Markdown){https://en.wikipedia.org/wiki/Markdown}"
   ]
  },
  {
   "cell_type": "markdown",
   "id": "ec7f23b0",
   "metadata": {},
   "source": [
    "This is the Wikipedia page of [Markdown](https://en.wikipedia.org/wiki/Markdown)"
   ]
  },
  {
   "cell_type": "code",
   "execution_count": 5,
   "id": "93cc83f3",
   "metadata": {},
   "outputs": [
    {
     "name": "stdout",
     "output_type": "stream",
     "text": [
      "My first name is John My age is 12 I love programming in Python\n"
     ]
    }
   ],
   "source": [
    "name = \"John\"\n",
    "age = 12\n",
    "print(\"My first name is\", name, \"My age is\", age, \"I love programming in Python\")"
   ]
  },
  {
   "cell_type": "markdown",
   "id": "30780284",
   "metadata": {},
   "source": [
    "In physics, ***mass–energy equivalence*** is described by the famous formula: !E = mc^2!"
   ]
  },
  {
   "cell_type": "markdown",
   "id": "b3ea39b0",
   "metadata": {},
   "source": [
    "In physics, **mass–energy equivalence** is described by the famous formula: !E = mc^2!"
   ]
  },
  {
   "cell_type": "markdown",
   "id": "5e6ca454",
   "metadata": {},
   "source": [
    "[![](https://www.python.org/static/community_logos/python-logo-master-v3-TM.png \"Python logo\")](https://www.python.org/)"
   ]
  },
  {
   "cell_type": "markdown",
   "id": "a43ba932",
   "metadata": {},
   "source": [
    "![]{https://www.python.org/static/community_logos/python-logo-master-v3-TM.png}"
   ]
  },
  {
   "cell_type": "markdown",
   "id": "f6da437d",
   "metadata": {},
   "source": [
    "[![](https://www.python.org/static/community_logos/python-logo-master-v3-TM.png \"Python logo\")](Python Logo)"
   ]
  },
  {
   "cell_type": "markdown",
   "id": "de643ef0",
   "metadata": {},
   "source": [
    "![PyThOn LoGo](https://www.python.org/static/community_logos/python-logo-master-v3-TM.png \"Python logo\")"
   ]
  },
  {
   "cell_type": "markdown",
   "id": "95b6145e",
   "metadata": {},
   "source": [
    "![](https://www.python.org/static/community_logos/python-logo-master-v3-TM.png){Python Logo}"
   ]
  },
  {
   "cell_type": "markdown",
   "id": "8c3d3c3e",
   "metadata": {},
   "source": [
    "![Python Logo](https://www.python.org/static/community_logos/python-logo-master-v3-TM.png)"
   ]
  },
  {
   "cell_type": "markdown",
   "id": "b45d90ad",
   "metadata": {},
   "source": [
    "\n",
    "![](https://www.python.org/static/community_logos/python-logo-master-v3-TM.png \"Python logo\")"
   ]
  },
  {
   "cell_type": "code",
   "execution_count": 1,
   "id": "a0885ce2",
   "metadata": {},
   "outputs": [
    {
     "ename": "ValueError",
     "evalue": "Unknown format code 'f' for object of type 'str'",
     "output_type": "error",
     "traceback": [
      "\u001b[0;31m---------------------------------------------------------------------------\u001b[0m",
      "\u001b[0;31mValueError\u001b[0m                                Traceback (most recent call last)",
      "Cell \u001b[0;32mIn[1], line 1\u001b[0m\n\u001b[0;32m----> 1\u001b[0m \u001b[38;5;28mprint\u001b[39m(\u001b[38;5;124m\"\u001b[39m\u001b[38;5;124mHello \u001b[39m\u001b[38;5;132;01m{}\u001b[39;00m\u001b[38;5;124m! Your coffee is ready! Please pay \u001b[39m\u001b[38;5;132;01m{:.2f}\u001b[39;00m\u001b[38;5;124m.\u001b[39m\u001b[38;5;124m\"\u001b[39m\u001b[38;5;241m.\u001b[39mformat(\u001b[38;5;124m\"\u001b[39m\u001b[38;5;124mDenise\u001b[39m\u001b[38;5;124m\"\u001b[39m, \u001b[38;5;124m\"\u001b[39m\u001b[38;5;124m$5.121212\u001b[39m\u001b[38;5;124m\"\u001b[39m))\n",
      "\u001b[0;31mValueError\u001b[0m: Unknown format code 'f' for object of type 'str'"
     ]
    }
   ],
   "source": [
    "print(\"Hello {}! Your coffee is ready! Please pay {:.2f}.\".format(\"Denise\", \"$5.121212\"))"
   ]
  },
  {
   "cell_type": "code",
   "execution_count": 2,
   "id": "e4d5a4c3",
   "metadata": {},
   "outputs": [
    {
     "name": "stdout",
     "output_type": "stream",
     "text": [
      "Hello Denise! Your coffee is ready! Please pay $5.12.\n"
     ]
    }
   ],
   "source": [
    "print(\"Hello {}! Your coffee is ready! Please pay ${:.2f}.\".format(\"Denise\", 5.121212))"
   ]
  },
  {
   "cell_type": "code",
   "execution_count": 3,
   "id": "d866f350",
   "metadata": {},
   "outputs": [
    {
     "name": "stdout",
     "output_type": "stream",
     "text": [
      "Hello Denise! Your coffee is ready! Please pay $5.12.\n"
     ]
    }
   ],
   "source": [
    "print(\"Hello {}! Your coffee is ready! Please pay {}.\".format(\"Denise\", \"$5.12\"))"
   ]
  },
  {
   "cell_type": "code",
   "execution_count": 4,
   "id": "520af923",
   "metadata": {},
   "outputs": [
    {
     "name": "stdout",
     "output_type": "stream",
     "text": [
      "Hello Denise! Your coffee is ready! Please pay $5.12.\n"
     ]
    }
   ],
   "source": [
    "print(\"Hello {fname}! Your coffee is ready! Please pay ${price:.2f}.\".format(price = 5.121212, fname = \"Denise\"))"
   ]
  },
  {
   "cell_type": "code",
   "execution_count": 5,
   "id": "4e16698d",
   "metadata": {},
   "outputs": [
    {
     "name": "stdout",
     "output_type": "stream",
     "text": [
      "Hello Denise! Your coffee is ready! Please pay $5.12."
     ]
    }
   ],
   "source": [
    "print(\"Hello Denise\", \"Your coffee is ready\", \"Please pay $5.12\", end = \".\", sep = \"! \")"
   ]
  },
  {
   "cell_type": "code",
   "execution_count": 6,
   "id": "32487c80",
   "metadata": {},
   "outputs": [
    {
     "name": "stdout",
     "output_type": "stream",
     "text": [
      "My name is John, I am 9. My name is David, I am 12. The price of John's toy is only $49.00. The price of David's toy is only $99.12\n"
     ]
    }
   ],
   "source": [
    "#named placeholders\n",
    "txt1 = \"My name is {fname}, I am {age}\".format(fname = \"John\", age = 9)\n",
    "#empty placeholders\n",
    "txt2 = \"My name is {}, I am {}\".format(\"David\", 12)\n",
    "#price inside named placeholder\n",
    "txt3 = \"The price of John's toy is only ${price:.2f}\".format(price = 49)\n",
    "#price inside empty placeholder\n",
    "txt4 = \"The price of David's toy is only ${:.2f}\".format(99.1212)\n",
    "\n",
    "print(txt1, txt2, txt3, txt4, sep = '. ')"
   ]
  },
  {
   "cell_type": "markdown",
   "id": "954d72bc",
   "metadata": {},
   "source": [
    "$\\frac{X^{3i}Y_j}{Z_{9j}}$"
   ]
  },
  {
   "cell_type": "markdown",
   "id": "133df28c",
   "metadata": {},
   "source": [
    "$\\frac{X^3iY_j}{Z_{9j}}$\n",
    "$\\frac{X^3iY_j}Z_9j$\n",
    "\n",
    "$\\frac{X^3iY_j}{Z_9j}$"
   ]
  },
  {
   "cell_type": "markdown",
   "id": "eb15addc",
   "metadata": {},
   "source": [
    "~dgjg~"
   ]
  },
  {
   "cell_type": "markdown",
   "id": "5533fb2b",
   "metadata": {},
   "source": [
    "[![python logo](https://www.python.org/static/community_logos/python-logo-master-v3-TM.png \"Python logo\")](https://www.python.org/)"
   ]
  },
  {
   "cell_type": "markdown",
   "id": "fd6cb775",
   "metadata": {},
   "source": [
    "[![](https://www.python.org/static/community_logos/python-logo-master-v3-TM.png \"Python logo\")](https://www.python.org/)"
   ]
  },
  {
   "cell_type": "code",
   "execution_count": null,
   "id": "aa626ed5",
   "metadata": {},
   "outputs": [],
   "source": []
  }
 ],
 "metadata": {
  "kernelspec": {
   "display_name": "Python 3 (ipykernel)",
   "language": "python",
   "name": "python3"
  },
  "language_info": {
   "codemirror_mode": {
    "name": "ipython",
    "version": 3
   },
   "file_extension": ".py",
   "mimetype": "text/x-python",
   "name": "python",
   "nbconvert_exporter": "python",
   "pygments_lexer": "ipython3",
   "version": "3.11.3"
  }
 },
 "nbformat": 4,
 "nbformat_minor": 5
}
