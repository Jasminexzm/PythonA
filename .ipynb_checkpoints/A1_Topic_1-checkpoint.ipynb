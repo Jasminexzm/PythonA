{
 "cells": [
  {
   "cell_type": "code",
   "execution_count": 1,
   "id": "c324f036",
   "metadata": {},
   "outputs": [
    {
     "name": "stdout",
     "output_type": "stream",
     "text": [
      "Hello!/how are you?/I love programming\n"
     ]
    }
   ],
   "source": [
    "print(\"Hello!\", \"how are you?\", \"I love programming\", sep=\"/\")"
   ]
  },
  {
   "cell_type": "code",
   "execution_count": 2,
   "id": "2d7a0485",
   "metadata": {},
   "outputs": [
    {
     "name": "stdout",
     "output_type": "stream",
     "text": [
      "H e l l o !\n"
     ]
    }
   ],
   "source": [
    "print(\"H\", \"e\", \"l\", \"l\", \"o\", \"!\")"
   ]
  },
  {
   "cell_type": "code",
   "execution_count": null,
   "id": "5ad214fb",
   "metadata": {},
   "outputs": [],
   "source": [
    "print(\"H\", \"e\", \"l\", \"l\", \"o\", \"!\")"
   ]
  },
  {
   "cell_type": "code",
   "execution_count": null,
   "id": "69103a05",
   "metadata": {},
   "outputs": [],
   "source": []
  }
 ],
 "metadata": {
  "kernelspec": {
   "display_name": "Python 3 (ipykernel)",
   "language": "python",
   "name": "python3"
  },
  "language_info": {
   "codemirror_mode": {
    "name": "ipython",
    "version": 3
   },
   "file_extension": ".py",
   "mimetype": "text/x-python",
   "name": "python",
   "nbconvert_exporter": "python",
   "pygments_lexer": "ipython3",
   "version": "3.11.3"
  }
 },
 "nbformat": 4,
 "nbformat_minor": 5
}
