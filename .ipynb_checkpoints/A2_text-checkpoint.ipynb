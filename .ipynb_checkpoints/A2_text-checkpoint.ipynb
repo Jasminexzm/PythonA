{
 "cells": [
  {
   "cell_type": "code",
   "execution_count": 1,
   "metadata": {},
   "outputs": [
    {
     "name": "stdout",
     "output_type": "stream",
     "text": [
      "False\n",
      "True\n",
      "True\n",
      "False\n",
      "True\n",
      "False\n",
      "False\n",
      "True\n"
     ]
    }
   ],
   "source": [
    "a = 6\n",
    "b = 8\n",
    "print(a == b)\n",
    "print(a != b)\n",
    "print(a < b)\n",
    "print(a > b)\n",
    "print(a <= b)\n",
    "print(a >= b)\n",
    "print(a == b and a<= b)\n",
    "print(a == b or a<= b)"
   ]
  },
  {
   "cell_type": "code",
   "execution_count": null,
   "metadata": {},
   "outputs": [],
   "source": [
    "person1_age = 65\n",
    "person2_age = 55\n",
    "person1_income = 1000\n",
    "person2_income = 800\n"
   ]
  },
  {
   "cell_type": "code",
   "execution_count": 2,
   "metadata": {},
   "outputs": [
    {
     "name": "stdout",
     "output_type": "stream",
     "text": [
      "True\n"
     ]
    }
   ],
   "source": [
    "a = 5\n",
    "b = 5.0\n",
    "print(a == b)"
   ]
  },
  {
   "cell_type": "code",
   "execution_count": 4,
   "metadata": {},
   "outputs": [
    {
     "name": "stdout",
     "output_type": "stream",
     "text": [
      "False\n"
     ]
    }
   ],
   "source": [
    "person1_age = 50\n",
    "person2_age = 30\n",
    "same_age = person1_age == person2_age\n",
    "print(same_age)"
   ]
  },
  {
   "cell_type": "code",
   "execution_count": 7,
   "metadata": {},
   "outputs": [
    {
     "name": "stdout",
     "output_type": "stream",
     "text": [
      "False\n"
     ]
    }
   ],
   "source": [
    "age = 70\n",
    "print (age > 14 and age < 60)"
   ]
  },
  {
   "cell_type": "code",
   "execution_count": 8,
   "metadata": {},
   "outputs": [
    {
     "name": "stdout",
     "output_type": "stream",
     "text": [
      "person1 is employable\n",
      "person2 is not employable\n"
     ]
    }
   ],
   "source": [
    "person1_age = 20\n",
    "person2_age = 16\n",
    "if person1_age >= 18:\n",
    "    print(\"person1 is employable\")\n",
    "else :\n",
    "    print(\"person1 is not employable\")\n",
    "if person2_age >= 18:\n",
    "    print(\"person2 is employable\")\n",
    "else :\n",
    "    print(\"person2 is not employable\")\n",
    "\n"
   ]
  },
  {
   "cell_type": "code",
   "execution_count": 12,
   "metadata": {},
   "outputs": [
    {
     "name": "stdout",
     "output_type": "stream",
     "text": [
      "1.7671458676442584\n",
      "7.0685834705770345\n"
     ]
    }
   ],
   "source": [
    "r = .75\n",
    "import math\n",
    "Surface_Area = 4*math.pi*(r**2)\n",
    "Volume = 4/3*math.pi*(r**3)\n",
    "print(Volume)\n",
    "print(Surface_Area)"
   ]
  },
  {
   "cell_type": "code",
   "execution_count": 13,
   "metadata": {},
   "outputs": [
    {
     "name": "stdout",
     "output_type": "stream",
     "text": [
      "8.0152\n"
     ]
    }
   ],
   "source": [
    "vab1 = float(input(\"Please input a float number: \"))\n",
    "vab2 = float(input(\"Please input a float number: \"))\n",
    "print(vab1 * vab2)"
   ]
  },
  {
   "cell_type": "code",
   "execution_count": 14,
   "metadata": {},
   "outputs": [
    {
     "name": "stdout",
     "output_type": "stream",
     "text": [
      "12\n"
     ]
    }
   ],
   "source": [
    "vab1 = float(input(\"Please input a float number: \"))\n",
    "vab2 = float(input(\"Please input a float number: \"))\n",
    "print(int(vab1) * int(vab2))"
   ]
  },
  {
   "cell_type": "code",
   "execution_count": 15,
   "metadata": {},
   "outputs": [
    {
     "name": "stdout",
     "output_type": "stream",
     "text": [
      "3\n"
     ]
    }
   ],
   "source": [
    "str1 = \"Welcome to XYZ. xyz is awesome, isn't it? XyZ is locted near the city\"\n",
    "str2 = str1.upper()\n",
    "count = str2.count(\"XYZ\")\n",
    "print(count)"
   ]
  },
  {
   "cell_type": "code",
   "execution_count": 16,
   "metadata": {},
   "outputs": [
    {
     "data": {
      "text/plain": [
       "True"
      ]
     },
     "execution_count": 16,
     "metadata": {},
     "output_type": "execute_result"
    }
   ],
   "source": [
    "(2 < 6) or (9 > 3)"
   ]
  },
  {
   "cell_type": "code",
   "execution_count": 17,
   "metadata": {},
   "outputs": [
    {
     "data": {
      "text/plain": [
       "False"
      ]
     },
     "execution_count": 17,
     "metadata": {},
     "output_type": "execute_result"
    }
   ],
   "source": [
    "(2 > 5) and (7 > 5)"
   ]
  },
  {
   "cell_type": "code",
   "execution_count": 22,
   "metadata": {},
   "outputs": [
    {
     "name": "stdout",
     "output_type": "stream",
     "text": [
      "8\n"
     ]
    }
   ],
   "source": [
    "idx = 4\n",
    "if idx >= 5:\n",
    "    print(idx+10*2)\n",
    "else:\n",
    "    idx = idx + 3\n",
    "idx = idx+1\n",
    "print(idx)"
   ]
  },
  {
   "cell_type": "code",
   "execution_count": 27,
   "metadata": {},
   "outputs": [
    {
     "name": "stdout",
     "output_type": "stream",
     "text": [
      "The number can be divisible by 3.\n"
     ]
    }
   ],
   "source": [
    "input4 = float(input(\"input an number: \"))\n",
    "if input4 %3 == 0 :\n",
    "    print(\"The number can be divisible by 3.\")\n",
    "elif input4 %5 == 0:\n",
    "    print(\"The number can be divisible by 5.\")\n",
    "elif input4 %3 == 0 and input4%5 == 0:\n",
    "    print(\"The number can be divisible by 3 and 5.\")\n",
    "else:\n",
    "    print(print(\"The number can not be divisible by 3 and 5.\"))\n"
   ]
  },
  {
   "cell_type": "code",
   "execution_count": 36,
   "metadata": {},
   "outputs": [],
   "source": [
    "age = int(input(\"Please input your age: \"))\n",
    "sym = input('Do you have any symptoms? (y/n): ')\n",
    "if age >= 40 and sym == \"y\":\n",
    "    print(\"Please get tested.\")\n",
    "elif age < 40 and sym == \"y\":\n",
    "    print(\"Please get self-isolated.\")\n",
    "else:\n",
    "    print(\"You should keep social distance.\")"
   ]
  },
  {
   "cell_type": "code",
   "execution_count": 7,
   "metadata": {},
   "outputs": [
    {
     "ename": "NameError",
     "evalue": "name 'pdb' is not defined",
     "output_type": "error",
     "traceback": [
      "\u001b[0;31m---------------------------------------------------------------------------\u001b[0m",
      "\u001b[0;31mNameError\u001b[0m                                 Traceback (most recent call last)",
      "Cell \u001b[0;32mIn[7], line 7\u001b[0m\n\u001b[1;32m      5\u001b[0m     \u001b[39mimport\u001b[39;00m \u001b[39mpdb\u001b[39;00m\n\u001b[1;32m      6\u001b[0m     \u001b[39m# [insert a breakpoint here]\u001b[39;00m\n\u001b[0;32m----> 7\u001b[0m pdb\u001b[39m.\u001b[39mset_trace(num1)\n\u001b[1;32m      9\u001b[0m     \u001b[39m# a difference should not be negative, so if the first\u001b[39;00m\n\u001b[1;32m     10\u001b[0m     \u001b[39m# number is smaller than the second, swap the numbers around\u001b[39;00m\n\u001b[1;32m     11\u001b[0m \u001b[39mif\u001b[39;00m (num1 \u001b[39m<\u001b[39m num2):\n",
      "\u001b[0;31mNameError\u001b[0m: name 'pdb' is not defined"
     ]
    }
   ],
   "source": [
    "# here a function is defined, do not worry about \n",
    "# how this works if you have not learnt functions yet.\n",
    "def diff(num1, num2):\n",
    "\n",
    "    import pdb\n",
    "    # [insert a breakpoint here]\n",
    "pdb.set_trace()\n",
    "\n",
    "    # a difference should not be negative, so if the first\n",
    "    # number is smaller than the second, swap the numbers around\n",
    "if (num1 < num2):\n",
    "        num1 = num2\n",
    "        num2 = num1\n",
    "\n",
    "    # find the difference between the two numbers using subtraction\n",
    "difference = num1 - num2\n",
    "print(difference)\n",
    "\n",
    "# run the diff function to find the difference between 10 and 15; \n",
    "# we expect this to be 5\n",
    "diff(10, 15)"
   ]
  },
  {
   "cell_type": "code",
   "execution_count": 17,
   "metadata": {},
   "outputs": [
    {
     "name": "stdout",
     "output_type": "stream",
     "text": [
      "10\n"
     ]
    }
   ],
   "source": [
    "total = 0\n",
    "count = 0\n",
    "while(count<10):\n",
    "    total = total + count\n",
    "    count = count + 1 \n",
    "   \n",
    "    if count== 5:\n",
    "        break #try changing this to break and pass and redraw the trace tables\n",
    "    \n",
    "print(total)"
   ]
  },
  {
   "cell_type": "code",
   "execution_count": 22,
   "metadata": {},
   "outputs": [
    {
     "ename": "KeyboardInterrupt",
     "evalue": "Interrupted by user",
     "output_type": "error",
     "traceback": [
      "\u001b[0;31m---------------------------------------------------------------------------\u001b[0m",
      "\u001b[0;31mKeyboardInterrupt\u001b[0m                         Traceback (most recent call last)",
      "Cell \u001b[0;32mIn[22], line 5\u001b[0m\n\u001b[1;32m      3\u001b[0m \u001b[39mwhile\u001b[39;00m \u001b[39mTrue\u001b[39;00m:\n\u001b[1;32m      4\u001b[0m     guess \u001b[39m=\u001b[39m random\u001b[39m.\u001b[39mrandint(\u001b[39m1\u001b[39m, \u001b[39m100\u001b[39m)\n\u001b[0;32m----> 5\u001b[0m     question \u001b[39m=\u001b[39m \u001b[39minput\u001b[39;49m(\u001b[39m\"\u001b[39;49m\u001b[39mIt\u001b[39;49m\u001b[39m'\u001b[39;49m\u001b[39ms the right number?\u001b[39;49m\u001b[39m\"\u001b[39;49m)\n\u001b[1;32m      6\u001b[0m     \u001b[39mif\u001b[39;00m question\u001b[39m.\u001b[39mlower() \u001b[39m==\u001b[39m \u001b[39m\"\u001b[39m\u001b[39mYes\u001b[39m\u001b[39m\"\u001b[39m:\n\u001b[1;32m      7\u001b[0m         \u001b[39mpass\u001b[39;00m\n",
      "File \u001b[0;32m~/miniconda3/lib/python3.11/site-packages/ipykernel/kernelbase.py:1202\u001b[0m, in \u001b[0;36mKernel.raw_input\u001b[0;34m(self, prompt)\u001b[0m\n\u001b[1;32m   1200\u001b[0m     msg \u001b[39m=\u001b[39m \u001b[39m\"\u001b[39m\u001b[39mraw_input was called, but this frontend does not support input requests.\u001b[39m\u001b[39m\"\u001b[39m\n\u001b[1;32m   1201\u001b[0m     \u001b[39mraise\u001b[39;00m StdinNotImplementedError(msg)\n\u001b[0;32m-> 1202\u001b[0m \u001b[39mreturn\u001b[39;00m \u001b[39mself\u001b[39;49m\u001b[39m.\u001b[39;49m_input_request(\n\u001b[1;32m   1203\u001b[0m     \u001b[39mstr\u001b[39;49m(prompt),\n\u001b[1;32m   1204\u001b[0m     \u001b[39mself\u001b[39;49m\u001b[39m.\u001b[39;49m_parent_ident[\u001b[39m\"\u001b[39;49m\u001b[39mshell\u001b[39;49m\u001b[39m\"\u001b[39;49m],\n\u001b[1;32m   1205\u001b[0m     \u001b[39mself\u001b[39;49m\u001b[39m.\u001b[39;49mget_parent(\u001b[39m\"\u001b[39;49m\u001b[39mshell\u001b[39;49m\u001b[39m\"\u001b[39;49m),\n\u001b[1;32m   1206\u001b[0m     password\u001b[39m=\u001b[39;49m\u001b[39mFalse\u001b[39;49;00m,\n\u001b[1;32m   1207\u001b[0m )\n",
      "File \u001b[0;32m~/miniconda3/lib/python3.11/site-packages/ipykernel/kernelbase.py:1245\u001b[0m, in \u001b[0;36mKernel._input_request\u001b[0;34m(self, prompt, ident, parent, password)\u001b[0m\n\u001b[1;32m   1242\u001b[0m \u001b[39mexcept\u001b[39;00m \u001b[39mKeyboardInterrupt\u001b[39;00m:\n\u001b[1;32m   1243\u001b[0m     \u001b[39m# re-raise KeyboardInterrupt, to truncate traceback\u001b[39;00m\n\u001b[1;32m   1244\u001b[0m     msg \u001b[39m=\u001b[39m \u001b[39m\"\u001b[39m\u001b[39mInterrupted by user\u001b[39m\u001b[39m\"\u001b[39m\n\u001b[0;32m-> 1245\u001b[0m     \u001b[39mraise\u001b[39;00m \u001b[39mKeyboardInterrupt\u001b[39;00m(msg) \u001b[39mfrom\u001b[39;00m \u001b[39mNone\u001b[39;00m\n\u001b[1;32m   1246\u001b[0m \u001b[39mexcept\u001b[39;00m \u001b[39mException\u001b[39;00m:\n\u001b[1;32m   1247\u001b[0m     \u001b[39mself\u001b[39m\u001b[39m.\u001b[39mlog\u001b[39m.\u001b[39mwarning(\u001b[39m\"\u001b[39m\u001b[39mInvalid Message:\u001b[39m\u001b[39m\"\u001b[39m, exc_info\u001b[39m=\u001b[39m\u001b[39mTrue\u001b[39;00m)\n",
      "\u001b[0;31mKeyboardInterrupt\u001b[0m: Interrupted by user"
     ]
    }
   ],
   "source": [
    "import random\n",
    "guess = input(\"Pick a number between 1 and 100 and I'll try to guess it\")\n",
    "while True:\n",
    "    guess = random.randint(1, 100)\n",
    "    question = input(\"It's the right number?\")\n",
    "    if question.lower() == \"Yes\":\n",
    "        pass\n",
    "print(f\"Good, Your number is {guess}\")\n"
   ]
  },
  {
   "cell_type": "code",
   "execution_count": 5,
   "metadata": {},
   "outputs": [
    {
     "name": "stdout",
     "output_type": "stream",
     "text": [
      "guess: 9\n",
      "guess: 6\n",
      "guess: 8\n",
      "Sorry! You failed!\n"
     ]
    }
   ],
   "source": [
    "secert_number = 5 \n",
    "guess_count = 0\n",
    "guess_limit = 3\n",
    "while guess_count <guess_limit:\n",
    "    guess = int(input(\"guess a number: \"))\n",
    "    guess_count += 1\n",
    "    if guess == secert_number:\n",
    "        print(\"You won!\")\n",
    "        break\n",
    "    print(f\"guess: {guess}\")\n",
    "else:\n",
    "    print(\"Sorry! You failed!\")"
   ]
  },
  {
   "cell_type": "code",
   "execution_count": 6,
   "metadata": {},
   "outputs": [
    {
     "name": "stdout",
     "output_type": "stream",
     "text": [
      "quit\n"
     ]
    }
   ],
   "source": [
    "comnand = input('> ')\n",
    "print(comnand)"
   ]
  },
  {
   "cell_type": "code",
   "execution_count": 10,
   "metadata": {},
   "outputs": [
    {
     "name": "stdout",
     "output_type": "stream",
     "text": [
      "start - to start the car \n",
      " stop - to stop the car \n",
      " quit - to quit\n",
      "start - to start the car \n",
      " stop - to stop the car \n",
      " quit - to quit\n"
     ]
    },
    {
     "ename": "KeyboardInterrupt",
     "evalue": "Interrupted by user",
     "output_type": "error",
     "traceback": [
      "\u001b[0;31m---------------------------------------------------------------------------\u001b[0m",
      "\u001b[0;31mKeyboardInterrupt\u001b[0m                         Traceback (most recent call last)",
      "Cell \u001b[0;32mIn[10], line 3\u001b[0m\n\u001b[1;32m      1\u001b[0m command \u001b[39m=\u001b[39m \u001b[39m\"\u001b[39m\u001b[39m\"\u001b[39m\n\u001b[1;32m      2\u001b[0m \u001b[39mwhile\u001b[39;00m \u001b[39mTrue\u001b[39;00m:\n\u001b[0;32m----> 3\u001b[0m \tcommand \u001b[39m=\u001b[39m \u001b[39minput\u001b[39;49m(\u001b[39m\"\u001b[39;49m\u001b[39m> \u001b[39;49m\u001b[39m\"\u001b[39;49m)\u001b[39m.\u001b[39mlower()\n\u001b[1;32m      4\u001b[0m \t\u001b[39mif\u001b[39;00m command \u001b[39m==\u001b[39m \u001b[39m\"\u001b[39m\u001b[39mstarted\u001b[39m\u001b[39m\"\u001b[39m :\n\u001b[1;32m      5\u001b[0m \t\t\u001b[39mprint\u001b[39m(\u001b[39m'\u001b[39m\u001b[39mCar started...\u001b[39m\u001b[39m'\u001b[39m)\n",
      "File \u001b[0;32m~/miniconda3/lib/python3.11/site-packages/ipykernel/kernelbase.py:1202\u001b[0m, in \u001b[0;36mKernel.raw_input\u001b[0;34m(self, prompt)\u001b[0m\n\u001b[1;32m   1200\u001b[0m     msg \u001b[39m=\u001b[39m \u001b[39m\"\u001b[39m\u001b[39mraw_input was called, but this frontend does not support input requests.\u001b[39m\u001b[39m\"\u001b[39m\n\u001b[1;32m   1201\u001b[0m     \u001b[39mraise\u001b[39;00m StdinNotImplementedError(msg)\n\u001b[0;32m-> 1202\u001b[0m \u001b[39mreturn\u001b[39;00m \u001b[39mself\u001b[39;49m\u001b[39m.\u001b[39;49m_input_request(\n\u001b[1;32m   1203\u001b[0m     \u001b[39mstr\u001b[39;49m(prompt),\n\u001b[1;32m   1204\u001b[0m     \u001b[39mself\u001b[39;49m\u001b[39m.\u001b[39;49m_parent_ident[\u001b[39m\"\u001b[39;49m\u001b[39mshell\u001b[39;49m\u001b[39m\"\u001b[39;49m],\n\u001b[1;32m   1205\u001b[0m     \u001b[39mself\u001b[39;49m\u001b[39m.\u001b[39;49mget_parent(\u001b[39m\"\u001b[39;49m\u001b[39mshell\u001b[39;49m\u001b[39m\"\u001b[39;49m),\n\u001b[1;32m   1206\u001b[0m     password\u001b[39m=\u001b[39;49m\u001b[39mFalse\u001b[39;49;00m,\n\u001b[1;32m   1207\u001b[0m )\n",
      "File \u001b[0;32m~/miniconda3/lib/python3.11/site-packages/ipykernel/kernelbase.py:1245\u001b[0m, in \u001b[0;36mKernel._input_request\u001b[0;34m(self, prompt, ident, parent, password)\u001b[0m\n\u001b[1;32m   1242\u001b[0m \u001b[39mexcept\u001b[39;00m \u001b[39mKeyboardInterrupt\u001b[39;00m:\n\u001b[1;32m   1243\u001b[0m     \u001b[39m# re-raise KeyboardInterrupt, to truncate traceback\u001b[39;00m\n\u001b[1;32m   1244\u001b[0m     msg \u001b[39m=\u001b[39m \u001b[39m\"\u001b[39m\u001b[39mInterrupted by user\u001b[39m\u001b[39m\"\u001b[39m\n\u001b[0;32m-> 1245\u001b[0m     \u001b[39mraise\u001b[39;00m \u001b[39mKeyboardInterrupt\u001b[39;00m(msg) \u001b[39mfrom\u001b[39;00m \u001b[39mNone\u001b[39;00m\n\u001b[1;32m   1246\u001b[0m \u001b[39mexcept\u001b[39;00m \u001b[39mException\u001b[39;00m:\n\u001b[1;32m   1247\u001b[0m     \u001b[39mself\u001b[39m\u001b[39m.\u001b[39mlog\u001b[39m.\u001b[39mwarning(\u001b[39m\"\u001b[39m\u001b[39mInvalid Message:\u001b[39m\u001b[39m\"\u001b[39m, exc_info\u001b[39m=\u001b[39m\u001b[39mTrue\u001b[39;00m)\n",
      "\u001b[0;31mKeyboardInterrupt\u001b[0m: Interrupted by user"
     ]
    }
   ],
   "source": [
    "command = \"\"\n",
    "while True:\n",
    "\tcommand = input(\"> \").lower()\n",
    "\tif command == \"started\" :\n",
    "\t\tprint('Car started...')\n",
    "\telif command == \"stopped\":\n",
    "\t\tprint('Car stopped...')\n",
    "\telif command == \"help\":\n",
    "\t\tprint(\"start - to start the car \\n stop - to stop the car \\n quit - to quit\")\n",
    "\telif command == \"quit\":\n",
    "\t\tbreak\n",
    "else:\n",
    "\tprint(\"Sorry! I don't understand.\")"
   ]
  },
  {
   "cell_type": "code",
   "execution_count": 9,
   "metadata": {},
   "outputs": [
    {
     "name": "stdout",
     "output_type": "stream",
     "text": [
      "[10, 20, 30, 1, 2, 3, 4]\n"
     ]
    }
   ],
   "source": [
    "my_list = [1,2,3,4,5]\n",
    "my_list = [10,20,30] + my_list\n",
    "my_list.pop()\n",
    "print(my_list)"
   ]
  },
  {
   "cell_type": "code",
   "execution_count": 10,
   "metadata": {},
   "outputs": [
    {
     "name": "stdout",
     "output_type": "stream",
     "text": [
      "[1, 2, 3, 7, 8, 9]\n"
     ]
    }
   ],
   "source": [
    "l1 = [1,2,3]\n",
    "l1 = l1 + [7,8,9]\n",
    "print(l1)"
   ]
  },
  {
   "cell_type": "code",
   "execution_count": 13,
   "metadata": {},
   "outputs": [
    {
     "name": "stdout",
     "output_type": "stream",
     "text": [
      "[1, 2, 3, [7, 8, 9]]\n"
     ]
    }
   ],
   "source": [
    "l2 = [1,2,3]\n",
    "l2.append([7,8,9])\n",
    "print(l2)"
   ]
  },
  {
   "cell_type": "code",
   "execution_count": 15,
   "metadata": {},
   "outputs": [
    {
     "data": {
      "text/plain": [
       "False"
      ]
     },
     "execution_count": 15,
     "metadata": {},
     "output_type": "execute_result"
    }
   ],
   "source": [
    "list_1 = [\"duck\", 20, 9, 22, 12, 19]\n",
    "\"dogs\" in list_1\n"
   ]
  },
  {
   "cell_type": "code",
   "execution_count": 17,
   "metadata": {},
   "outputs": [
    {
     "name": "stdout",
     "output_type": "stream",
     "text": [
      "4504553344 : [1]\n",
      "4504553344 : [1, 5, 6, 7]\n"
     ]
    }
   ],
   "source": [
    "x = [1]\n",
    "print(id(x),':',x)\n",
    "x.append(5)\n",
    "x.extend([6,7])\n",
    "print(id(x),':',x)"
   ]
  },
  {
   "cell_type": "code",
   "execution_count": 35,
   "metadata": {},
   "outputs": [
    {
     "name": "stdout",
     "output_type": "stream",
     "text": [
      "10\n",
      "20\n",
      "9\n",
      "22\n"
     ]
    }
   ],
   "source": [
    "list1 = [10, 20, 9, 22, 12, 19]\n",
    "index = 0\n",
    "while index < 4 :\n",
    "    print (f'{list1[index]}')\n",
    "    index += 1\n",
    "\n"
   ]
  },
  {
   "cell_type": "code",
   "execution_count": 38,
   "metadata": {},
   "outputs": [
    {
     "name": "stdout",
     "output_type": "stream",
     "text": [
      "Danise\n",
      "20\n"
     ]
    }
   ],
   "source": [
    "list1 = ['John', 'Danise', 'David', 'Danise']\n",
    "list2 = [12, 20, 30, 40]\n",
    "print(list1[1])\n",
    "print(list2[1])"
   ]
  },
  {
   "cell_type": "code",
   "execution_count": 40,
   "metadata": {},
   "outputs": [
    {
     "name": "stdout",
     "output_type": "stream",
     "text": [
      "10\n"
     ]
    }
   ],
   "source": [
    "list1 = [1, 'John', True, [10, 20, 9, 22, 12, 19]]\n",
    "list2 = list1[3]\n",
    "print(list2[0])"
   ]
  },
  {
   "cell_type": "code",
   "execution_count": 42,
   "metadata": {},
   "outputs": [
    {
     "name": "stdout",
     "output_type": "stream",
     "text": [
      "[1, 2, 3, 4, [5, 6, 7]]\n",
      "[1, 2, 3, 4, 5, 6, 7]\n"
     ]
    }
   ],
   "source": [
    "list1 =[1,2,3,4]\n",
    "list2 =[1,2,3,4]\n",
    "list1.append([5,6,7])\n",
    "list2.extend([5,6,7])\n",
    "print(list1)\n",
    "print(list2)"
   ]
  },
  {
   "cell_type": "code",
   "execution_count": 43,
   "metadata": {},
   "outputs": [
    {
     "ename": "NameError",
     "evalue": "name 'list1' is not defined",
     "output_type": "error",
     "traceback": [
      "\u001b[0;31m---------------------------------------------------------------------------\u001b[0m",
      "\u001b[0;31mNameError\u001b[0m                                 Traceback (most recent call last)",
      "Cell \u001b[0;32mIn[43], line 3\u001b[0m\n\u001b[1;32m      1\u001b[0m list1 \u001b[39m=\u001b[39m[\u001b[39m1\u001b[39m,\u001b[39m2\u001b[39m,\u001b[39m3\u001b[39m,\u001b[39m4\u001b[39m]\n\u001b[1;32m      2\u001b[0m \u001b[39mdel\u001b[39;00m list1\n\u001b[0;32m----> 3\u001b[0m \u001b[39mprint\u001b[39m(list1)\n",
      "\u001b[0;31mNameError\u001b[0m: name 'list1' is not defined"
     ]
    }
   ],
   "source": [
    "list1 =[1,2,3,4]\n",
    "del list1\n",
    "print(list1)"
   ]
  },
  {
   "cell_type": "code",
   "execution_count": 51,
   "metadata": {},
   "outputs": [
    {
     "name": "stdout",
     "output_type": "stream",
     "text": [
      "[]\n"
     ]
    }
   ],
   "source": [
    "colors = ['black', 'white ', 'yellow', 'red']\n",
    "colors.clear()\n",
    "print(colors)"
   ]
  },
  {
   "cell_type": "code",
   "execution_count": 55,
   "metadata": {},
   "outputs": [
    {
     "name": "stdout",
     "output_type": "stream",
     "text": [
      "['John', 'Danise', 'David', 12, 20, 30]\n"
     ]
    }
   ],
   "source": [
    "list1 = ['John', 'Danise', 'David']\n",
    "list2 = [12, 20, 30]\n",
    "list1.extend(list2)\n",
    "print(list1)"
   ]
  },
  {
   "cell_type": "code",
   "execution_count": 56,
   "metadata": {},
   "outputs": [
    {
     "data": {
      "text/plain": [
       "True"
      ]
     },
     "execution_count": 56,
     "metadata": {},
     "output_type": "execute_result"
    }
   ],
   "source": [
    "pets = ['dog','Dog','DOG','fish','cat', 'Dog']\n",
    "\"Dog\" in pets"
   ]
  },
  {
   "cell_type": "code",
   "execution_count": 57,
   "metadata": {},
   "outputs": [
    {
     "name": "stdout",
     "output_type": "stream",
     "text": [
      "4\n"
     ]
    }
   ],
   "source": [
    "list1 =len([1, 'John', True, [10, 20, 9, 22, 12, 19]])\n",
    "print(list1)"
   ]
  },
  {
   "cell_type": "code",
   "execution_count": 61,
   "metadata": {},
   "outputs": [
    {
     "ename": "TypeError",
     "evalue": "'<' not supported between instances of 'str' and 'int'",
     "output_type": "error",
     "traceback": [
      "\u001b[0;31m---------------------------------------------------------------------------\u001b[0m",
      "\u001b[0;31mTypeError\u001b[0m                                 Traceback (most recent call last)",
      "Cell \u001b[0;32mIn[61], line 2\u001b[0m\n\u001b[1;32m      1\u001b[0m list8 \u001b[39m=\u001b[39m [\u001b[39m10\u001b[39m, \u001b[39m20\u001b[39m, \u001b[39m9\u001b[39m, \u001b[39m22\u001b[39m, \u001b[39m12\u001b[39m, \u001b[39m19\u001b[39m, \u001b[39m\"\u001b[39m\u001b[39mNone\u001b[39m\u001b[39m\"\u001b[39m]\n\u001b[0;32m----> 2\u001b[0m list8\u001b[39m.\u001b[39;49msort()\n\u001b[1;32m      3\u001b[0m \u001b[39mprint\u001b[39m(list8)\n",
      "\u001b[0;31mTypeError\u001b[0m: '<' not supported between instances of 'str' and 'int'"
     ]
    }
   ],
   "source": [
    "list8 = [10, 20, 9, 22, 12, 19, None]\n",
    "list8.sort()\n",
    "print(list8)\n"
   ]
  },
  {
   "cell_type": "code",
   "execution_count": 2,
   "metadata": {},
   "outputs": [
    {
     "name": "stdout",
     "output_type": "stream",
     "text": [
      "Enter the first integer: 10\n",
      "Enter the first integer: 10\n",
      "How would you like to compare(Please only input greater, less or equals): dhsk\n",
      "Unsupported operation\n"
     ]
    }
   ],
   "source": [
    "x = int(input(\"Enter the first integer: \"))\n",
    "y = int(input('Enter the first integer: '))\n",
    "operators = input(\"How would you like to compare(Please only input greater, less or equals): \")\n",
    "if operators.lower() == \"greater\":\n",
    "    if x > y:\n",
    "        print(True)\n",
    "    else:\n",
    "        print(False)\n",
    "elif operators.lower == \"less\":\n",
    "    if x < y:\n",
    "        print(True)\n",
    "    else:\n",
    "        print(False)\n",
    "elif operators.lower() == \"equals\":\n",
    "    if x == y:\n",
    "        print(True)\n",
    "    else:\n",
    "        print(False)\n",
    "else:\n",
    "    print('Unsupported operation')\n",
    "\n",
    "\n"
   ]
  },
  {
   "cell_type": "code",
   "execution_count": 1,
   "metadata": {},
   "outputs": [
    {
     "name": "stdout",
     "output_type": "stream",
     "text": [
      "Enter the DNA sequence(only have the four letters 'A', 'G', 'C' and 'T'): AACTGC\n",
      "Num of Adenine: 2\n",
      "Num of Guanine: 1\n",
      "Num of Cytosine: 2\n",
      "Num of Thymine: 1\n"
     ]
    }
   ],
   "source": [
    "sequence = input(\"Enter the DNA sequence(only have the four letters 'A', 'G', 'C' and 'T'): \")\n",
    "print('Num of Adenine:', sequence.count(\"A\"))\n",
    "print('Num of Guanine:', sequence.count(\"G\"))\n",
    "print('Num of Cytosine:', sequence.count(\"C\"))\n",
    "print('Num of Thymine:', sequence.count(\"T\"))\n",
    "\n"
   ]
  },
  {
   "cell_type": "code",
   "execution_count": 2,
   "metadata": {},
   "outputs": [
    {
     "name": "stdout",
     "output_type": "stream",
     "text": [
      "Num of Adenine: 2\n",
      "Num of Guanine: 1\n",
      "Num of Cytosine: 1\n",
      "Num of Thymine: 3\n"
     ]
    }
   ],
   "source": [
    "sequence = input(\"Enter the DNA sequence(only have the four letters 'A', 'G', 'C' and 'T'): \")\n",
    "count_a = 0\n",
    "count_g = 0\n",
    "count_c = 0\n",
    "count_t = 0\n",
    "count_mid = 0\n",
    "num = len(sequence)\n",
    "while count_mid < num:\n",
    "    in_input = sequence[count_mid]\n",
    "    in_input = in_input.upper()\n",
    "    if in_input == \"A\":\n",
    "        count_a += 1\n",
    "    elif in_input == \"G\":\n",
    "        count_g += 1\n",
    "    elif in_input == \"C\":\n",
    "        count_c += 1\n",
    "    elif in_input == \"T\":\n",
    "        count_t += 1\n",
    "    count_mid += 1\n",
    "print(f\"Num of Adenine: {count_a}\\nNum of Guanine: {count_c}\\nNum of Cytosine: {count_c}\\nNum of Thymine: {count_t}\")"
   ]
  },
  {
   "cell_type": "code",
   "execution_count": 2,
   "metadata": {},
   "outputs": [
    {
     "name": "stdout",
     "output_type": "stream",
     "text": [
      "Please input a number: 9\n",
      "Please input a number: -5\n",
      "Please input a number: 9\n",
      "Please input a number: -10\n",
      "Please input a number: k\n",
      "Goodbye!\n",
      "\n",
      "Sum is 3\n",
      "Count (divisible by 5) is 2\n"
     ]
    }
   ],
   "source": [
    "sum = 0\n",
    "number_divby_5 = 0\n",
    "while True:\n",
    "    user_input = input(\"Please input a number: \")\n",
    "    if user_input.isalpha():\n",
    "        break\n",
    "    if user_input.isdigit() or (user_input.startswith(\"-\") and user_input[1:].isdigit()):\n",
    "        num = int(user_input)\n",
    "        sum += num\n",
    "        if num%5 == 0:\n",
    "            number_divby_5 += 1\n",
    "print(\"Goodbye!\\n\")\n",
    "print(f\"Sum is {sum}\" )\n",
    "print(f\"Count (divisible by 5) is {number_divby_5}\")\n",
    "\n",
    "        \n",
    "\n",
    "\n",
    "\n",
    "\n"
   ]
  },
  {
   "cell_type": "code",
   "execution_count": null,
   "metadata": {},
   "outputs": [],
   "source": []
  }
 ],
 "metadata": {
  "kernelspec": {
   "display_name": "Python 3 (ipykernel)",
   "language": "python",
   "name": "python3"
  },
  "language_info": {
   "codemirror_mode": {
    "name": "ipython",
    "version": 3
   },
   "file_extension": ".py",
   "mimetype": "text/x-python",
   "name": "python",
   "nbconvert_exporter": "python",
   "pygments_lexer": "ipython3",
   "version": "3.11.3"
  }
 },
 "nbformat": 4,
 "nbformat_minor": 2
}
