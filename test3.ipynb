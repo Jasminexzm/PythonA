{
 "cells": [
  {
   "cell_type": "code",
   "execution_count": 3,
   "metadata": {},
   "outputs": [
    {
     "name": "stdout",
     "output_type": "stream",
     "text": [
      "Jhon 8000\n"
     ]
    }
   ],
   "source": [
    "def salary(name,salary=\"9000\"):\n",
    "    return name + \" \" +salary\n",
    "print(salary('Jhon','8000'))"
   ]
  },
  {
   "cell_type": "code",
   "execution_count": 6,
   "metadata": {},
   "outputs": [
    {
     "name": "stdout",
     "output_type": "stream",
     "text": [
      "2\n"
     ]
    }
   ],
   "source": [
    "def calculate_numbers(x, y, operation=\"add\"):\n",
    "    if operation == \"add\":\n",
    "        return x + y\n",
    "    elif operation == \"subtract\":\n",
    "        return x - y\n",
    "print(calculate_numbers(y=1, x=3, operation=\"subtract\"))"
   ]
  },
  {
   "cell_type": "code",
   "execution_count": 12,
   "metadata": {},
   "outputs": [
    {
     "name": "stdout",
     "output_type": "stream",
     "text": [
      "0\n"
     ]
    }
   ],
   "source": [
    "def addition(a, b, *args, option=True):\n",
    "   result = 0\n",
    "   if option:\n",
    "      for i in args:\n",
    "          result += i\n",
    "      return a + b + result\n",
    "   else:\n",
    "      return result\n",
    "\n",
    "print(addition(1,4,12,19, option=False))"
   ]
  },
  {
   "cell_type": "code",
   "execution_count": 1,
   "metadata": {},
   "outputs": [],
   "source": [
    "import csv\n",
    "\n",
    "data = [['name','age','postcode'],\n",
    "    ['John', 52, 5002],\n",
    "    ['Ye', 18, 3005],\n",
    "    ['Siobhan', 34, 2356]]\n",
    "extra_data = ['Jose', 44, 5125]\n",
    "\n",
    "with open('output.csv', 'w') as file:\n",
    "    writer = csv.writer(file)\n",
    "    writer.writerows(data)\n",
    "    writer.writerow(extra_data)"
   ]
  },
  {
   "cell_type": "code",
   "execution_count": 2,
   "metadata": {},
   "outputs": [
    {
     "name": "stdout",
     "output_type": "stream",
     "text": [
      "Array: [3 9 4 1 7 2]\n",
      "Index of maximum value: 1\n"
     ]
    }
   ],
   "source": [
    "import numpy as np\n",
    "\n",
    "arr = np.array([3, 9, 4, 1, 7, 2])\n",
    "max_index = np.argmax(arr)\n",
    "\n",
    "print(\"Array:\", arr)\n",
    "print(\"Index of maximum value:\", max_index)"
   ]
  },
  {
   "cell_type": "code",
   "execution_count": 3,
   "metadata": {},
   "outputs": [
    {
     "name": "stdout",
     "output_type": "stream",
     "text": [
      "Matrix:\n",
      "[[5 8 3]\n",
      " [1 0 2]\n",
      " [9 4 6]]\n",
      "Indices of maximum values along rows: [1 2 0]\n",
      "Indices of maximum values along columns: [2 0 2]\n"
     ]
    }
   ],
   "source": [
    "import numpy as np\n",
    "\n",
    "matrix = np.array([[5, 8, 3],\n",
    "                   [1, 0, 2],\n",
    "                   [9, 4, 6]])\n",
    "\n",
    "max_indices_row = np.argmax(matrix, axis=1)\n",
    "max_indices_column = np.argmax(matrix, axis=0)\n",
    "\n",
    "print(\"Matrix:\")\n",
    "print(matrix)\n",
    "print(\"Indices of maximum values along rows:\", max_indices_row)\n",
    "print(\"Indices of maximum values along columns:\", max_indices_column)"
   ]
  },
  {
   "cell_type": "code",
   "execution_count": 14,
   "metadata": {},
   "outputs": [],
   "source": [
    "import csv\n",
    "data = ['Jasmine',1,2030]\n",
    "with open('data.csv','a',newline='') as file:\n",
    "    result = csv.writer(file)\n",
    "    result.writerow(data)"
   ]
  },
  {
   "cell_type": "code",
   "execution_count": 17,
   "metadata": {},
   "outputs": [
    {
     "name": "stdout",
     "output_type": "stream",
     "text": [
      "{'data': [{'name': 'John', 'age': 52, 'postcode': 5002}, {'name': 'Ye', 'age': 18, 'postcode': 3005}, {'name': 'Siobhan', 'age': 34, 'postcode': 2356}]}\n",
      "[{'name': 'John', 'age': 52, 'postcode': 5002}, {'name': 'Ye', 'age': 18, 'postcode': 3005}, {'name': 'Siobhan', 'age': 34, 'postcode': 2356}]\n"
     ]
    }
   ],
   "source": [
    "import json\n",
    "jstr = '''{\"data\":[{\"name\":\"John\",\"age\":52,\"postcode\":5002},\n",
    "{\"name\":\"Ye\",\"age\":18,\"postcode\":3005},\n",
    "{\"name\":\"Siobhan\",\"age\":34,\"postcode\":2356}]\n",
    "}'''\n",
    "jdata = json.loads(jstr)\n",
    "print(jdata)\n",
    "data = jdata[\"data\"]\n",
    "print(data)"
   ]
  },
  {
   "cell_type": "code",
   "execution_count": 18,
   "metadata": {},
   "outputs": [
    {
     "name": "stdout",
     "output_type": "stream",
     "text": [
      "[['Liam', 'Emma', 'Olivia', 'Noah', 'Ava'], [3050, 2850, 2600, 2250, 1850]]\n",
      "{'Liam': -1550, 'Emma': -1350, 'Olivia': -1100, 'Noah': -750, 'Ava': -350}\n",
      "Ava\n"
     ]
    }
   ],
   "source": [
    "friends = ['Liam', 'Emma', 'Olivia', 'Noah', 'Ava']\n",
    "monthly_expense1 = [700, 500, 400, 300, 600] \n",
    "monthly_expense2 = [600, 500, 700, 550, 300] \n",
    "monthly_expense3 = [750, 350, 500, 400, 450]\n",
    "rent_paid_month1 = [True, True, False, True, False]\n",
    "rent_paid_month2 = [True, True, True, False, True]\n",
    "rent_paid_month3 = [False, True, True, True,False]\n",
    "\n",
    "total_expenses = []\n",
    "total_expenses.append(friends)\n",
    "\n",
    "month_t = []\n",
    "for i in range(len(monthly_expense1)):\n",
    "    rent = 500 if rent_paid_month1[i] else 0\n",
    "    total = monthly_expense1[i] + rent\n",
    "    month_t.append(total)\n",
    "\n",
    "for i in range(len(monthly_expense2)):\n",
    "    rent = 500 if rent_paid_month2[i] else 0\n",
    "    total = monthly_expense2[i] + rent\n",
    "    month_t[i] += total\n",
    "\n",
    "for i in range(len(monthly_expense3)):\n",
    "    rent = 500 if rent_paid_month3[i] else 0\n",
    "    total = monthly_expense3[i] + rent\n",
    "    month_t[i] += total\n",
    "\n",
    "total_expenses.append(month_t)\n",
    "print(total_expenses)\n",
    "\n",
    "#2 \n",
    "dict = {}\n",
    "for i in range(len(total_expenses[0])):\n",
    "    key = total_expenses[0][i]\n",
    "    value = total_expenses[1][i]\n",
    "    dict[key] = value\n",
    "\n",
    "diff = {}\n",
    "for k,v in dict.items():\n",
    "    value = 1500 - v\n",
    "    diff[k] = value\n",
    "print(diff)\n",
    "\n",
    "#3\n",
    "diff_name = ''\n",
    "max_v = max(diff.values())\n",
    "for k,v in diff.items():\n",
    "    if v == max_v:\n",
    "        diff_name = k\n",
    "print(diff_name)\n"
   ]
  },
  {
   "cell_type": "code",
   "execution_count": 20,
   "metadata": {},
   "outputs": [],
   "source": []
  },
  {
   "cell_type": "code",
   "execution_count": 5,
   "metadata": {},
   "outputs": [
    {
     "name": "stdout",
     "output_type": "stream",
     "text": [
      "{'New York': [25]}\n",
      "{'New York': [25], 'Los Angeles': [28]}\n",
      "{'New York': [25], 'Los Angeles': [28], 'Chicago': [20]}\n",
      "{'New York': [25], 'Los Angeles': [28], 'Chicago': [20], 'Houston': [32]}\n"
     ]
    },
    {
     "ename": "TypeError",
     "evalue": "'builtin_function_or_method' object is not subscriptable",
     "output_type": "error",
     "traceback": [
      "\u001b[0;31m---------------------------------------------------------------------------\u001b[0m",
      "\u001b[0;31mTypeError\u001b[0m                                 Traceback (most recent call last)",
      "Cell \u001b[0;32mIn[5], line 21\u001b[0m\n\u001b[1;32m     19\u001b[0m \u001b[39mfor\u001b[39;00m k,v \u001b[39min\u001b[39;00m \u001b[39mdict\u001b[39m\u001b[39m.\u001b[39mitems():\n\u001b[1;32m     20\u001b[0m     \u001b[39mif\u001b[39;00m k \u001b[39min\u001b[39;00m temperature:\n\u001b[0;32m---> 21\u001b[0m         temperature[k]\u001b[39m.\u001b[39mappend[v[\u001b[39m'\u001b[39m\u001b[39mtemperature\u001b[39m\u001b[39m'\u001b[39m]]\n\u001b[1;32m     22\u001b[0m     \u001b[39melse\u001b[39;00m:\n\u001b[1;32m     23\u001b[0m         temperature[k] \u001b[39m=\u001b[39m [v[\u001b[39m'\u001b[39m\u001b[39mtemperature\u001b[39m\u001b[39m'\u001b[39m]]\n",
      "\u001b[0;31mTypeError\u001b[0m: 'builtin_function_or_method' object is not subscriptable"
     ]
    }
   ],
   "source": []
  },
  {
   "cell_type": "code",
   "execution_count": 3,
   "metadata": {},
   "outputs": [
    {
     "name": "stdout",
     "output_type": "stream",
     "text": [
      "6\n"
     ]
    }
   ],
   "source": [
    "class Example:\n",
    "    y = 5\n",
    "    y += 1\n",
    "\n",
    "e = Example()\n",
    "print(e.y)"
   ]
  },
  {
   "cell_type": "code",
   "execution_count": 2,
   "metadata": {},
   "outputs": [
    {
     "name": "stdout",
     "output_type": "stream",
     "text": [
      "False\n"
     ]
    }
   ],
   "source": [
    "class Person:\n",
    "    pass\n",
    "\n",
    "p1 = Person()\n",
    "p2 = Person()\n",
    "print(p1 == p2)"
   ]
  },
  {
   "cell_type": "code",
   "execution_count": 4,
   "metadata": {},
   "outputs": [
    {
     "name": "stdout",
     "output_type": "stream",
     "text": [
      "<class '__main__.Person'>\n"
     ]
    }
   ],
   "source": [
    "class Person:\n",
    "    pass\n",
    "\n",
    "print(type(Person()))"
   ]
  },
  {
   "cell_type": "code",
   "execution_count": 5,
   "metadata": {},
   "outputs": [
    {
     "name": "stdout",
     "output_type": "stream",
     "text": [
      "Hello my name is John\n"
     ]
    }
   ],
   "source": [
    "class Person:\n",
    "    name = \"John\"\n",
    "    age = 36\n",
    "\n",
    "    def myfunc(xyz):\n",
    "        print(\"Hello my name is \" + xyz.name)\n",
    "\n",
    "p1 = Person()\n",
    "p1.myfunc()"
   ]
  },
  {
   "cell_type": "code",
   "execution_count": 6,
   "metadata": {},
   "outputs": [
    {
     "ename": "AttributeError",
     "evalue": "'int' object has no attribute 'age'",
     "output_type": "error",
     "traceback": [
      "\u001b[0;31m---------------------------------------------------------------------------\u001b[0m",
      "\u001b[0;31mAttributeError\u001b[0m                            Traceback (most recent call last)",
      "Cell \u001b[0;32mIn[6], line 9\u001b[0m\n\u001b[1;32m      6\u001b[0m         \u001b[39mreturn\u001b[39;00m \u001b[39mself\u001b[39m\u001b[39m.\u001b[39mage \u001b[39m+\u001b[39m num\n\u001b[1;32m      8\u001b[0m p1 \u001b[39m=\u001b[39m Person()\n\u001b[0;32m----> 9\u001b[0m p1\u001b[39m.\u001b[39mmyfunc(\u001b[39m12\u001b[39m)\n",
      "Cell \u001b[0;32mIn[6], line 6\u001b[0m, in \u001b[0;36mPerson.myfunc\u001b[0;34m(num, self)\u001b[0m\n\u001b[1;32m      5\u001b[0m \u001b[39mdef\u001b[39;00m \u001b[39mmyfunc\u001b[39m(num, \u001b[39mself\u001b[39m):\n\u001b[0;32m----> 6\u001b[0m     \u001b[39mreturn\u001b[39;00m \u001b[39mself\u001b[39m\u001b[39m.\u001b[39mage \u001b[39m+\u001b[39m num\n",
      "\u001b[0;31mAttributeError\u001b[0m: 'int' object has no attribute 'age'"
     ]
    }
   ],
   "source": [
    "class Person:\n",
    "    name = \"John\"\n",
    "    age = 36\n",
    "\n",
    "    def myfunc(num, self):\n",
    "        return self.age + num\n",
    "\n",
    "p1 = Person()\n",
    "p1.myfunc(12)"
   ]
  },
  {
   "cell_type": "code",
   "execution_count": 7,
   "metadata": {},
   "outputs": [
    {
     "name": "stdout",
     "output_type": "stream",
     "text": [
      "Hello my name is Danise\n"
     ]
    }
   ],
   "source": [
    "class Person:\n",
    "    name = \"John\"\n",
    "    age = 36\n",
    "\n",
    "    def myfunc(self):\n",
    "        print(\"Hello my name is \" + self.name)\n",
    "\n",
    "p1 = Person()\n",
    "p1.name = \"Danise\" \n",
    "p1.myfunc()"
   ]
  },
  {
   "cell_type": "code",
   "execution_count": 8,
   "metadata": {},
   "outputs": [
    {
     "name": "stdout",
     "output_type": "stream",
     "text": [
      "Hello my name is John\n"
     ]
    }
   ],
   "source": [
    "class Person:\n",
    "    name = \"John\"\n",
    "    age = 36\n",
    "\n",
    "    def myfunc(self):\n",
    "        print(\"Hello my name is \" + self.name)\n",
    "\n",
    "p1 = Person()\n",
    "p1.myfunc()"
   ]
  },
  {
   "cell_type": "code",
   "execution_count": 9,
   "metadata": {},
   "outputs": [
    {
     "name": "stdout",
     "output_type": "stream",
     "text": [
      "120\n"
     ]
    }
   ],
   "source": [
    "class Purchase:\n",
    "    def __init__(self,id):\n",
    "        self.id = id\n",
    "        id = 200\n",
    "\n",
    "purchase_val = Purchase(120)\n",
    "print(purchase_val.id)"
   ]
  },
  {
   "cell_type": "code",
   "execution_count": 10,
   "metadata": {},
   "outputs": [
    {
     "ename": "TypeError",
     "evalue": "Dog.doginfo() takes 0 positional arguments but 1 was given",
     "output_type": "error",
     "traceback": [
      "\u001b[0;31m---------------------------------------------------------------------------\u001b[0m",
      "\u001b[0;31mTypeError\u001b[0m                                 Traceback (most recent call last)",
      "Cell \u001b[0;32mIn[10], line 12\u001b[0m\n\u001b[1;32m      9\u001b[0m         \u001b[39mprint\u001b[39m(\u001b[39mself\u001b[39m\u001b[39m.\u001b[39mname \u001b[39m+\u001b[39m \u001b[39m\"\u001b[39m\u001b[39m is \u001b[39m\u001b[39m\"\u001b[39m \u001b[39m+\u001b[39m \u001b[39mstr\u001b[39m(\u001b[39mself\u001b[39m\u001b[39m.\u001b[39mage) \u001b[39m+\u001b[39m \u001b[39m\"\u001b[39m\u001b[39m year(s) old.\u001b[39m\u001b[39m\"\u001b[39m)\n\u001b[1;32m     11\u001b[0m d1 \u001b[39m=\u001b[39m Dog()\n\u001b[0;32m---> 12\u001b[0m d1\u001b[39m.\u001b[39mdoginfo()\n",
      "\u001b[0;31mTypeError\u001b[0m: Dog.doginfo() takes 0 positional arguments but 1 was given"
     ]
    }
   ],
   "source": [
    "class Dog:\n",
    "    name = \"filou\"\n",
    "    age = 12\n",
    "    \n",
    "    def bark():\n",
    "        print(\"bark bark!\")\n",
    "\n",
    "    def doginfo():\n",
    "        print(self.name + \" is \" + str(self.age) + \" year(s) old.\")\n",
    "        \n",
    "d1 = Dog()\n",
    "d1.doginfo()"
   ]
  },
  {
   "cell_type": "code",
   "execution_count": 11,
   "metadata": {},
   "outputs": [],
   "source": [
    "class Dog:\n",
    "    def __init__(self, name, age):\n",
    "        self.name = name\n",
    "        self.age = age\n",
    "\n",
    "class JackRussellTerrier(Dog):\n",
    "    pass\n",
    "\n",
    "class Dachshund(Dog):\n",
    "    pass\n",
    "\n",
    "class Bulldog(Dog):\n",
    "    pass\n",
    "\n",
    "miles = JackRussellTerrier(\"Miles\", 4)\n",
    "buddy = Dachshund(\"Buddy\", 9)\n",
    "jack = Bulldog(\"Jack\", 3)\n",
    "jim = Bulldog(\"Jim\", 5)"
   ]
  },
  {
   "cell_type": "code",
   "execution_count": 12,
   "metadata": {},
   "outputs": [
    {
     "name": "stdout",
     "output_type": "stream",
     "text": [
      "False\n"
     ]
    }
   ],
   "source": [
    "class X:\n",
    "    pass\n",
    "\n",
    "class Y:\n",
    "    pass\n",
    "\n",
    "class Z(X,Y):\n",
    "    pass\n",
    "\n",
    "print(isinstance(8, X))"
   ]
  },
  {
   "cell_type": "code",
   "execution_count": 13,
   "metadata": {},
   "outputs": [
    {
     "name": "stdout",
     "output_type": "stream",
     "text": [
      "True\n"
     ]
    }
   ],
   "source": [
    "class X:\n",
    "    pass\n",
    "\n",
    "class Y:\n",
    "    pass\n",
    "\n",
    "class Z(X,Y):\n",
    "    pass\n",
    "\n",
    "print(issubclass(Z, X))"
   ]
  },
  {
   "cell_type": "code",
   "execution_count": 14,
   "metadata": {},
   "outputs": [
    {
     "name": "stdout",
     "output_type": "stream",
     "text": [
      "(<class '__main__.M'>, <class '__main__.Z'>, <class '__main__.Y'>, <class '__main__.X'>, <class 'object'>)\n"
     ]
    }
   ],
   "source": [
    "class X: \n",
    "    def rk(self): \n",
    "        print(\" In class X\") \n",
    "\n",
    "class Y(X): \n",
    "    def rk(self): \n",
    "        print(\" In class Y\") \n",
    "\n",
    "class Z(X): \n",
    "    def rk(self): \n",
    "        print(\" In class Z\") \n",
    "\n",
    "        \n",
    "# classes ordering \n",
    "class M(Z, Y): \n",
    "    def __init__(self): \n",
    "        print(\"Constructor M\") \n",
    "    \n",
    "# prints the lookup order  \n",
    "print(M.__mro__) "
   ]
  },
  {
   "cell_type": "code",
   "execution_count": 15,
   "metadata": {},
   "outputs": [
    {
     "name": "stdout",
     "output_type": "stream",
     "text": [
      "[<class '__main__.M'>, <class '__main__.Z'>, <class '__main__.Y'>, <class '__main__.X'>, <class 'object'>]\n"
     ]
    }
   ],
   "source": [
    "class X: \n",
    "    def rk(self): \n",
    "        print(\" In class X\") \n",
    "\n",
    "class Y(X): \n",
    "    def rk(self): \n",
    "        print(\" In class Y\") \n",
    "\n",
    "class Z(X): \n",
    "    def rk(self): \n",
    "        print(\" In class Z\") \n",
    "\n",
    "        \n",
    "# classes ordering \n",
    "class M(Z, Y): \n",
    "    def __init__(self): \n",
    "        print(\"Constructor M\") \n",
    "    \n",
    "# prints the lookup order  \n",
    "print(M.mro())"
   ]
  },
  {
   "cell_type": "code",
   "execution_count": 16,
   "metadata": {},
   "outputs": [
    {
     "name": "stdout",
     "output_type": "stream",
     "text": [
      "22\n"
     ]
    }
   ],
   "source": [
    "class NumList:\n",
    "    def __init__(self):\n",
    "        self.__list = [] \n",
    "    \n",
    "    def add_value(self, val):\n",
    "        self.__list.append(val)\n",
    "    \n",
    "    def remove_value(self):\n",
    "        rv = self.__list[-1]\n",
    "        del self.__list[-1]\n",
    "        return rv\n",
    "    \n",
    "    def get_list(self):\n",
    "        return self.__list\n",
    "\n",
    "class Customer01(NumList):\n",
    "    def __init__(self):\n",
    "        NumList.__init__(self)\n",
    "        \n",
    "    def get_total(self):\n",
    "        return sum(NumList.get_list(self))\n",
    "    \n",
    "cust = Customer01()\n",
    "cust.add_value(2)\n",
    "cust.add_value(20)\n",
    "cust.add_value(44)\n",
    "cust.add_value(12)\n",
    "cust.remove_value()\n",
    "cust.remove_value()\n",
    "print(cust.get_total())"
   ]
  },
  {
   "cell_type": "code",
   "execution_count": 17,
   "metadata": {},
   "outputs": [
    {
     "name": "stdout",
     "output_type": "stream",
     "text": [
      "John True\n"
     ]
    }
   ],
   "source": [
    "class Person(object):\n",
    "    \n",
    "    def __init__(self, name):\n",
    "        self.name = name\n",
    "  \n",
    "    def getName(self):\n",
    "        return self.name\n",
    "  \n",
    "    def isEmployee(self):\n",
    "        return False\n",
    "    \n",
    "class Employee(Person):\n",
    "  \n",
    "    def isEmployee(self):\n",
    "        return True\n",
    "\n",
    "emp = Employee(\"John\")\n",
    "print(emp.getName(), emp.isEmployee())"
   ]
  },
  {
   "cell_type": "code",
   "execution_count": 18,
   "metadata": {},
   "outputs": [
    {
     "name": "stdout",
     "output_type": "stream",
     "text": [
      "Inside Car class\n"
     ]
    }
   ],
   "source": [
    "class Vehicle:\n",
    "    def vehicle_info(self):\n",
    "        print(\"Inside Vehicle class\")\n",
    "\n",
    "class Car(Vehicle):\n",
    "    def car_info(self):\n",
    "        print(\"Inside Car class\")\n",
    "\n",
    "class Truck(Vehicle):\n",
    "    def truck_info(self):\n",
    "        print(\"Inside Truck class\")\n",
    "\n",
    "class SportsCar(Car, Vehicle):\n",
    "    def sports_car_info(self):\n",
    "        print(\"Inside SportsCar class\")\n",
    "\n",
    "s_car = SportsCar()\n",
    "s_car.car_info()"
   ]
  },
  {
   "cell_type": "code",
   "execution_count": 19,
   "metadata": {},
   "outputs": [
    {
     "name": "stdout",
     "output_type": "stream",
     "text": [
      "In Class1\n"
     ]
    }
   ],
   "source": [
    "class Class1:\n",
    "    def m(self):\n",
    "        print(\"In Class1\")\n",
    "\n",
    "class Class2(Class1):\n",
    "    def m(self):\n",
    "        super().m()\n",
    "\n",
    "class Class3(Class1):\n",
    "    def m(self):\n",
    "        super().m()\n",
    "\n",
    "class Class4(Class2, Class3):\n",
    "    def m(self):\n",
    "        super().m()\n",
    "\n",
    "Class4().m()"
   ]
  },
  {
   "cell_type": "code",
   "execution_count": 8,
   "metadata": {},
   "outputs": [
    {
     "ename": "TypeError",
     "evalue": "__str__ returned non-string (type NoneType)",
     "output_type": "error",
     "traceback": [
      "\u001b[0;31m---------------------------------------------------------------------------\u001b[0m",
      "\u001b[0;31mTypeError\u001b[0m                                 Traceback (most recent call last)",
      "Cell \u001b[0;32mIn[8], line 34\u001b[0m\n\u001b[1;32m     31\u001b[0m car\u001b[39m=\u001b[39mCar(\u001b[39m180\u001b[39m,\u001b[39m4\u001b[39m,\u001b[39m4\u001b[39m,\u001b[39m2\u001b[39m,\u001b[39m\"\u001b[39m\u001b[39melectricity\u001b[39m\u001b[39m\"\u001b[39m)\n\u001b[1;32m     33\u001b[0m vehicle_list\u001b[39m=\u001b[39m[vehicle, tractor, car]\n\u001b[0;32m---> 34\u001b[0m \u001b[39mprint\u001b[39m(vehicle)\n",
      "\u001b[0;31mTypeError\u001b[0m: __str__ returned non-string (type NoneType)"
     ]
    }
   ],
   "source": [
    "class Vehicle:\n",
    "    def __init__(self,speed,doors,passengers,capacity):\n",
    "        self.speed=speed\n",
    "        self.doors=doors\n",
    "        self.passengers=passengers\n",
    "        self.capacity=capacity\n",
    "    def __repr__(self):\n",
    "        pass\n",
    "    def travel(self):\n",
    "        print(f\"I am {__class__.__name__} I am travelling\")\n",
    "\n",
    "class Tractor(Vehicle):\n",
    "    def __init__(self,speed,doors,passengers,capacity,attachments,size):\n",
    "        Vehicle.__init__(self, speed, doors, passengers, capacity)\n",
    "        self.attachments=attachments\n",
    "        self.size=size\n",
    "    \n",
    "    def __repr__(self):\n",
    "        return \"I am a beautiful Tractor. My size does not matter as I am beautiful as I am. However, if you must know, I am a size \"+self.size+\".\"\n",
    "\n",
    "class Car(Vehicle):\n",
    "    def __init__(self,speed,doors,passengers,capacity,fuel_type):\n",
    "        Vehicle.__init__(self, speed, doors, passengers, capacity)\n",
    "        self.fuel_type=fuel_type\n",
    "    \n",
    "    def __repr__(self):\n",
    "        return \"I am a car. I run on \"+self.fuel_type\n",
    "\n",
    "vehicle=Vehicle(50,4,4,2)\n",
    "tractor=Tractor(20,2,1,6,\"plow\",\"small\")\n",
    "car=Car(180,4,4,2,\"electricity\")\n",
    "\n",
    "vehicle_list=[vehicle, tractor, car]\n",
    "print(vehicle)\n"
   ]
  },
  {
   "cell_type": "code",
   "execution_count": 13,
   "metadata": {},
   "outputs": [
    {
     "ename": "AttributeError",
     "evalue": "'LionfishTwo' object has no attribute 'swim'",
     "output_type": "error",
     "traceback": [
      "\u001b[0;31m---------------------------------------------------------------------------\u001b[0m",
      "\u001b[0;31mAttributeError\u001b[0m                            Traceback (most recent call last)",
      "Cell \u001b[0;32mIn[13], line 49\u001b[0m\n\u001b[1;32m     46\u001b[0m         \u001b[39mprint\u001b[39m(\u001b[39m\"\u001b[39m\u001b[39mThe LionfishTwo\u001b[39m\u001b[39m'\u001b[39m\u001b[39ms skeleton is made of bone.\u001b[39m\u001b[39m\"\u001b[39m)\n\u001b[1;32m     48\u001b[0m LionFish \u001b[39m=\u001b[39m LionfishTwo()\n\u001b[0;32m---> 49\u001b[0m swimming(LionFish)\n",
      "Cell \u001b[0;32mIn[13], line 32\u001b[0m, in \u001b[0;36mswimming\u001b[0;34m(fish)\u001b[0m\n\u001b[1;32m     31\u001b[0m \u001b[39mdef\u001b[39;00m \u001b[39mswimming\u001b[39m(fish):\n\u001b[0;32m---> 32\u001b[0m     fish\u001b[39m.\u001b[39mswim()\n",
      "\u001b[0;31mAttributeError\u001b[0m: 'LionfishTwo' object has no attribute 'swim'"
     ]
    }
   ],
   "source": [
    "class Fish():\n",
    "    def swim(self):\n",
    "        print(\"The fish is swimming.\")\n",
    "\n",
    "    def swim_backwards(self):\n",
    "        print(\"The fish might swim backwards.\")\n",
    "\n",
    "    def skeleton(self):\n",
    "        print(\"The fish has a skeleton.\")\n",
    "class Shark(Fish):\n",
    "    def swim(self):\n",
    "        print(\"The shark is swimming.\")\n",
    "\n",
    "    def swim_backwards(self):\n",
    "        print(\"The shark cannot swim backwards, but can sink backwards.\")\n",
    "\n",
    "    def skeleton(self):\n",
    "        print(\"The shark's skeleton is made of cartilage.\")\n",
    "\n",
    "\n",
    "class Clownfish(Fish):\n",
    "    def swim(self):\n",
    "        print(\"The clownfish is swimming.\")\n",
    "\n",
    "    def swim_backwards(self):\n",
    "        print(\"The clownfish can swim backwards.\")\n",
    "\n",
    "    def skeleton(self):\n",
    "        print(\"The clownfish's skeleton is made of bone.\")\n",
    "\n",
    "def swimming(fish):\n",
    "    fish.swim()\n",
    "\n",
    "class Lionfish(Fish):\n",
    "    def swim_backwards(self):\n",
    "        print(\"The Lionfish can swim backwards.\")\n",
    "\n",
    "    def skeleton(self):\n",
    "        print(\"The Lionfish's skeleton is made of bone.\")\n",
    "    \n",
    "class LionfishTwo:\n",
    "    def swim_backwards(self):\n",
    "        print(\"The LionfishTwo can swim backwards.\")\n",
    "\n",
    "    def skeleton(self):\n",
    "        print(\"The LionfishTwo's skeleton is made of bone.\")\n",
    "\n",
    "LionFish = LionfishTwo()\n",
    "swimming(LionFish)"
   ]
  },
  {
   "cell_type": "code",
   "execution_count": null,
   "metadata": {},
   "outputs": [],
   "source": [
    "# This is adjacency matrix for a directed graph, we can find the nodes A, B, C, D, E. \n",
    "\n",
    "# Based on the directed graph provided:\n",
    "# A has directed edges to E.\n",
    "# B has a directed edge to A.\n",
    "# C has no outgoing directed edges.\n",
    "# D has no outgoing directed edges.\n",
    "# E has directed edges to B and F.\n",
    "# F has a directed edge to C and D.\n",
    "\n",
    "import numpy as np\n",
    "\n",
    "# 节点列表\n",
    "nodes = ['A', 'B', 'C', 'D', 'E', 'F']\n",
    "\n",
    "# 初始化一个6x6的零矩阵\n",
    "matrix = np.zeros((6, 6), dtype=int)\n",
    "# 定义边\n",
    "edges = [\n",
    "    ('A', 'E'),\n",
    "    ('B', 'A'),\n",
    "    ('E', 'F'),\n",
    "    ('E', 'B'),\n",
    "    ('F', 'C'),\n",
    "    ('F', 'D')\n",
    "]\n",
    "for edge in edges:\n",
    "    i = nodes.index(edge[0])\n",
    "    j = nodes.index(edge[1])\n",
    "    matrix[i][j] = 1\n",
    "\n",
    "print(matrix)"
   ]
  },
  {
   "cell_type": "code",
   "execution_count": null,
   "metadata": {},
   "outputs": [],
   "source": [
    "pre_order = [1, 2, 4, 5, 3, 6]\n",
    "in_order = [4, 2, 5, 1, 3, 6]\n",
    "post_order = [4, 5, 2, 6, 3, 1]\n",
    "# Pre-order Traversal (Root, Left, Right):\n",
    "\n",
    "# Visit the root.\n",
    "# Traverse the left subtree.\n",
    "# Traverse the right subtree.\n",
    "# For the given tree: 1, 2, 4, 5, 3, 6\n",
    "\n",
    "# In-order Traversal (Left, Root, Right):\n",
    "\n",
    "# Traverse the left subtree.\n",
    "# Visit the root.\n",
    "# Traverse the right subtree.\n",
    "# For the given tree: 4, 2, 5, 1, 3, 6\n",
    "\n",
    "# Post-order Traversal (Left, Right, Root):\n",
    "\n",
    "# Traverse the left subtree.\n",
    "# Traverse the right subtree.\n",
    "# Visit the root.\n",
    "# For the given tree: 4, 5, 2, 6, 3, 1"
   ]
  },
  {
   "cell_type": "markdown",
   "metadata": {},
   "source": [
    "<!-- 1. **Algorithmic Nature and Implementation**:\n",
    "    - **BFS**: It explores the graph level by level. Starting from the source vertex, it explores all its neighboring vertices at the current depth before moving on to nodes at the next depth level. It is usually implemented using a queue.\n",
    "    - **DFS**: It explores as far as possible along a branch before backtracking. Starting from the source vertex, it goes as deep as it can down one path before backtracking to explore other paths. DFS can be implemented recursively (using the system call stack) or iteratively using a manual stack.\n",
    "2. **Time and Space Complexity**:\n",
    "    - **BFS**: The time complexity for BFS on a graph is *O*(*V*+*E*), where *V* is the number of vertices and *E* is the number of edges. The space complexity can be high in worst-case scenarios, especially for dense graphs, as it needs to store all vertices of the current level. The space complexity is *O*(*V*) for the worst case.\n",
    "    - **DFS**: The time complexity for DFS is also *O*(*V*+*E*), but its space complexity can be better than BFS in scenarios where the graph has a large width, as DFS doesn't necessarily need to store all nodes at a given depth. The worst-case space complexity is *O*(*V*), but in practice, it can be lower for sparsely connected graphs.\n",
    "\n",
    "1. **Suitability to Different Problems**:\n",
    "    - **BFS**: Given its level-by-level exploration nature, BFS is suitable for problems where the shortest path is required, especially in unweighted graphs. It's also useful in problems that require checking the connectivity between nodes or determining the shortest distance from a source to all other nodes.\n",
    "    - **DFS**: DFS is suitable for problems that need to explore all paths, such as detecting cycles, topological sorting, or finding paths in mazes. It's also often easier to implement recursively, which can be useful in certain problems like those involving tree structures or divide-and-conquer strategies.\n",
    "\n",
    "In conclusion, while BFS and DFS are both foundational graph traversal algorithms, they have distinct characteristics and are suitable for different types of problems based on their inherent properties and complexities. -->"
   ]
  },
  {
   "cell_type": "code",
   "execution_count": 3,
   "metadata": {},
   "outputs": [
    {
     "name": "stdout",
     "output_type": "stream",
     "text": [
      "(['Penneshaw', 'Pelican Lagoon', 'American River', 'Cygnet River', 'Kingscote'], 142)\n",
      "(['Flinders Chase', 'Karatta', 'Vivonne Bay', 'Parndana', 'Cygnet River', 'American River', 'Pelican Lagoon', 'Penneshaw'], 268)\n",
      "(None, inf)\n"
     ]
    }
   ],
   "source": [
    "import math\n",
    "\n",
    "class RoadNetwork:\n",
    "    def __init__(self):\n",
    "        # Initialize the graph as an empty dictionary\n",
    "        self.graph = {}\n",
    "    \n",
    "    def add_edge(self, town1, town2, weight):\n",
    "        if town1 not in self.graph:\n",
    "            self.graph[town1] = []\n",
    "    \n",
    "        if town2 not in self.graph:\n",
    "            self.graph[town2] = []\n",
    "\n",
    "        self.graph[town1].append((town2, weight))\n",
    "        self.graph[town2].append((town1, weight))\n",
    "        \n",
    "    def shortest_path(self, start_town, destination_town):\n",
    "        # Check if the start and destination towns are in the graph\n",
    "        if start_town not in self.graph or destination_town not in self.graph:\n",
    "            return None, math.inf\n",
    "        \n",
    "        # Dijkstra's algorithm\n",
    "        distances = {town: math.inf for town in self.graph}\n",
    "        prev_town = {town: None for town in self.graph}\n",
    "        distances[start_town] = 0\n",
    "        towns = list(self.graph.keys())\n",
    "\n",
    "        while towns:\n",
    "            current_town = min(towns, key=lambda vertex: distances[vertex])\n",
    "            towns.remove(current_town)\n",
    "            \n",
    "            if distances[current_town] == math.inf:\n",
    "                break\n",
    "            \n",
    "            for neighbour, weight in self.graph[current_town]:\n",
    "                alternative_route = distances[current_town] + weight\n",
    "                if alternative_route < distances[neighbour]:\n",
    "                    distances[neighbour] = alternative_route\n",
    "                    prev_town[neighbour] = current_town\n",
    "\n",
    "        # Reconstruct the path\n",
    "        path, current_town = [], destination_town\n",
    "        while prev_town[current_town] is not None:\n",
    "            path.insert(0, current_town)\n",
    "            current_town = prev_town[current_town]\n",
    "        if path:\n",
    "            path.insert(0, current_town)\n",
    "        \n",
    "        return path, distances[destination_town]\n",
    "\n",
    "# Populate the road network\n",
    "net = RoadNetwork()\n",
    "net.add_edge('Penneshaw', 'Pelican Lagoon', 51)\n",
    "net.add_edge('Pelican Lagoon', 'American River', 30)\n",
    "net.add_edge('American River', 'Cygnet River', 47)\n",
    "net.add_edge('Cygnet River', 'Kingscote', 14)\n",
    "net.add_edge('Kingscote', 'Emu Bay', 14)\n",
    "net.add_edge('Cygnet River', 'Parndana', 27)\n",
    "net.add_edge('Parndana', 'Vivonne Bay', 27)\n",
    "net.add_edge('Vivonne Bay', 'Karatta', 42)\n",
    "net.add_edge('Karatta', 'Flinders Chase', 44)\n",
    "net.add_edge('Flinders Chase', 'Cape Borda', 50)\n",
    "\n",
    "# Test cases\n",
    "print(net.shortest_path(\"Penneshaw\", \"Kingscote\"))\n",
    "print(net.shortest_path(\"Flinders Chase\", \"Penneshaw\"))\n",
    "print(net.shortest_path(\"Penneshaw\", \"Seal Bay\"))\n"
   ]
  },
  {
   "cell_type": "code",
   "execution_count": 1,
   "metadata": {},
   "outputs": [],
   "source": [
    "class Node:\n",
    "    def __init__(self, filename, filesize):\n",
    "        self.filename = filename\n",
    "        self.filesize = filesize\n",
    "        self.left = None\n",
    "        self.right = None\n",
    "\n",
    "class FolderSearch:\n",
    "    def __init__(self):\n",
    "        self.root = None\n",
    "        self.total_size = 0\n",
    "\n",
    "    def insert(self, filename, filesize):\n",
    "        '''Insert a file into the folder.'''\n",
    "        self.root = self._insert(self.root, filename, filesize)\n",
    "        self.total_size += filesize\n",
    "\n",
    "    def _insert(self, current, filename, filesize):\n",
    "        if current is None:\n",
    "            return Node(filename, filesize)\n",
    "\n",
    "        if filename < current.filename:\n",
    "            current.left = self._insert(current.left, filename, filesize)\n",
    "        elif filename > current.filename:\n",
    "            current.right = self._insert(current.right, filename, filesize)\n",
    "        # If filename is same, we just update the filesize (assuming filenames are unique)\n",
    "        else:\n",
    "            self.total_size -= current.filesize  \n",
    "            current.filesize = filesize\n",
    "\n",
    "        return current\n",
    "\n",
    "    def find(self, filename):\n",
    "        '''Return True if the filename exists in the folder, otherwise False.'''\n",
    "        return self._find(self.root, filename) is not None\n",
    "\n",
    "    def _find(self, current, filename):\n",
    "        if current is None:\n",
    "            return None\n",
    "        if filename == current.filename:\n",
    "            return current\n",
    "        elif filename < current.filename:\n",
    "            return self._find(current.left, filename)\n",
    "        else:\n",
    "            return self._find(current.right, filename)\n",
    "\n",
    "    def file_size(self, filename):\n",
    "        '''Return the size of the file.'''\n",
    "        node = self._find(self.root, filename)\n",
    "        if node:\n",
    "            return node.filesize\n",
    "        else:\n",
    "            return None  # or raise an exception depending on the requirements\n",
    "\n",
    "    def folder_size(self):\n",
    "        '''Return the sum of the sizes of all files in the folder.'''\n",
    "        return self.total_size"
   ]
  },
  {
   "cell_type": "code",
   "execution_count": null,
   "metadata": {},
   "outputs": [],
   "source": []
  }
 ],
 "metadata": {
  "kernelspec": {
   "display_name": "base",
   "language": "python",
   "name": "python3"
  },
  "language_info": {
   "codemirror_mode": {
    "name": "ipython",
    "version": 3
   },
   "file_extension": ".py",
   "mimetype": "text/x-python",
   "name": "python",
   "nbconvert_exporter": "python",
   "pygments_lexer": "ipython3",
   "version": "3.11.3"
  },
  "orig_nbformat": 4
 },
 "nbformat": 4,
 "nbformat_minor": 2
}
