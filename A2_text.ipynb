{
 "cells": [
  {
   "cell_type": "code",
   "execution_count": 1,
   "metadata": {},
   "outputs": [
    {
     "name": "stdout",
     "output_type": "stream",
     "text": [
      "False\n",
      "True\n",
      "True\n",
      "False\n",
      "True\n",
      "False\n",
      "False\n",
      "True\n"
     ]
    }
   ],
   "source": [
    "a = 6\n",
    "b = 8\n",
    "print(a == b)\n",
    "print(a != b)\n",
    "print(a < b)\n",
    "print(a > b)\n",
    "print(a <= b)\n",
    "print(a >= b)\n",
    "print(a == b and a<= b)\n",
    "print(a == b or a<= b)"
   ]
  },
  {
   "cell_type": "code",
   "execution_count": null,
   "metadata": {},
   "outputs": [],
   "source": [
    "person1_age = 65\n",
    "person2_age = 55\n",
    "person1_income = 1000\n",
    "person2_income = 800\n"
   ]
  },
  {
   "cell_type": "code",
   "execution_count": 2,
   "metadata": {},
   "outputs": [
    {
     "name": "stdout",
     "output_type": "stream",
     "text": [
      "True\n"
     ]
    }
   ],
   "source": [
    "a = 5\n",
    "b = 5.0\n",
    "print(a == b)"
   ]
  },
  {
   "cell_type": "code",
   "execution_count": 4,
   "metadata": {},
   "outputs": [
    {
     "name": "stdout",
     "output_type": "stream",
     "text": [
      "False\n"
     ]
    }
   ],
   "source": [
    "person1_age = 50\n",
    "person2_age = 30\n",
    "same_age = person1_age == person2_age\n",
    "print(same_age)"
   ]
  },
  {
   "cell_type": "code",
   "execution_count": 7,
   "metadata": {},
   "outputs": [
    {
     "name": "stdout",
     "output_type": "stream",
     "text": [
      "False\n"
     ]
    }
   ],
   "source": [
    "age = 70\n",
    "print (age > 14 and age < 60)"
   ]
  },
  {
   "cell_type": "code",
   "execution_count": 8,
   "metadata": {},
   "outputs": [
    {
     "name": "stdout",
     "output_type": "stream",
     "text": [
      "person1 is employable\n",
      "person2 is not employable\n"
     ]
    }
   ],
   "source": [
    "person1_age = 20\n",
    "person2_age = 16\n",
    "if person1_age >= 18:\n",
    "    print(\"person1 is employable\")\n",
    "else :\n",
    "    print(\"person1 is not employable\")\n",
    "if person2_age >= 18:\n",
    "    print(\"person2 is employable\")\n",
    "else :\n",
    "    print(\"person2 is not employable\")\n",
    "\n"
   ]
  },
  {
   "cell_type": "code",
   "execution_count": 12,
   "metadata": {},
   "outputs": [
    {
     "name": "stdout",
     "output_type": "stream",
     "text": [
      "1.7671458676442584\n",
      "7.0685834705770345\n"
     ]
    }
   ],
   "source": [
    "r = .75\n",
    "import math\n",
    "Surface_Area = 4*math.pi*(r**2)\n",
    "Volume = 4/3*math.pi*(r**3)\n",
    "print(Volume)\n",
    "print(Surface_Area)"
   ]
  },
  {
   "cell_type": "code",
   "execution_count": 13,
   "metadata": {},
   "outputs": [
    {
     "name": "stdout",
     "output_type": "stream",
     "text": [
      "8.0152\n"
     ]
    }
   ],
   "source": [
    "vab1 = float(input(\"Please input a float number: \"))\n",
    "vab2 = float(input(\"Please input a float number: \"))\n",
    "print(vab1 * vab2)"
   ]
  },
  {
   "cell_type": "code",
   "execution_count": 14,
   "metadata": {},
   "outputs": [
    {
     "name": "stdout",
     "output_type": "stream",
     "text": [
      "12\n"
     ]
    }
   ],
   "source": [
    "vab1 = float(input(\"Please input a float number: \"))\n",
    "vab2 = float(input(\"Please input a float number: \"))\n",
    "print(int(vab1) * int(vab2))"
   ]
  },
  {
   "cell_type": "code",
   "execution_count": 15,
   "metadata": {},
   "outputs": [
    {
     "name": "stdout",
     "output_type": "stream",
     "text": [
      "3\n"
     ]
    }
   ],
   "source": [
    "str1 = \"Welcome to XYZ. xyz is awesome, isn't it? XyZ is locted near the city\"\n",
    "str2 = str1.upper()\n",
    "count = str2.count(\"XYZ\")\n",
    "print(count)"
   ]
  },
  {
   "cell_type": "code",
   "execution_count": 16,
   "metadata": {},
   "outputs": [
    {
     "data": {
      "text/plain": [
       "True"
      ]
     },
     "execution_count": 16,
     "metadata": {},
     "output_type": "execute_result"
    }
   ],
   "source": [
    "(2 < 6) or (9 > 3)"
   ]
  },
  {
   "cell_type": "code",
   "execution_count": 17,
   "metadata": {},
   "outputs": [
    {
     "data": {
      "text/plain": [
       "False"
      ]
     },
     "execution_count": 17,
     "metadata": {},
     "output_type": "execute_result"
    }
   ],
   "source": [
    "(2 > 5) and (7 > 5)"
   ]
  },
  {
   "cell_type": "code",
   "execution_count": 22,
   "metadata": {},
   "outputs": [
    {
     "name": "stdout",
     "output_type": "stream",
     "text": [
      "8\n"
     ]
    }
   ],
   "source": [
    "idx = 4\n",
    "if idx >= 5:\n",
    "    print(idx+10*2)\n",
    "else:\n",
    "    idx = idx + 3\n",
    "idx = idx+1\n",
    "print(idx)"
   ]
  },
  {
   "cell_type": "code",
   "execution_count": 27,
   "metadata": {},
   "outputs": [
    {
     "name": "stdout",
     "output_type": "stream",
     "text": [
      "The number can be divisible by 3.\n"
     ]
    }
   ],
   "source": [
    "input4 = float(input(\"input an number: \"))\n",
    "if input4 %3 == 0 :\n",
    "    print(\"The number can be divisible by 3.\")\n",
    "elif input4 %5 == 0:\n",
    "    print(\"The number can be divisible by 5.\")\n",
    "elif input4 %3 == 0 and input4%5 == 0:\n",
    "    print(\"The number can be divisible by 3 and 5.\")\n",
    "else:\n",
    "    print(print(\"The number can not be divisible by 3 and 5.\"))\n"
   ]
  },
  {
   "cell_type": "code",
   "execution_count": 36,
   "metadata": {},
   "outputs": [],
   "source": [
    "age = int(input(\"Please input your age: \"))\n",
    "sym = input('Do you have any symptoms? (y/n): ')\n",
    "if age >= 40 and sym == \"y\":\n",
    "    print(\"Please get tested.\")\n",
    "elif age < 40 and sym == \"y\":\n",
    "    print(\"Please get self-isolated.\")\n",
    "else:\n",
    "    print(\"You should keep social distance.\")"
   ]
  },
  {
   "cell_type": "code",
   "execution_count": 7,
   "metadata": {},
   "outputs": [
    {
     "ename": "NameError",
     "evalue": "name 'pdb' is not defined",
     "output_type": "error",
     "traceback": [
      "\u001b[0;31m---------------------------------------------------------------------------\u001b[0m",
      "\u001b[0;31mNameError\u001b[0m                                 Traceback (most recent call last)",
      "Cell \u001b[0;32mIn[7], line 7\u001b[0m\n\u001b[1;32m      5\u001b[0m     \u001b[39mimport\u001b[39;00m \u001b[39mpdb\u001b[39;00m\n\u001b[1;32m      6\u001b[0m     \u001b[39m# [insert a breakpoint here]\u001b[39;00m\n\u001b[0;32m----> 7\u001b[0m pdb\u001b[39m.\u001b[39mset_trace(num1)\n\u001b[1;32m      9\u001b[0m     \u001b[39m# a difference should not be negative, so if the first\u001b[39;00m\n\u001b[1;32m     10\u001b[0m     \u001b[39m# number is smaller than the second, swap the numbers around\u001b[39;00m\n\u001b[1;32m     11\u001b[0m \u001b[39mif\u001b[39;00m (num1 \u001b[39m<\u001b[39m num2):\n",
      "\u001b[0;31mNameError\u001b[0m: name 'pdb' is not defined"
     ]
    }
   ],
   "source": [
    "# here a function is defined, do not worry about \n",
    "# how this works if you have not learnt functions yet.\n",
    "def diff(num1, num2):\n",
    "\n",
    "    import pdb\n",
    "    # [insert a breakpoint here]\n",
    "pdb.set_trace()\n",
    "\n",
    "    # a difference should not be negative, so if the first\n",
    "    # number is smaller than the second, swap the numbers around\n",
    "if (num1 < num2):\n",
    "        num1 = num2\n",
    "        num2 = num1\n",
    "\n",
    "    # find the difference between the two numbers using subtraction\n",
    "difference = num1 - num2\n",
    "print(difference)\n",
    "\n",
    "# run the diff function to find the difference between 10 and 15; \n",
    "# we expect this to be 5\n",
    "diff(10, 15)"
   ]
  },
  {
   "cell_type": "code",
   "execution_count": 17,
   "metadata": {},
   "outputs": [
    {
     "name": "stdout",
     "output_type": "stream",
     "text": [
      "10\n"
     ]
    }
   ],
   "source": [
    "total = 0\n",
    "count = 0\n",
    "while(count<10):\n",
    "    total = total + count\n",
    "    count = count + 1 \n",
    "   \n",
    "    if count== 5:\n",
    "        break #try changing this to break and pass and redraw the trace tables\n",
    "    \n",
    "print(total)"
   ]
  },
  {
   "cell_type": "code",
   "execution_count": 2,
   "metadata": {},
   "outputs": [
    {
     "name": "stdout",
     "output_type": "stream",
     "text": [
      "Getter for the name\n",
      "Student Name: John Smith\n"
     ]
    },
    {
     "ename": "TypeError",
     "evalue": "Student.name() takes 1 positional argument but 2 were given",
     "output_type": "error",
     "traceback": [
      "\u001b[0;31m---------------------------------------------------------------------------\u001b[0m",
      "\u001b[0;31mTypeError\u001b[0m                                 Traceback (most recent call last)",
      "Cell \u001b[0;32mIn[2], line 18\u001b[0m\n\u001b[1;32m     16\u001b[0m student \u001b[39m=\u001b[39m Student(\u001b[39m\"\u001b[39m\u001b[39mJohn\u001b[39m\u001b[39m\"\u001b[39m, \u001b[39m\"\u001b[39m\u001b[39mSmith\u001b[39m\u001b[39m\"\u001b[39m)\n\u001b[1;32m     17\u001b[0m \u001b[39mprint\u001b[39m(\u001b[39m\"\u001b[39m\u001b[39mStudent Name:\u001b[39m\u001b[39m\"\u001b[39m, student\u001b[39m.\u001b[39mname())\n\u001b[0;32m---> 18\u001b[0m student\u001b[39m.\u001b[39;49mname(\u001b[39m\"\u001b[39;49m\u001b[39mJohnny Smith\u001b[39;49m\u001b[39m\"\u001b[39;49m)\n\u001b[1;32m     19\u001b[0m \u001b[39mprint\u001b[39m(\u001b[39m\"\u001b[39m\u001b[39mAfter setting:\u001b[39m\u001b[39m\"\u001b[39m, student\u001b[39m.\u001b[39mname())\n",
      "\u001b[0;31mTypeError\u001b[0m: Student.name() takes 1 positional argument but 2 were given"
     ]
    }
   ],
   "source": [
    "class Student:\n",
    "    def __init__(self, first_name, last_name):\n",
    "        self.first_name = first_name\n",
    "        self.last_name = last_name\n",
    "    \n",
    "    # @property\n",
    "    def name(self):\n",
    "        print(\"Getter for the name\")\n",
    "        return f\"{self.first_name} {self.last_name}\"\n",
    "    \n",
    "    # @name.setter\n",
    "    def name(self, name):\n",
    "        print(\"Setter for the name\")\n",
    "        self.first_name, self.last_name = name.split()\n",
    "        \n",
    "student = Student(\"John\", \"Smith\")\n",
    "print(\"Student Name:\", student.name())\n",
    "student.name(\"Johnny Smith\")\n",
    "print(\"After setting:\", student.name())"
   ]
  },
  {
   "cell_type": "code",
   "execution_count": 22,
   "metadata": {},
   "outputs": [
    {
     "ename": "KeyboardInterrupt",
     "evalue": "Interrupted by user",
     "output_type": "error",
     "traceback": [
      "\u001b[0;31m---------------------------------------------------------------------------\u001b[0m",
      "\u001b[0;31mKeyboardInterrupt\u001b[0m                         Traceback (most recent call last)",
      "Cell \u001b[0;32mIn[22], line 5\u001b[0m\n\u001b[1;32m      3\u001b[0m \u001b[39mwhile\u001b[39;00m \u001b[39mTrue\u001b[39;00m:\n\u001b[1;32m      4\u001b[0m     guess \u001b[39m=\u001b[39m random\u001b[39m.\u001b[39mrandint(\u001b[39m1\u001b[39m, \u001b[39m100\u001b[39m)\n\u001b[0;32m----> 5\u001b[0m     question \u001b[39m=\u001b[39m \u001b[39minput\u001b[39;49m(\u001b[39m\"\u001b[39;49m\u001b[39mIt\u001b[39;49m\u001b[39m'\u001b[39;49m\u001b[39ms the right number?\u001b[39;49m\u001b[39m\"\u001b[39;49m)\n\u001b[1;32m      6\u001b[0m     \u001b[39mif\u001b[39;00m question\u001b[39m.\u001b[39mlower() \u001b[39m==\u001b[39m \u001b[39m\"\u001b[39m\u001b[39mYes\u001b[39m\u001b[39m\"\u001b[39m:\n\u001b[1;32m      7\u001b[0m         \u001b[39mpass\u001b[39;00m\n",
      "File \u001b[0;32m~/miniconda3/lib/python3.11/site-packages/ipykernel/kernelbase.py:1202\u001b[0m, in \u001b[0;36mKernel.raw_input\u001b[0;34m(self, prompt)\u001b[0m\n\u001b[1;32m   1200\u001b[0m     msg \u001b[39m=\u001b[39m \u001b[39m\"\u001b[39m\u001b[39mraw_input was called, but this frontend does not support input requests.\u001b[39m\u001b[39m\"\u001b[39m\n\u001b[1;32m   1201\u001b[0m     \u001b[39mraise\u001b[39;00m StdinNotImplementedError(msg)\n\u001b[0;32m-> 1202\u001b[0m \u001b[39mreturn\u001b[39;00m \u001b[39mself\u001b[39;49m\u001b[39m.\u001b[39;49m_input_request(\n\u001b[1;32m   1203\u001b[0m     \u001b[39mstr\u001b[39;49m(prompt),\n\u001b[1;32m   1204\u001b[0m     \u001b[39mself\u001b[39;49m\u001b[39m.\u001b[39;49m_parent_ident[\u001b[39m\"\u001b[39;49m\u001b[39mshell\u001b[39;49m\u001b[39m\"\u001b[39;49m],\n\u001b[1;32m   1205\u001b[0m     \u001b[39mself\u001b[39;49m\u001b[39m.\u001b[39;49mget_parent(\u001b[39m\"\u001b[39;49m\u001b[39mshell\u001b[39;49m\u001b[39m\"\u001b[39;49m),\n\u001b[1;32m   1206\u001b[0m     password\u001b[39m=\u001b[39;49m\u001b[39mFalse\u001b[39;49;00m,\n\u001b[1;32m   1207\u001b[0m )\n",
      "File \u001b[0;32m~/miniconda3/lib/python3.11/site-packages/ipykernel/kernelbase.py:1245\u001b[0m, in \u001b[0;36mKernel._input_request\u001b[0;34m(self, prompt, ident, parent, password)\u001b[0m\n\u001b[1;32m   1242\u001b[0m \u001b[39mexcept\u001b[39;00m \u001b[39mKeyboardInterrupt\u001b[39;00m:\n\u001b[1;32m   1243\u001b[0m     \u001b[39m# re-raise KeyboardInterrupt, to truncate traceback\u001b[39;00m\n\u001b[1;32m   1244\u001b[0m     msg \u001b[39m=\u001b[39m \u001b[39m\"\u001b[39m\u001b[39mInterrupted by user\u001b[39m\u001b[39m\"\u001b[39m\n\u001b[0;32m-> 1245\u001b[0m     \u001b[39mraise\u001b[39;00m \u001b[39mKeyboardInterrupt\u001b[39;00m(msg) \u001b[39mfrom\u001b[39;00m \u001b[39mNone\u001b[39;00m\n\u001b[1;32m   1246\u001b[0m \u001b[39mexcept\u001b[39;00m \u001b[39mException\u001b[39;00m:\n\u001b[1;32m   1247\u001b[0m     \u001b[39mself\u001b[39m\u001b[39m.\u001b[39mlog\u001b[39m.\u001b[39mwarning(\u001b[39m\"\u001b[39m\u001b[39mInvalid Message:\u001b[39m\u001b[39m\"\u001b[39m, exc_info\u001b[39m=\u001b[39m\u001b[39mTrue\u001b[39;00m)\n",
      "\u001b[0;31mKeyboardInterrupt\u001b[0m: Interrupted by user"
     ]
    }
   ],
   "source": [
    "import random\n",
    "guess = input(\"Pick a number between 1 and 100 and I'll try to guess it\")\n",
    "while True:\n",
    "    guess = random.randint(1, 100)\n",
    "    question = input(\"It's the right number?\")\n",
    "    if question.lower() == \"Yes\":\n",
    "        pass\n",
    "print(f\"Good, Your number is {guess}\")\n"
   ]
  },
  {
   "cell_type": "code",
   "execution_count": 5,
   "metadata": {},
   "outputs": [
    {
     "name": "stdout",
     "output_type": "stream",
     "text": [
      "guess: 9\n",
      "guess: 6\n",
      "guess: 8\n",
      "Sorry! You failed!\n"
     ]
    }
   ],
   "source": [
    "secert_number = 5 \n",
    "guess_count = 0\n",
    "guess_limit = 3\n",
    "while guess_count <guess_limit:\n",
    "    guess = int(input(\"guess a number: \"))\n",
    "    guess_count += 1\n",
    "    if guess == secert_number:\n",
    "        print(\"You won!\")\n",
    "        break\n",
    "    print(f\"guess: {guess}\")\n",
    "else:\n",
    "    print(\"Sorry! You failed!\")"
   ]
  },
  {
   "cell_type": "code",
   "execution_count": 6,
   "metadata": {},
   "outputs": [
    {
     "name": "stdout",
     "output_type": "stream",
     "text": [
      "quit\n"
     ]
    }
   ],
   "source": [
    "comnand = input('> ')\n",
    "print(comnand)"
   ]
  },
  {
   "cell_type": "code",
   "execution_count": 10,
   "metadata": {},
   "outputs": [
    {
     "name": "stdout",
     "output_type": "stream",
     "text": [
      "start - to start the car \n",
      " stop - to stop the car \n",
      " quit - to quit\n",
      "start - to start the car \n",
      " stop - to stop the car \n",
      " quit - to quit\n"
     ]
    },
    {
     "ename": "KeyboardInterrupt",
     "evalue": "Interrupted by user",
     "output_type": "error",
     "traceback": [
      "\u001b[0;31m---------------------------------------------------------------------------\u001b[0m",
      "\u001b[0;31mKeyboardInterrupt\u001b[0m                         Traceback (most recent call last)",
      "Cell \u001b[0;32mIn[10], line 3\u001b[0m\n\u001b[1;32m      1\u001b[0m command \u001b[39m=\u001b[39m \u001b[39m\"\u001b[39m\u001b[39m\"\u001b[39m\n\u001b[1;32m      2\u001b[0m \u001b[39mwhile\u001b[39;00m \u001b[39mTrue\u001b[39;00m:\n\u001b[0;32m----> 3\u001b[0m \tcommand \u001b[39m=\u001b[39m \u001b[39minput\u001b[39;49m(\u001b[39m\"\u001b[39;49m\u001b[39m> \u001b[39;49m\u001b[39m\"\u001b[39;49m)\u001b[39m.\u001b[39mlower()\n\u001b[1;32m      4\u001b[0m \t\u001b[39mif\u001b[39;00m command \u001b[39m==\u001b[39m \u001b[39m\"\u001b[39m\u001b[39mstarted\u001b[39m\u001b[39m\"\u001b[39m :\n\u001b[1;32m      5\u001b[0m \t\t\u001b[39mprint\u001b[39m(\u001b[39m'\u001b[39m\u001b[39mCar started...\u001b[39m\u001b[39m'\u001b[39m)\n",
      "File \u001b[0;32m~/miniconda3/lib/python3.11/site-packages/ipykernel/kernelbase.py:1202\u001b[0m, in \u001b[0;36mKernel.raw_input\u001b[0;34m(self, prompt)\u001b[0m\n\u001b[1;32m   1200\u001b[0m     msg \u001b[39m=\u001b[39m \u001b[39m\"\u001b[39m\u001b[39mraw_input was called, but this frontend does not support input requests.\u001b[39m\u001b[39m\"\u001b[39m\n\u001b[1;32m   1201\u001b[0m     \u001b[39mraise\u001b[39;00m StdinNotImplementedError(msg)\n\u001b[0;32m-> 1202\u001b[0m \u001b[39mreturn\u001b[39;00m \u001b[39mself\u001b[39;49m\u001b[39m.\u001b[39;49m_input_request(\n\u001b[1;32m   1203\u001b[0m     \u001b[39mstr\u001b[39;49m(prompt),\n\u001b[1;32m   1204\u001b[0m     \u001b[39mself\u001b[39;49m\u001b[39m.\u001b[39;49m_parent_ident[\u001b[39m\"\u001b[39;49m\u001b[39mshell\u001b[39;49m\u001b[39m\"\u001b[39;49m],\n\u001b[1;32m   1205\u001b[0m     \u001b[39mself\u001b[39;49m\u001b[39m.\u001b[39;49mget_parent(\u001b[39m\"\u001b[39;49m\u001b[39mshell\u001b[39;49m\u001b[39m\"\u001b[39;49m),\n\u001b[1;32m   1206\u001b[0m     password\u001b[39m=\u001b[39;49m\u001b[39mFalse\u001b[39;49;00m,\n\u001b[1;32m   1207\u001b[0m )\n",
      "File \u001b[0;32m~/miniconda3/lib/python3.11/site-packages/ipykernel/kernelbase.py:1245\u001b[0m, in \u001b[0;36mKernel._input_request\u001b[0;34m(self, prompt, ident, parent, password)\u001b[0m\n\u001b[1;32m   1242\u001b[0m \u001b[39mexcept\u001b[39;00m \u001b[39mKeyboardInterrupt\u001b[39;00m:\n\u001b[1;32m   1243\u001b[0m     \u001b[39m# re-raise KeyboardInterrupt, to truncate traceback\u001b[39;00m\n\u001b[1;32m   1244\u001b[0m     msg \u001b[39m=\u001b[39m \u001b[39m\"\u001b[39m\u001b[39mInterrupted by user\u001b[39m\u001b[39m\"\u001b[39m\n\u001b[0;32m-> 1245\u001b[0m     \u001b[39mraise\u001b[39;00m \u001b[39mKeyboardInterrupt\u001b[39;00m(msg) \u001b[39mfrom\u001b[39;00m \u001b[39mNone\u001b[39;00m\n\u001b[1;32m   1246\u001b[0m \u001b[39mexcept\u001b[39;00m \u001b[39mException\u001b[39;00m:\n\u001b[1;32m   1247\u001b[0m     \u001b[39mself\u001b[39m\u001b[39m.\u001b[39mlog\u001b[39m.\u001b[39mwarning(\u001b[39m\"\u001b[39m\u001b[39mInvalid Message:\u001b[39m\u001b[39m\"\u001b[39m, exc_info\u001b[39m=\u001b[39m\u001b[39mTrue\u001b[39;00m)\n",
      "\u001b[0;31mKeyboardInterrupt\u001b[0m: Interrupted by user"
     ]
    }
   ],
   "source": [
    "command = \"\"\n",
    "while True:\n",
    "\tcommand = input(\"> \").lower()\n",
    "\tif command == \"started\" :\n",
    "\t\tprint('Car started...')\n",
    "\telif command == \"stopped\":\n",
    "\t\tprint('Car stopped...')\n",
    "\telif command == \"help\":\n",
    "\t\tprint(\"start - to start the car \\n stop - to stop the car \\n quit - to quit\")\n",
    "\telif command == \"quit\":\n",
    "\t\tbreak\n",
    "else:\n",
    "\tprint(\"Sorry! I don't understand.\")"
   ]
  },
  {
   "cell_type": "code",
   "execution_count": 9,
   "metadata": {},
   "outputs": [
    {
     "name": "stdout",
     "output_type": "stream",
     "text": [
      "[10, 20, 30, 1, 2, 3, 4]\n"
     ]
    }
   ],
   "source": [
    "my_list = [1,2,3,4,5]\n",
    "my_list = [10,20,30] + my_list\n",
    "my_list.pop()\n",
    "print(my_list)"
   ]
  },
  {
   "cell_type": "code",
   "execution_count": 10,
   "metadata": {},
   "outputs": [
    {
     "name": "stdout",
     "output_type": "stream",
     "text": [
      "[1, 2, 3, 7, 8, 9]\n"
     ]
    }
   ],
   "source": [
    "l1 = [1,2,3]\n",
    "l1 = l1 + [7,8,9]\n",
    "print(l1)"
   ]
  },
  {
   "cell_type": "code",
   "execution_count": 13,
   "metadata": {},
   "outputs": [
    {
     "name": "stdout",
     "output_type": "stream",
     "text": [
      "[1, 2, 3, [7, 8, 9]]\n"
     ]
    }
   ],
   "source": [
    "l2 = [1,2,3]\n",
    "l2.append([7,8,9])\n",
    "print(l2)"
   ]
  },
  {
   "cell_type": "code",
   "execution_count": 15,
   "metadata": {},
   "outputs": [
    {
     "data": {
      "text/plain": [
       "False"
      ]
     },
     "execution_count": 15,
     "metadata": {},
     "output_type": "execute_result"
    }
   ],
   "source": [
    "list_1 = [\"duck\", 20, 9, 22, 12, 19]\n",
    "\"dogs\" in list_1\n"
   ]
  },
  {
   "cell_type": "code",
   "execution_count": 17,
   "metadata": {},
   "outputs": [
    {
     "name": "stdout",
     "output_type": "stream",
     "text": [
      "4504553344 : [1]\n",
      "4504553344 : [1, 5, 6, 7]\n"
     ]
    }
   ],
   "source": [
    "x = [1]\n",
    "print(id(x),':',x)\n",
    "x.append(5)\n",
    "x.extend([6,7])\n",
    "print(id(x),':',x)"
   ]
  },
  {
   "cell_type": "code",
   "execution_count": 35,
   "metadata": {},
   "outputs": [
    {
     "name": "stdout",
     "output_type": "stream",
     "text": [
      "10\n",
      "20\n",
      "9\n",
      "22\n"
     ]
    }
   ],
   "source": [
    "list1 = [10, 20, 9, 22, 12, 19]\n",
    "index = 0\n",
    "while index < 4 :\n",
    "    print (f'{list1[index]}')\n",
    "    index += 1\n",
    "\n"
   ]
  },
  {
   "cell_type": "code",
   "execution_count": 38,
   "metadata": {},
   "outputs": [
    {
     "name": "stdout",
     "output_type": "stream",
     "text": [
      "Danise\n",
      "20\n"
     ]
    }
   ],
   "source": [
    "list1 = ['John', 'Danise', 'David', 'Danise']\n",
    "list2 = [12, 20, 30, 40]\n",
    "print(list1[1])\n",
    "print(list2[1])"
   ]
  },
  {
   "cell_type": "code",
   "execution_count": 40,
   "metadata": {},
   "outputs": [
    {
     "name": "stdout",
     "output_type": "stream",
     "text": [
      "10\n"
     ]
    }
   ],
   "source": [
    "list1 = [1, 'John', True, [10, 20, 9, 22, 12, 19]]\n",
    "list2 = list1[3]\n",
    "print(list2[0])"
   ]
  },
  {
   "cell_type": "code",
   "execution_count": 42,
   "metadata": {},
   "outputs": [
    {
     "name": "stdout",
     "output_type": "stream",
     "text": [
      "[1, 2, 3, 4, [5, 6, 7]]\n",
      "[1, 2, 3, 4, 5, 6, 7]\n"
     ]
    }
   ],
   "source": [
    "list1 =[1,2,3,4]\n",
    "list2 =[1,2,3,4]\n",
    "list1.append([5,6,7])\n",
    "list2.extend([5,6,7])\n",
    "print(list1)\n",
    "print(list2)"
   ]
  },
  {
   "cell_type": "code",
   "execution_count": 43,
   "metadata": {},
   "outputs": [
    {
     "ename": "NameError",
     "evalue": "name 'list1' is not defined",
     "output_type": "error",
     "traceback": [
      "\u001b[0;31m---------------------------------------------------------------------------\u001b[0m",
      "\u001b[0;31mNameError\u001b[0m                                 Traceback (most recent call last)",
      "Cell \u001b[0;32mIn[43], line 3\u001b[0m\n\u001b[1;32m      1\u001b[0m list1 \u001b[39m=\u001b[39m[\u001b[39m1\u001b[39m,\u001b[39m2\u001b[39m,\u001b[39m3\u001b[39m,\u001b[39m4\u001b[39m]\n\u001b[1;32m      2\u001b[0m \u001b[39mdel\u001b[39;00m list1\n\u001b[0;32m----> 3\u001b[0m \u001b[39mprint\u001b[39m(list1)\n",
      "\u001b[0;31mNameError\u001b[0m: name 'list1' is not defined"
     ]
    }
   ],
   "source": [
    "list1 =[1,2,3,4]\n",
    "del list1\n",
    "print(list1)"
   ]
  },
  {
   "cell_type": "code",
   "execution_count": 51,
   "metadata": {},
   "outputs": [
    {
     "name": "stdout",
     "output_type": "stream",
     "text": [
      "[]\n"
     ]
    }
   ],
   "source": [
    "colors = ['black', 'white ', 'yellow', 'red']\n",
    "colors.clear()\n",
    "print(colors)"
   ]
  },
  {
   "cell_type": "code",
   "execution_count": 55,
   "metadata": {},
   "outputs": [
    {
     "name": "stdout",
     "output_type": "stream",
     "text": [
      "['John', 'Danise', 'David', 12, 20, 30]\n"
     ]
    }
   ],
   "source": [
    "list1 = ['John', 'Danise', 'David']\n",
    "list2 = [12, 20, 30]\n",
    "list1.extend(list2)\n",
    "print(list1)"
   ]
  },
  {
   "cell_type": "code",
   "execution_count": 56,
   "metadata": {},
   "outputs": [
    {
     "data": {
      "text/plain": [
       "True"
      ]
     },
     "execution_count": 56,
     "metadata": {},
     "output_type": "execute_result"
    }
   ],
   "source": [
    "pets = ['dog','Dog','DOG','fish','cat', 'Dog']\n",
    "\"Dog\" in pets"
   ]
  },
  {
   "cell_type": "code",
   "execution_count": 57,
   "metadata": {},
   "outputs": [
    {
     "name": "stdout",
     "output_type": "stream",
     "text": [
      "4\n"
     ]
    }
   ],
   "source": [
    "list1 =len([1, 'John', True, [10, 20, 9, 22, 12, 19]])\n",
    "print(list1)"
   ]
  },
  {
   "cell_type": "code",
   "execution_count": 61,
   "metadata": {},
   "outputs": [
    {
     "ename": "TypeError",
     "evalue": "'<' not supported between instances of 'str' and 'int'",
     "output_type": "error",
     "traceback": [
      "\u001b[0;31m---------------------------------------------------------------------------\u001b[0m",
      "\u001b[0;31mTypeError\u001b[0m                                 Traceback (most recent call last)",
      "Cell \u001b[0;32mIn[61], line 2\u001b[0m\n\u001b[1;32m      1\u001b[0m list8 \u001b[39m=\u001b[39m [\u001b[39m10\u001b[39m, \u001b[39m20\u001b[39m, \u001b[39m9\u001b[39m, \u001b[39m22\u001b[39m, \u001b[39m12\u001b[39m, \u001b[39m19\u001b[39m, \u001b[39m\"\u001b[39m\u001b[39mNone\u001b[39m\u001b[39m\"\u001b[39m]\n\u001b[0;32m----> 2\u001b[0m list8\u001b[39m.\u001b[39;49msort()\n\u001b[1;32m      3\u001b[0m \u001b[39mprint\u001b[39m(list8)\n",
      "\u001b[0;31mTypeError\u001b[0m: '<' not supported between instances of 'str' and 'int'"
     ]
    }
   ],
   "source": [
    "list8 = [10, 20, 9, 22, 12, 19, None]\n",
    "list8.sort()\n",
    "print(list8)\n"
   ]
  },
  {
   "cell_type": "code",
   "execution_count": 2,
   "metadata": {},
   "outputs": [
    {
     "name": "stdout",
     "output_type": "stream",
     "text": [
      "Enter the first integer: 10\n",
      "Enter the first integer: 10\n",
      "How would you like to compare(Please only input greater, less or equals): dhsk\n",
      "Unsupported operation\n"
     ]
    }
   ],
   "source": [
    "x = int(input(\"Enter the first integer: \"))\n",
    "y = int(input('Enter the first integer: '))\n",
    "operators = input(\"How would you like to compare(Please only input greater, less or equals): \")\n",
    "if operators.lower() == \"greater\":\n",
    "    if x > y:\n",
    "        print(True)\n",
    "    else:\n",
    "        print(False)\n",
    "elif operators.lower == \"less\":\n",
    "    if x < y:\n",
    "        print(True)\n",
    "    else:\n",
    "        print(False)\n",
    "elif operators.lower() == \"equals\":\n",
    "    if x == y:\n",
    "        print(True)\n",
    "    else:\n",
    "        print(False)\n",
    "else:\n",
    "    print('Unsupported operation')\n",
    "\n",
    "\n"
   ]
  },
  {
   "cell_type": "code",
   "execution_count": 1,
   "metadata": {},
   "outputs": [
    {
     "name": "stdout",
     "output_type": "stream",
     "text": [
      "Enter the DNA sequence(only have the four letters 'A', 'G', 'C' and 'T'): AACTGC\n",
      "Num of Adenine: 2\n",
      "Num of Guanine: 1\n",
      "Num of Cytosine: 2\n",
      "Num of Thymine: 1\n"
     ]
    }
   ],
   "source": [
    "sequence = input(\"Enter the DNA sequence(only have the four letters 'A', 'G', 'C' and 'T'): \")\n",
    "print('Num of Adenine:', sequence.count(\"A\"))\n",
    "print('Num of Guanine:', sequence.count(\"G\"))\n",
    "print('Num of Cytosine:', sequence.count(\"C\"))\n",
    "print('Num of Thymine:', sequence.count(\"T\"))\n",
    "\n"
   ]
  },
  {
   "cell_type": "code",
   "execution_count": 2,
   "metadata": {},
   "outputs": [
    {
     "name": "stdout",
     "output_type": "stream",
     "text": [
      "Num of Adenine: 2\n",
      "Num of Guanine: 1\n",
      "Num of Cytosine: 1\n",
      "Num of Thymine: 3\n"
     ]
    }
   ],
   "source": [
    "sequence = input(\"Enter the DNA sequence(only have the four letters 'A', 'G', 'C' and 'T'): \")\n",
    "count_a = 0\n",
    "count_g = 0\n",
    "count_c = 0\n",
    "count_t = 0\n",
    "count_mid = 0\n",
    "num = len(sequence)\n",
    "while count_mid < num:\n",
    "    in_input = sequence[count_mid]\n",
    "    in_input = in_input.upper()\n",
    "    if in_input == \"A\":\n",
    "        count_a += 1\n",
    "    elif in_input == \"G\":\n",
    "        count_g += 1\n",
    "    elif in_input == \"C\":\n",
    "        count_c += 1\n",
    "    elif in_input == \"T\":\n",
    "        count_t += 1\n",
    "    count_mid += 1\n",
    "print(f\"Num of Adenine: {count_a}\\nNum of Guanine: {count_c}\\nNum of Cytosine: {count_c}\\nNum of Thymine: {count_t}\")"
   ]
  },
  {
   "cell_type": "code",
   "execution_count": 5,
   "metadata": {},
   "outputs": [
    {
     "name": "stdout",
     "output_type": "stream",
     "text": [
      "Goodbye!\n",
      "\n",
      "Sum is 16\n",
      "Count (divisible by 5) is 0\n"
     ]
    }
   ],
   "source": [
    "sum = 0\n",
    "number_divby_5 = 0\n",
    "while True:\n",
    "    user_input = input(\"Please input a number: \")\n",
    "    if user_input.isalpha():\n",
    "        break\n",
    "    if user_input.isdigit() or (user_input.startswith(\"-\") and user_input[1:].isdigit()):\n",
    "        num = int(user_input)\n",
    "        sum += num\n",
    "        if num%5 == 0:\n",
    "            number_divby_5 += 1\n",
    "print(\"Goodbye!\\n\")\n",
    "print(f\"Sum is {sum}\" )\n",
    "print(f\"Count (divisible by 5) is {number_divby_5}\")\n",
    "\n",
    "    \n"
   ]
  },
  {
   "cell_type": "code",
   "execution_count": 26,
   "metadata": {},
   "outputs": [
    {
     "name": "stdout",
     "output_type": "stream",
     "text": [
      "Odd number sum: 8\n",
      "Even number sum: 16\n"
     ]
    }
   ],
   "source": [
    "\n",
    "Odd_number_sum = 0\n",
    "Even_number_sum = 0\n",
    "while True:\n",
    "    x = input('Please input an integer number: ')\n",
    "    y = input('Please input an integer number: ')\n",
    "    if (x.isdigit() and y.isdigit()) :\n",
    "        break\n",
    "    else:\n",
    "        print(\"Unsupported operation\")\n",
    "        fresh_number = input('Would you like to quit (y/n)? ').upper()\n",
    "        if fresh_number == \"Y\":\n",
    "            print(\"See you next time!\")\n",
    "            break\n",
    "\n",
    "count = int(x)\n",
    "end = int(y)\n",
    "while count <= end:\n",
    "    if count%2 == 0 :\n",
    "        Odd_number_sum += count\n",
    "    else:\n",
    "        Even_number_sum += count\n",
    "    count += 1       \n",
    "print(f'Odd number sum: {Odd_number_sum}')\n",
    "print(f'Even number sum: {Even_number_sum}')\n"
   ]
  },
  {
   "cell_type": "code",
   "execution_count": 27,
   "metadata": {},
   "outputs": [
    {
     "name": "stdout",
     "output_type": "stream",
     "text": [
      "Apples APPLES\n",
      "Pears PEARS\n",
      "Orange ORANGE\n",
      "Mandarins MANDARINS\n",
      "Limes LIMES\n",
      "Nectarines NECTARINES\n",
      "Apricots APRICOTS\n",
      "Bananas BANANAS\n",
      "Strawberries STRAWBERRIES\n",
      "Watermelon WATERMELON\n",
      "Plums PLUMS\n"
     ]
    }
   ],
   "source": [
    "Fruits = ['Apples', 'Pears', 'Orange', 'Mandarins', 'Limes', 'Nectarines', 'Apricots', 'Bananas','Strawberries', 'Watermelon', 'Plums']\n",
    "for fruit in Fruits:\n",
    "    print(fruit,fruit.upper())"
   ]
  },
  {
   "cell_type": "code",
   "execution_count": 28,
   "metadata": {},
   "outputs": [
    {
     "name": "stdout",
     "output_type": "stream",
     "text": [
      "H\n",
      "e\n",
      "l\n",
      "l\n",
      "o\n",
      "!\n"
     ]
    }
   ],
   "source": [
    "str1 = 'Hello!'\n",
    "for s in str1:\n",
    "    print(s)"
   ]
  },
  {
   "cell_type": "code",
   "execution_count": 30,
   "metadata": {},
   "outputs": [
    {
     "name": "stdout",
     "output_type": "stream",
     "text": [
      "136\n"
     ]
    }
   ],
   "source": [
    "lst1 = [22, 18, 20, 21, 23, 15, 17]\n",
    "sum = 0\n",
    "for num in lst1:\n",
    "    sum += num\n",
    "print(sum)"
   ]
  },
  {
   "cell_type": "code",
   "execution_count": 31,
   "metadata": {},
   "outputs": [
    {
     "name": "stdout",
     "output_type": "stream",
     "text": [
      "small vehicle\n",
      "small toy\n",
      "small house\n",
      "medium vehicle\n",
      "medium toy\n",
      "medium house\n",
      "large vehicle\n",
      "large toy\n",
      "large house\n"
     ]
    }
   ],
   "source": [
    "lst1 = [\"small\", \"medium\", \"large\"]\n",
    "lst2 = [\"vehicle\", \"toy\", \"house\"]\n",
    "for num1 in lst1:\n",
    "    for num2 in lst2:\n",
    "        print(num1,num2)"
   ]
  },
  {
   "cell_type": "code",
   "execution_count": 47,
   "metadata": {},
   "outputs": [
    {
     "name": "stdout",
     "output_type": "stream",
     "text": [
      "vehicle \n",
      "vehicle \n",
      "vehicle \n",
      "\n",
      "toy \n",
      "toy \n",
      "toy \n",
      "\n",
      "house \n",
      "house \n",
      "house \n",
      "\n"
     ]
    }
   ],
   "source": [
    "names = ['vehicle', 'toy', 'house']\n",
    "for x in names:\n",
    "    count = 0\n",
    "    while count < 3:\n",
    "        print(x + \" \")\n",
    "        count += 1\n",
    "    print()"
   ]
  },
  {
   "cell_type": "code",
   "execution_count": 53,
   "metadata": {},
   "outputs": [],
   "source": [
    "def sum(num1,num2):\n",
    "    assert type(num1) == int, f\"num1 must be integer, it's {num1}\"\n",
    "    assert type(num2) == float, f\"num1 must be float, it's {num2}\"\n",
    "    return num1 + num2"
   ]
  },
  {
   "cell_type": "code",
   "execution_count": 54,
   "metadata": {},
   "outputs": [
    {
     "ename": "AssertionError",
     "evalue": "num1 must be integer, it's <class 'float'>",
     "output_type": "error",
     "traceback": [
      "\u001b[0;31m---------------------------------------------------------------------------\u001b[0m",
      "\u001b[0;31mAssertionError\u001b[0m                            Traceback (most recent call last)",
      "Cell \u001b[0;32mIn[54], line 1\u001b[0m\n\u001b[0;32m----> 1\u001b[0m \u001b[39msum\u001b[39;49m(\u001b[39m1.2\u001b[39;49m, \u001b[39m2.2\u001b[39;49m)\n",
      "Cell \u001b[0;32mIn[53], line 2\u001b[0m, in \u001b[0;36msum\u001b[0;34m(num1, num2)\u001b[0m\n\u001b[1;32m      1\u001b[0m \u001b[39mdef\u001b[39;00m \u001b[39msum\u001b[39m(num1,num2):\n\u001b[0;32m----> 2\u001b[0m     \u001b[39massert\u001b[39;00m \u001b[39mtype\u001b[39m(num1) \u001b[39m==\u001b[39m \u001b[39mint\u001b[39m, \u001b[39mf\u001b[39m\u001b[39m\"\u001b[39m\u001b[39mnum1 must be integer, it\u001b[39m\u001b[39m'\u001b[39m\u001b[39ms \u001b[39m\u001b[39m{\u001b[39;00m\u001b[39mstr\u001b[39m(\u001b[39mtype\u001b[39m(num1))\u001b[39m}\u001b[39;00m\u001b[39m\"\u001b[39m\n\u001b[1;32m      3\u001b[0m     \u001b[39massert\u001b[39;00m \u001b[39mtype\u001b[39m(num2) \u001b[39m==\u001b[39m \u001b[39mfloat\u001b[39m, \u001b[39mf\u001b[39m\u001b[39m\"\u001b[39m\u001b[39mnum1 must be float, it\u001b[39m\u001b[39m'\u001b[39m\u001b[39ms \u001b[39m\u001b[39m{\u001b[39;00mnum2\u001b[39m}\u001b[39;00m\u001b[39m\"\u001b[39m\n\u001b[1;32m      4\u001b[0m     \u001b[39mreturn\u001b[39;00m num1 \u001b[39m+\u001b[39m num2\n",
      "\u001b[0;31mAssertionError\u001b[0m: num1 must be integer, it's <class 'float'>"
     ]
    }
   ],
   "source": [
    "sum(1.2, 2.2)"
   ]
  },
  {
   "cell_type": "code",
   "execution_count": 1,
   "metadata": {},
   "outputs": [
    {
     "name": "stdout",
     "output_type": "stream",
     "text": [
      "vehicle vehicle vehicle vehicle vehicle toy toy toy toy toy house house house house house "
     ]
    }
   ],
   "source": [
    "names = ['vehicle', 'toy', 'house']\n",
    "for name in names:\n",
    "    count = 0\n",
    "    while count < 5:\n",
    "        print(name, end =' ')\n",
    "        count += 1\n",
    "    "
   ]
  },
  {
   "cell_type": "code",
   "execution_count": 4,
   "metadata": {},
   "outputs": [
    {
     "name": "stdout",
     "output_type": "stream",
     "text": [
      "vehicle toy house \n",
      "vehicle toy house \n",
      "vehicle toy house \n",
      "vehicle toy house \n",
      "vehicle toy house \n"
     ]
    }
   ],
   "source": [
    "names = ['vehicle', 'toy', 'house']\n",
    "count = 0\n",
    "while count <5 :\n",
    "    for name in names:\n",
    "        print(name, end=\" \")\n",
    "    count += 1\n",
    "    print()"
   ]
  },
  {
   "cell_type": "code",
   "execution_count": 5,
   "metadata": {},
   "outputs": [
    {
     "name": "stdout",
     "output_type": "stream",
     "text": [
      "20\n",
      "21\n",
      "22\n",
      "23\n",
      "24\n",
      "25\n",
      "26\n",
      "27\n",
      "28\n",
      "29\n"
     ]
    }
   ],
   "source": [
    "for i in range(20,30):\n",
    "    print(i)"
   ]
  },
  {
   "cell_type": "code",
   "execution_count": 6,
   "metadata": {},
   "outputs": [
    {
     "name": "stdout",
     "output_type": "stream",
     "text": [
      "10 0\n",
      "10 1\n",
      "10 2\n",
      "10 3\n",
      "10 4\n",
      "11 0\n",
      "11 1\n",
      "11 2\n",
      "11 3\n",
      "11 4\n"
     ]
    }
   ],
   "source": [
    "for x in range(10,12):\n",
    "    for y in range(5):\n",
    "        print(x,y)"
   ]
  },
  {
   "cell_type": "code",
   "execution_count": 8,
   "metadata": {},
   "outputs": [
    {
     "name": "stdout",
     "output_type": "stream",
     "text": [
      "0\n",
      "1\n",
      "2\n",
      "3\n",
      "4\n",
      "5\n",
      "6\n",
      "7\n",
      "8\n",
      "9\n",
      "10\n",
      "11\n",
      "12\n",
      "13\n",
      "14\n",
      "15\n",
      "16\n",
      "17\n",
      "18\n",
      "19\n"
     ]
    }
   ],
   "source": [
    "for i in range(0,20):\n",
    "    print(i)\n"
   ]
  },
  {
   "cell_type": "code",
   "execution_count": 9,
   "metadata": {},
   "outputs": [
    {
     "name": "stdout",
     "output_type": "stream",
     "text": [
      "20\n",
      "30\n",
      "12\n",
      "10\n",
      "92\n"
     ]
    }
   ],
   "source": [
    "list1 = [19, 20, 30, 91, 12, 1, 10, 9, 92]\n",
    "for x in list1:\n",
    "    if x%2 == 0:\n",
    "        print(x)\n"
   ]
  },
  {
   "cell_type": "code",
   "execution_count": 32,
   "metadata": {},
   "outputs": [
    {
     "name": "stdout",
     "output_type": "stream",
     "text": [
      "['apple', 'apple', 'apple', 'apple', 'apple']\n",
      "['banana', 3, 10, 78, 5.5, [200, 201, 202, 203, 204], 'apple', 'apple', 10.5]\n"
     ]
    }
   ],
   "source": [
    "listThings = ['banana', 'apple', 'apple', 3, 10, 78, 5.5, 'apple', list(range(200,205)), 'apple', 'apple', 10.5]\n",
    "appleList = [ ]\n",
    "for x in listThings:\n",
    "    if x =='apple':\n",
    "        appleList.append(\"apple\")\n",
    "x = appleList.count('apple')\n",
    "count = 0\n",
    "while count<x:\n",
    "    listThings.remove('apple')\n",
    "    count += 1\n",
    "print(appleList)\n",
    "print(listThings)"
   ]
  },
  {
   "cell_type": "code",
   "execution_count": 16,
   "metadata": {},
   "outputs": [
    {
     "data": {
      "text/plain": [
       "[2, 3]"
      ]
     },
     "execution_count": 16,
     "metadata": {},
     "output_type": "execute_result"
    }
   ],
   "source": []
  },
  {
   "cell_type": "code",
   "execution_count": 35,
   "metadata": {},
   "outputs": [
    {
     "name": "stdout",
     "output_type": "stream",
     "text": [
      "<class 'dict'>\n",
      "<class 'dict'>\n",
      "3\n"
     ]
    }
   ],
   "source": [
    "age1 = dict(Jhon=52,Siobhan=21, Ye=18)\n",
    "age2 = {'John':52,\"Siobhan\":21, \"Ye\":18}\n",
    "print(type(age1))\n",
    "print(type(age2))\n",
    "print(len(age1))"
   ]
  },
  {
   "cell_type": "code",
   "execution_count": 42,
   "metadata": {},
   "outputs": [
    {
     "ename": "NameError",
     "evalue": "name 'details' is not defined",
     "output_type": "error",
     "traceback": [
      "\u001b[0;31m---------------------------------------------------------------------------\u001b[0m",
      "\u001b[0;31mNameError\u001b[0m                                 Traceback (most recent call last)",
      "Cell \u001b[0;32mIn[42], line 5\u001b[0m\n\u001b[1;32m      3\u001b[0m details[\u001b[39m\"\u001b[39m\u001b[39minterests\u001b[39m\u001b[39m\"\u001b[39m] \u001b[39m=\u001b[39m [\u001b[39m\"\u001b[39m\u001b[39mprogramming\u001b[39m\u001b[39m\"\u001b[39m, \u001b[39m\"\u001b[39m\u001b[39mreading\u001b[39m\u001b[39m\"\u001b[39m, \u001b[39m\"\u001b[39m\u001b[39mcooking\u001b[39m\u001b[39m\"\u001b[39m, \u001b[39m\"\u001b[39m\u001b[39mgardening\u001b[39m\u001b[39m\"\u001b[39m]\n\u001b[1;32m      4\u001b[0m \u001b[39mdel\u001b[39;00m details\n\u001b[0;32m----> 5\u001b[0m \u001b[39mprint\u001b[39m(details)\n\u001b[1;32m      6\u001b[0m \u001b[39m# print(len(details))\u001b[39;00m\n",
      "\u001b[0;31mNameError\u001b[0m: name 'details' is not defined"
     ]
    }
   ],
   "source": [
    "details = {\"fname\":\"John\", \"height\":\"190cm\", \"weight\":\"52kg\", \"age\":30}\n",
    "details[\"lname\"] = \"Smith\"\n",
    "details[\"interests\"] = [\"programming\", \"reading\", \"cooking\", \"gardening\"]\n",
    "del details\n",
    "print(details)\n",
    "# print(len(details))\n"
   ]
  },
  {
   "cell_type": "code",
   "execution_count": 48,
   "metadata": {},
   "outputs": [
    {
     "name": "stdout",
     "output_type": "stream",
     "text": [
      "20\n"
     ]
    }
   ],
   "source": [
    "def large_num(num1,num2):\n",
    "    if num1>num2:\n",
    "        print(num1)\n",
    "    else:\n",
    "        print(num2)\n",
    "large_num(15,20)"
   ]
  },
  {
   "cell_type": "code",
   "execution_count": 50,
   "metadata": {},
   "outputs": [],
   "source": [
    "def area_of_rect( length , breadth):\n",
    "    area = length*breadth\n",
    "    return length\n",
    "    return breadth\n",
    "    return area\n",
    "\n",
    "returned_value = area_of_rect(5,7) \n",
    "print()"
   ]
  },
  {
   "cell_type": "code",
   "execution_count": 51,
   "metadata": {},
   "outputs": [
    {
     "name": "stdout",
     "output_type": "stream",
     "text": [
      "10\n"
     ]
    }
   ],
   "source": [
    "def var_scope():\n",
    "    z=10\n",
    "    print(z)\n",
    "\n",
    "var_scope()"
   ]
  },
  {
   "cell_type": "code",
   "execution_count": 52,
   "metadata": {},
   "outputs": [
    {
     "name": "stdout",
     "output_type": "stream",
     "text": [
      "10\n"
     ]
    }
   ],
   "source": [
    "z=10\n",
    "def var_scope():\n",
    "    print(z)\n",
    "\n",
    "var_scope()"
   ]
  },
  {
   "cell_type": "code",
   "execution_count": 53,
   "metadata": {},
   "outputs": [
    {
     "name": "stdout",
     "output_type": "stream",
     "text": [
      "10\n"
     ]
    }
   ],
   "source": [
    "def var_scope():\n",
    "    print(z)\n",
    "z=10\n",
    "\n",
    "var_scope()\n"
   ]
  },
  {
   "cell_type": "code",
   "execution_count": 54,
   "metadata": {},
   "outputs": [
    {
     "name": "stdout",
     "output_type": "stream",
     "text": [
      "10\n"
     ]
    }
   ],
   "source": [
    "def var_scope():\n",
    "    print(z)\n",
    "\n",
    "var_scope()\n",
    "z=10"
   ]
  },
  {
   "cell_type": "code",
   "execution_count": 56,
   "metadata": {},
   "outputs": [
    {
     "name": "stdout",
     "output_type": "stream",
     "text": [
      "125\n"
     ]
    }
   ],
   "source": [
    "def fun5():\n",
    "    p = 125\n",
    "    print(p)\n",
    "p=25\n",
    "fun5()"
   ]
  },
  {
   "cell_type": "code",
   "execution_count": 57,
   "metadata": {},
   "outputs": [
    {
     "ename": "ValueError",
     "evalue": "not enough values to unpack (expected 4, got 3)",
     "output_type": "error",
     "traceback": [
      "\u001b[0;31m---------------------------------------------------------------------------\u001b[0m",
      "\u001b[0;31mValueError\u001b[0m                                Traceback (most recent call last)",
      "Cell \u001b[0;32mIn[57], line 4\u001b[0m\n\u001b[1;32m      1\u001b[0m \u001b[39mdef\u001b[39;00m \u001b[39mreturn_multiple\u001b[39m(num1, num2):\n\u001b[1;32m      2\u001b[0m     \u001b[39mreturn\u001b[39;00m num1, num2, num1\u001b[39m+\u001b[39mnum2\n\u001b[0;32m----> 4\u001b[0m val1, val2, val3, val4 \u001b[39m=\u001b[39m return_multiple(\u001b[39m5\u001b[39m,\u001b[39m10\u001b[39m)\n\u001b[1;32m      5\u001b[0m \u001b[39mprint\u001b[39m(val1, val2, val3, val4)\n",
      "\u001b[0;31mValueError\u001b[0m: not enough values to unpack (expected 4, got 3)"
     ]
    }
   ],
   "source": [
    "def return_multiple(num1, num2):\n",
    "    return num1, num2, num1+num2\n",
    "\n",
    "val1, val2, val3, val4 = return_multiple(5,10)\n",
    "print(val1, val2, val3, val4)"
   ]
  },
  {
   "cell_type": "code",
   "execution_count": 58,
   "metadata": {},
   "outputs": [
    {
     "name": "stdout",
     "output_type": "stream",
     "text": [
      "in fun2\n",
      "in fun1\n"
     ]
    }
   ],
   "source": [
    "def fun2():\n",
    "    print(\"in fun2\")\n",
    "    \n",
    "def fun1():\n",
    "    fun2()\n",
    "    print (\"in fun1\")\n",
    "\n",
    "fun1()"
   ]
  },
  {
   "cell_type": "code",
   "execution_count": 68,
   "metadata": {},
   "outputs": [
    {
     "name": "stdout",
     "output_type": "stream",
     "text": [
      "buzz\n"
     ]
    }
   ],
   "source": [
    "def fun(x):\n",
    "    if x%15==0:\n",
    "        print (\"fizzbuzz\")\n",
    "    if x%5==0:\n",
    "        print (\"buzz\")\n",
    "    if x%3==0:\n",
    "        print(\"fizz\")\n",
    "fun(x=100)"
   ]
  },
  {
   "cell_type": "code",
   "execution_count": 69,
   "metadata": {},
   "outputs": [
    {
     "ename": "SyntaxError",
     "evalue": "invalid syntax (3690962659.py, line 1)",
     "output_type": "error",
     "traceback": [
      "\u001b[0;36m  Cell \u001b[0;32mIn[69], line 1\u001b[0;36m\u001b[0m\n\u001b[0;31m    1. y = 100\u001b[0m\n\u001b[0m       ^\u001b[0m\n\u001b[0;31mSyntaxError\u001b[0m\u001b[0;31m:\u001b[0m invalid syntax\n"
     ]
    }
   ],
   "source": [
    "1. y = 100\n",
    "2. def fun(x):\n",
    "3.    y=y+x\n",
    "4.    print(y)\n",
    "5. fun(y)"
   ]
  },
  {
   "cell_type": "code",
   "execution_count": 73,
   "metadata": {},
   "outputs": [
    {
     "name": "stdout",
     "output_type": "stream",
     "text": [
      "100\n"
     ]
    }
   ],
   "source": [
    "def outer(num1, num2):\n",
    "    def inner(num3, num4):\n",
    "        return num3 + num4\n",
    "    num1 += 15\n",
    "    return inner(num1, num2)\n",
    "result = outer(15, 70)\n",
    "print(result)"
   ]
  },
  {
   "cell_type": "code",
   "execution_count": 74,
   "metadata": {},
   "outputs": [
    {
     "name": "stdout",
     "output_type": "stream",
     "text": [
      "10\n"
     ]
    }
   ],
   "source": [
    "def outer(num1, num2):\n",
    "    \n",
    "    def inner(num3, num4):\n",
    "        return num1 + num3\n",
    "        \n",
    "    return inner(num1, num2)\n",
    "\n",
    "result = outer(5, 10)\n",
    "print(result)"
   ]
  },
  {
   "cell_type": "code",
   "execution_count": 75,
   "metadata": {},
   "outputs": [
    {
     "name": "stdout",
     "output_type": "stream",
     "text": [
      "10\n"
     ]
    }
   ],
   "source": [
    "def fun():\n",
    "    global x\n",
    "    x=x*10\n",
    "    print(x)\n",
    "x=10\n",
    "print(x)"
   ]
  },
  {
   "cell_type": "code",
   "execution_count": 76,
   "metadata": {},
   "outputs": [
    {
     "name": "stdout",
     "output_type": "stream",
     "text": [
      "<class 'NoneType'>\n"
     ]
    }
   ],
   "source": [
    "x=5    \n",
    "def fun(x):\n",
    "    x=x*2\n",
    "y= fun(x)\n",
    "print(type(y))"
   ]
  },
  {
   "cell_type": "code",
   "execution_count": 78,
   "metadata": {},
   "outputs": [
    {
     "name": "stdout",
     "output_type": "stream",
     "text": [
      "5\n"
     ]
    }
   ],
   "source": [
    "def area_of_rect( length , breadth):\n",
    "    area = length*breadth\n",
    "    return length\n",
    "    return breadth\n",
    "    return area\n",
    "\n",
    "returned_value = area_of_rect(5,7) \n",
    "print(returned_value)"
   ]
  },
  {
   "cell_type": "code",
   "execution_count": 28,
   "metadata": {},
   "outputs": [
    {
     "name": "stdout",
     "output_type": "stream",
     "text": [
      "{'Chicago': 21.67,\n",
      " 'Houston': 32.5,\n",
      " 'Los Angeles': 27.0,\n",
      " 'Miami': 29.0,\n",
      " 'New York': 27.33}\n",
      "{'New York': 62.67, 'Los Angeles': 42.5, 'Chicago': 57.67, 'Houston': 71.5, 'Miami': 75.0}\n",
      "{'Houston': 32.5}\n",
      "{'Miami': 75.0}\n"
     ]
    }
   ],
   "source": [
    "import pprint\n",
    "weather_data = [ {\n",
    "'New York': {'temperature': 25, 'humidity': 60}, 'Los Angeles': {'temperature': 28, 'humidity': 45}, 'Chicago': {'temperature': 20, 'humidity': 55},\n",
    "}, {\n",
    "        'Houston': {'temperature': 32, 'humidity': 70},\n",
    "    },\n",
    "{\n",
    "'Los Angeles': {'temperature': 26, 'humidity': 40},\n",
    "'New York': {'temperature': 30, 'humidity': 65},\n",
    "'Chicago': {'temperature': 22, 'humidity': 60},\n",
    "'Miami': {'temperature': 29, 'humidity': 75}, },\n",
    "{\n",
    "'New York': {'temperature': 27, 'humidity': 63}, 'Chicago': {'temperature': 23, 'humidity': 58}, 'Houston': {'temperature': 33, 'humidity': 73},\n",
    "} ]\n",
    "\n",
    "temperature = {}\n",
    "humidity = {}\n",
    "\n",
    "for dict in weather_data:\n",
    "    for k,v in dict.items():\n",
    "        if k in temperature:\n",
    "            temperature[k].append(v['temperature'])\n",
    "        else:\n",
    "            temperature[k] = [v['temperature']]\n",
    "\n",
    "for dict in weather_data:\n",
    "        for k,v in dict.items():\n",
    "            if k in humidity:\n",
    "                humidity[k].append(v['humidity'])\n",
    "            else:\n",
    "                humidity[k] = [v['humidity']]\n",
    "\n",
    "#1\n",
    "temperature_a = {}\n",
    "for k,v in temperature.items():\n",
    "    mean = sum(v)/len(v)\n",
    "    temperature_a[k] = round(mean,2)\n",
    "pprint.pprint(temperature_a)\n",
    "\n",
    "#2\n",
    "humidity_a = {}\n",
    "for k,v in humidity.items():\n",
    "    mean = sum(v)/len(v)\n",
    "    humidity_a[k] = round(mean,2)\n",
    "print(humidity_a)\n",
    "\n",
    "#3\n",
    "max_temperature = {}\n",
    "max_temp = max(temperature_a.values())\n",
    "for k,v in temperature_a.items():\n",
    "    if v == max_temp:\n",
    "        max_temperature[k] = v\n",
    "print(max_temperature)\n",
    "\n",
    "#4\n",
    "max_humidity = {}\n",
    "max_temp = max(humidity_a.values())\n",
    "for k,v in humidity_a.items():\n",
    "    if v == max_temp:\n",
    "        max_humidity[k] = v\n",
    "print(max_humidity)"
   ]
  },
  {
   "cell_type": "code",
   "execution_count": 65,
   "metadata": {},
   "outputs": [
    {
     "name": "stdout",
     "output_type": "stream",
     "text": [
      "Apa5@6sswrd1!J_PREM\n"
     ]
    }
   ],
   "source": [
    "def is_valid_password(password,account_type=\"basic\"):\n",
    "    symbols =  {\"@\", \"#\", \"$\", \"&\", \"%\", \"!\"}\n",
    "    rule1 = (8 <= len(password) <=20)\n",
    "    rule2 = password[0].isupper() and password[-1].isupper()\n",
    "    digits = sum(1 for i in password if i.isdigit())\n",
    "    if digits >= 3:\n",
    "        symbols_count = sum(1 for i in password if i in symbols)\n",
    "        if symbols_count >= 2:\n",
    "            suffix_dict = { \"premium\": \"_PREM\", \"standard\": \"_STD\", \"basic\": \"_BSC\"}\n",
    "            if rule1 and rule2:\n",
    "                for k,v in suffix_dict.items():\n",
    "                    if account_type == k:\n",
    "                        password = password + v\n",
    "                        return password\n",
    "    return False\n",
    "\n",
    "print(is_valid_password('Apa5@6sswrd1!J','premium'))\n",
    "\n",
    "\n"
   ]
  },
  {
   "cell_type": "code",
   "execution_count": 47,
   "metadata": {},
   "outputs": [
    {
     "name": "stdout",
     "output_type": "stream",
     "text": [
      "[42, 50, 54, 58]\n"
     ]
    }
   ],
   "source": [
    "import random\n",
    "result = []\n",
    "def integer_min_max(randoms,min=40, max=60):\n",
    "    for i in randoms:\n",
    "        if min <= i <= max:\n",
    "            result.append(int(i))\n",
    "    return result\n",
    "\n",
    "random.seed(42)\n",
    "randoms = [ random.uniform(0, 100) for _ in range(20)]\n",
    "print(integer_min_max(randoms, 40, 60))\n"
   ]
  },
  {
   "cell_type": "code",
   "execution_count": 61,
   "metadata": {},
   "outputs": [
    {
     "name": "stdout",
     "output_type": "stream",
     "text": [
      "*****\n",
      "****_\n",
      "***__\n",
      "**___\n",
      "*____\n"
     ]
    }
   ],
   "source": [
    "def pattern_printer(dim = 5, fill = \"*\", hole = \"_\"):\n",
    "    line = \"\"\n",
    "    for i in range(dim):\n",
    "        line += fill * (dim - i) + hole * i + '\\n'\n",
    "    line = line[:-1]\n",
    "    return line\n",
    "\n",
    "print(pattern_printer())\n"
   ]
  },
  {
   "cell_type": "code",
   "execution_count": 62,
   "metadata": {},
   "outputs": [
    {
     "ename": "ModuleNotFoundError",
     "evalue": "No module named 'numpy'",
     "output_type": "error",
     "traceback": [
      "\u001b[0;31m---------------------------------------------------------------------------\u001b[0m",
      "\u001b[0;31mModuleNotFoundError\u001b[0m                       Traceback (most recent call last)",
      "Cell \u001b[0;32mIn[62], line 1\u001b[0m\n\u001b[0;32m----> 1\u001b[0m \u001b[39mimport\u001b[39;00m \u001b[39mnumpy\u001b[39;00m \u001b[39mas\u001b[39;00m \u001b[39mnp\u001b[39;00m\n\u001b[1;32m      2\u001b[0m array1 \u001b[39m=\u001b[39m np\u001b[39m.\u001b[39mzeros(\u001b[39m16\u001b[39m)\n\u001b[1;32m      3\u001b[0m \u001b[39mprint\u001b[39m(array1)\n",
      "\u001b[0;31mModuleNotFoundError\u001b[0m: No module named 'numpy'"
     ]
    }
   ],
   "source": []
  },
  {
   "cell_type": "code",
   "execution_count": 87,
   "metadata": {},
   "outputs": [
    {
     "ename": "IndentationError",
     "evalue": "expected an indented block after function definition on line 2 (221509084.py, line 3)",
     "output_type": "error",
     "traceback": [
      "\u001b[0;36m  Cell \u001b[0;32mIn[87], line 3\u001b[0;36m\u001b[0m\n\u001b[0;31m    books = [\u001b[0m\n\u001b[0m    ^\u001b[0m\n\u001b[0;31mIndentationError\u001b[0m\u001b[0;31m:\u001b[0m expected an indented block after function definition on line 2\n"
     ]
    }
   ],
   "source": [
    "import csv\n",
    "def save_as_csv (booklist, filename):\n",
    "  name = []\n",
    "  name = list({k for dict in booklist for k in dict.keys()})\n",
    "  with open('output.csv','w')as f:\n",
    "    writer = csv.DictWriter(f,name)\n",
    "    writer.writeheader()\n",
    "    writer.writerows(booklist)\n",
    "  \n",
    "  with open('output.csv','r') as output_f:\n",
    "    result = csv.reader(output_f)\n",
    "    output = [i for i in result]\n",
    "  return output\n",
    "        \n",
    "    "
   ]
  },
  {
   "cell_type": "code",
   "execution_count": 73,
   "metadata": {},
   "outputs": [
    {
     "ename": "FileNotFoundError",
     "evalue": "[Errno 2] No such file or directory: 'file'",
     "output_type": "error",
     "traceback": [
      "\u001b[0;31m---------------------------------------------------------------------------\u001b[0m",
      "\u001b[0;31mFileNotFoundError\u001b[0m                         Traceback (most recent call last)",
      "Cell \u001b[0;32mIn[73], line 4\u001b[0m\n\u001b[1;32m      2\u001b[0m \u001b[39mwith\u001b[39;00m \u001b[39mopen\u001b[39m(\u001b[39m'\u001b[39m\u001b[39mzen-utf16.txt\u001b[39m\u001b[39m'\u001b[39m,\u001b[39m'\u001b[39m\u001b[39mw\u001b[39m\u001b[39m'\u001b[39m,encoding\u001b[39m=\u001b[39m \u001b[39m'\u001b[39m\u001b[39mutf-16\u001b[39m\u001b[39m'\u001b[39m) \u001b[39mas\u001b[39;00m f:\n\u001b[1;32m      3\u001b[0m     \u001b[39mfor\u001b[39;00m file \u001b[39min\u001b[39;00m file_names:\n\u001b[0;32m----> 4\u001b[0m         \u001b[39mwith\u001b[39;00m \u001b[39mopen\u001b[39;49m(\u001b[39m'\u001b[39;49m\u001b[39mfile\u001b[39;49m\u001b[39m'\u001b[39;49m,\u001b[39m'\u001b[39;49m\u001b[39mr\u001b[39;49m\u001b[39m'\u001b[39;49m) \u001b[39mas\u001b[39;00m input_f:\n\u001b[1;32m      5\u001b[0m             lines \u001b[39m=\u001b[39m file\u001b[39m.\u001b[39mreadlines()[\u001b[39m1\u001b[39m:]\n\u001b[1;32m      6\u001b[0m             f\u001b[39m.\u001b[39mwritelines(lines)\n",
      "File \u001b[0;32m~/miniconda3/lib/python3.11/site-packages/IPython/core/interactiveshell.py:284\u001b[0m, in \u001b[0;36m_modified_open\u001b[0;34m(file, *args, **kwargs)\u001b[0m\n\u001b[1;32m    277\u001b[0m \u001b[39mif\u001b[39;00m file \u001b[39min\u001b[39;00m {\u001b[39m0\u001b[39m, \u001b[39m1\u001b[39m, \u001b[39m2\u001b[39m}:\n\u001b[1;32m    278\u001b[0m     \u001b[39mraise\u001b[39;00m \u001b[39mValueError\u001b[39;00m(\n\u001b[1;32m    279\u001b[0m         \u001b[39mf\u001b[39m\u001b[39m\"\u001b[39m\u001b[39mIPython won\u001b[39m\u001b[39m'\u001b[39m\u001b[39mt let you open fd=\u001b[39m\u001b[39m{\u001b[39;00mfile\u001b[39m}\u001b[39;00m\u001b[39m by default \u001b[39m\u001b[39m\"\u001b[39m\n\u001b[1;32m    280\u001b[0m         \u001b[39m\"\u001b[39m\u001b[39mas it is likely to crash IPython. If you know what you are doing, \u001b[39m\u001b[39m\"\u001b[39m\n\u001b[1;32m    281\u001b[0m         \u001b[39m\"\u001b[39m\u001b[39myou can use builtins\u001b[39m\u001b[39m'\u001b[39m\u001b[39m open.\u001b[39m\u001b[39m\"\u001b[39m\n\u001b[1;32m    282\u001b[0m     )\n\u001b[0;32m--> 284\u001b[0m \u001b[39mreturn\u001b[39;00m io_open(file, \u001b[39m*\u001b[39;49margs, \u001b[39m*\u001b[39;49m\u001b[39m*\u001b[39;49mkwargs)\n",
      "\u001b[0;31mFileNotFoundError\u001b[0m: [Errno 2] No such file or directory: 'file'"
     ]
    }
   ],
   "source": [
    "file_names = ['b2-1.txt', 'b2-2.txt', 'b2-3.txt', 'b2-4.txt']\n",
    "with open('zen-utf16.txt','w',encoding= 'utf-16') as f:\n",
    "    for file in file_names:\n",
    "        with open('file','r') as input_f:\n",
    "            lines = file.readlines()[1:]\n",
    "            f.writelines(lines)\n",
    "\n",
    "with open('zen-utf16.txt','r',encoding= 'utf-16') as output_f:\n",
    "    result = output_f.read()\n",
    "    print(result)"
   ]
  },
  {
   "cell_type": "code",
   "execution_count": 88,
   "metadata": {},
   "outputs": [
    {
     "ename": "ModuleNotFoundError",
     "evalue": "No module named 'numpy'",
     "output_type": "error",
     "traceback": [
      "\u001b[0;31m---------------------------------------------------------------------------\u001b[0m",
      "\u001b[0;31mModuleNotFoundError\u001b[0m                       Traceback (most recent call last)",
      "Cell \u001b[0;32mIn[88], line 1\u001b[0m\n\u001b[0;32m----> 1\u001b[0m \u001b[39mimport\u001b[39;00m \u001b[39mnumpy\u001b[39;00m \u001b[39mas\u001b[39;00m \u001b[39mnp\u001b[39;00m\n\u001b[1;32m      2\u001b[0m array1 \u001b[39m=\u001b[39m np\u001b[39m.\u001b[39mzeros((\u001b[39m4\u001b[39m,\u001b[39m4\u001b[39m))\n\u001b[1;32m      3\u001b[0m \u001b[39mfor\u001b[39;00m i \u001b[39min\u001b[39;00m \u001b[39mrange\u001b[39m(\u001b[39m4\u001b[39m):\n",
      "\u001b[0;31mModuleNotFoundError\u001b[0m: No module named 'numpy'"
     ]
    }
   ],
   "source": [
    "import numpy as np\n",
    "array1 = np.zeros((4,4))\n",
    "for i in range(4):\n",
    "    array1[i][i] = 1\n",
    "print(array1)\n",
    "\n",
    "array2 = np.arange(1,17).reshape(4,4)\n",
    "print(array2)\n",
    "\n",
    "array3 = array1 * array2\n",
    "print(array3)\n",
    "\n",
    "array4 = array3.copy() *2\n",
    "print(array4)"
   ]
  },
  {
   "cell_type": "code",
   "execution_count": null,
   "metadata": {},
   "outputs": [],
   "source": [
    "def valid_student_id(id, key = 'a', length = 8):\n",
    "    rule1 = id[0].lower() == key\n",
    "    rule2 = len(id) == length\n",
    "    sumNum = id[1:-2]\n",
    "    count = id[-2:]\n",
    "    rule3 = sum(int(i) for i in sumNum) == int(count)\n",
    "    return rule1 and rule2 and rule3\n",
    "\n",
    "test_ids = ['a1226415', 'A1226415', 'b1226415', 'A1241', 'a1226414']\n",
    "tempList = [valid_student_id (id) for id in test_ids]\n",
    "print(tempList)\n",
    "assert [valid_student_id (id) for id in test_ids] == [\n",
    "    True,  # 'a1226415' - lower case 'a', 8 digits, checksum matches\n",
    "    True,  # 'A1226415' - upper case 'A', 8 digits, checksum matches\n",
    "    False, # 'b1226415' - incorrect key (id[0])\n",
    "    False, # 'A1241'    - incorrect num of digits\n",
    "    False  # 'a1226414' - incorrect checksum - 1 + 2 + 2 + 6 + 4 != 14\n",
    "]"
   ]
  },
  {
   "cell_type": "code",
   "execution_count": 9,
   "metadata": {},
   "outputs": [
    {
     "name": "stdout",
     "output_type": "stream",
     "text": [
      "500\n"
     ]
    }
   ],
   "source": [
    "class CarRental:\n",
    "    def __init__(self,brand,model,daily_rate):\n",
    "        self.brand = brand\n",
    "        self.model = model\n",
    "        self.daily_rate = daily_rate\n",
    "    \n",
    "    def __repr__(self):\n",
    "        return f'{self.brand} {self.model}'\n",
    "    \n",
    "    def __gt__(self,other):\n",
    "        return self.daily_rate > other.daily_rate\n",
    "        \n",
    "    def __lt__(self,other):\n",
    "        return self.daily_rate < other.daily_rate\n",
    "        \n",
    "    def __eq__(self,other):\n",
    "        return self.daily_rate == other.daily_rate\n",
    "        \n",
    "    def rent_for_days(self,days):\n",
    "        self.days = days\n",
    "        total_cost = self.daily_rate * self.days\n",
    "        return total_cost\n",
    "    \n",
    "    # def rent_for_days(self, num_days):\n",
    "    #     if num_days < 1:\n",
    "    #         return 0\n",
    "    #     return self.daily_rate * num_days\n",
    "\n",
    "car1 = CarRental(\"Toyota\", \"Camry\", 50)\n",
    "car2 = CarRental(\"Honda\", \"Civic\", 45)\n",
    "total_cost = car1.rent_for_days(10)\n",
    "print(total_cost)"
   ]
  },
  {
   "cell_type": "code",
   "execution_count": 15,
   "metadata": {},
   "outputs": [
    {
     "name": "stdout",
     "output_type": "stream",
     "text": [
      "Sphere volume is 113.1\n",
      "Sphere surface area is 113.1\n",
      "Cuboid volume is 60\n",
      "Cuboid surface area is 94\n"
     ]
    }
   ],
   "source": [
    "from math import pi\n",
    "\n",
    "class Solid:\n",
    "    def volume(self):\n",
    "        pass\n",
    "\n",
    "    def surface_area(self):\n",
    "        pass\n",
    "\n",
    "    def __str__(self):\n",
    "        return self.__class__.__name__\n",
    "\n",
    "class Sphere(Solid):\n",
    "    def __init__(self,radius):\n",
    "        self.radius = radius\n",
    "\n",
    "    @property\n",
    "    def volume(self):\n",
    "        return round(((4/3) * pi) * self.radius **3,2)\n",
    "    \n",
    "    @property\n",
    "    def surface_area(self):\n",
    "        return round((4 * pi) * self.radius **2,2)\n",
    "    \n",
    "class Cuboid(Solid):\n",
    "    def __init__(self,length,width,height):\n",
    "        self.length = length\n",
    "        self.width = width\n",
    "        self.height = height\n",
    "\n",
    "    @property\n",
    "    def volume(self):\n",
    "        return self.height * self.width * self.length\n",
    "    \n",
    "    @property\n",
    "    def surface_area(self):\n",
    "        return 2 * (self.length * self.width + self.width * self.height + self.height * self.length)\n",
    "    \n",
    "solids = [Sphere(3),Cuboid(3,4,5)]\n",
    "for solid in solids:\n",
    "    print(f\"{solid} volume is {solid.volume}\")\n",
    "    print(f\"{solid} surface area is {solid.surface_area}\")"
   ]
  },
  {
   "cell_type": "code",
   "execution_count": 34,
   "metadata": {},
   "outputs": [
    {
     "ename": "TypeError",
     "evalue": "Gadget.__init__() takes 3 positional arguments but 4 were given",
     "output_type": "error",
     "traceback": [
      "\u001b[0;31m---------------------------------------------------------------------------\u001b[0m",
      "\u001b[0;31mTypeError\u001b[0m                                 Traceback (most recent call last)",
      "Cell \u001b[0;32mIn[34], line 48\u001b[0m\n\u001b[1;32m     45\u001b[0m             vending_machine_info \u001b[39m+\u001b[39m\u001b[39m=\u001b[39m \u001b[39mf\u001b[39m\u001b[39m\"\u001b[39m\u001b[39m{\u001b[39;00mgadget\u001b[39m.\u001b[39mname\u001b[39m}\u001b[39;00m\u001b[39m: $\u001b[39m\u001b[39m{\u001b[39;00mgadget\u001b[39m.\u001b[39mprice\u001b[39m}\u001b[39;00m\u001b[39m\\n\u001b[39;00m\u001b[39m\"\u001b[39m\n\u001b[1;32m     46\u001b[0m         \u001b[39mreturn\u001b[39;00m vending_machine_info\n\u001b[0;32m---> 48\u001b[0m usb_drive \u001b[39m=\u001b[39m USBDrive(\u001b[39m\"\u001b[39;49m\u001b[39mUSB Drive\u001b[39;49m\u001b[39m\"\u001b[39;49m, \u001b[39m10.99\u001b[39;49m, \u001b[39m64\u001b[39;49m)\n\u001b[1;32m     49\u001b[0m earphones \u001b[39m=\u001b[39m Earphones(\u001b[39m\"\u001b[39m\u001b[39mWireless Earphones\u001b[39m\u001b[39m\"\u001b[39m, \u001b[39m29.99\u001b[39m, \u001b[39mTrue\u001b[39;00m)\n\u001b[1;32m     50\u001b[0m charger \u001b[39m=\u001b[39m PortableCharger(\u001b[39m\"\u001b[39m\u001b[39mPortable Charger\u001b[39m\u001b[39m\"\u001b[39m, \u001b[39m19.99\u001b[39m, \u001b[39m10000\u001b[39m)\n",
      "Cell \u001b[0;32mIn[34], line 14\u001b[0m, in \u001b[0;36mUSBDrive.__init__\u001b[0;34m(self, name, price, storage)\u001b[0m\n\u001b[1;32m     13\u001b[0m \u001b[39mdef\u001b[39;00m \u001b[39m__init__\u001b[39m(\u001b[39mself\u001b[39m,name,price,storage):\n\u001b[0;32m---> 14\u001b[0m     \u001b[39msuper\u001b[39;49m()\u001b[39m.\u001b[39;49m\u001b[39m__init__\u001b[39;49m(\u001b[39mself\u001b[39;49m,name,price)\n\u001b[1;32m     15\u001b[0m     \u001b[39mself\u001b[39m\u001b[39m.\u001b[39mstorage \u001b[39m=\u001b[39m storage\n",
      "\u001b[0;31mTypeError\u001b[0m: Gadget.__init__() takes 3 positional arguments but 4 were given"
     ]
    }
   ],
   "source": [
    "class Gadget:\n",
    "    def __init__(self,name,price):\n",
    "        self.name = name\n",
    "        self.price = price\n",
    "    \n",
    "    def set_name(self,name):\n",
    "        self.name = name\n",
    "    \n",
    "    def set_price(self,price):\n",
    "        self.price = price\n",
    "\n",
    "class USBDrive(Gadget):\n",
    "    def __init__(self,name,price,storage):\n",
    "        super().__init__(self,name,price)\n",
    "        self.storage = storage\n",
    "    \n",
    "class Earphones(Gadget):\n",
    "    def __init__(self,name,price,wireless):\n",
    "        super().__init__(self,name,price)\n",
    "        self.wireless = wireless\n",
    "\n",
    "class PortableCharger(Gadget):\n",
    "    def __init__(self,name,price,capacity):\n",
    "        super().__init__(self,name,price)\n",
    "        self.capacity = capacity\n",
    "\n",
    "class ElectronicsVendingMachine:\n",
    "    def __init__(self,id):\n",
    "        self.inventory = []\n",
    "        self.id = id\n",
    "\n",
    "    def add(self,gadget):\n",
    "        self.inventory.append(gadget)\n",
    "    \n",
    "    def dispense(self,gadget_name):\n",
    "        for i in self.inventory:\n",
    "            if i.name == gadget_name:\n",
    "                self.inventory.remove(i)\n",
    "                return i\n",
    "        return None\n",
    "    \n",
    "    def __str__(self):\n",
    "        vending_machine_info = f\"Vending Machine ID: {self.id}\\nInventory:\\n\"\n",
    "        for gadget in self.inventory:\n",
    "            vending_machine_info += f\"{gadget.name}: ${gadget.price}\\n\"\n",
    "        return vending_machine_info\n",
    "\n",
    "usb_drive = USBDrive(\"USB Drive\", 10.99, 64)\n",
    "earphones = Earphones(\"Wireless Earphones\", 29.99, True)\n",
    "charger = PortableCharger(\"Portable Charger\", 19.99, 10000)\n",
    "\n",
    "vending_machine = ElectronicsVendingMachine(\"VM001\")\n",
    "vending_machine.add(usb_drive)\n",
    "vending_machine.add(earphones)\n",
    "vending_machine.add(charger)\n",
    "\n",
    "print(vending_machine)\n",
    "dispensed_gadget = vending_machine.dispense(\"USB Drive\")\n",
    "if dispensed_gadget:\n",
    "    print(f\"Dispensed: {dispensed_gadget.name}\")\n",
    "print(vending_machine)\n"
   ]
  },
  {
   "cell_type": "code",
   "execution_count": null,
   "metadata": {},
   "outputs": [],
   "source": [
    "def contains(number, pattern):\n",
    "    if not pattern:  \n",
    "        return True\n",
    "    if not number:  \n",
    "        return False\n",
    "    if number[0] == pattern[0]:  \n",
    "        return contains(number[1:], pattern[1:])\n",
    "    else:\n",
    "        return contains(number[1:], pattern)  \n"
   ]
  },
  {
   "cell_type": "code",
   "execution_count": 20,
   "metadata": {},
   "outputs": [
    {
     "name": "stdout",
     "output_type": "stream",
     "text": [
      "True\n"
     ]
    }
   ],
   "source": [
    "def binary_search(names,match):\n",
    "    low,high = 0, len(names) -1\n",
    "    while high >= low:\n",
    "        mid = (low + high) //2\n",
    "        if names[mid] == match:\n",
    "            return True\n",
    "        elif names[mid] > match:\n",
    "            high = mid - 1\n",
    "        elif names[mid] < match:\n",
    "            low = mid + 1\n",
    "    return False\n"
   ]
  },
  {
   "cell_type": "code",
   "execution_count": 21,
   "metadata": {},
   "outputs": [
    {
     "name": "stdout",
     "output_type": "stream",
     "text": [
      "[(1, 6.8), (1, 's', None), (2.4, 88, 2, 'bee:'), (1, 1, 1, 1, 6)]\n"
     ]
    }
   ],
   "source": [
    "import random\n",
    "\n",
    "def quicksort(arr):\n",
    "    if len(arr) <= 1:\n",
    "        return arr\n",
    "\n",
    "    pivot = random.choice(arr)  \n",
    "    left = []\n",
    "    right = []\n",
    "    equal = []\n",
    "\n",
    "    for i in arr:\n",
    "        if len(i) < len(pivot):\n",
    "            left.append(i)\n",
    "        elif len(i) > len(pivot):\n",
    "            right.append(i)\n",
    "        else:\n",
    "            equal.append(i)\n",
    "\n",
    "    return quicksort(left) + equal + quicksort(right)\n",
    "\n"
   ]
  },
  {
   "cell_type": "code",
   "execution_count": null,
   "metadata": {},
   "outputs": [],
   "source": [
    "def read_passwords_from_file(filename):\n",
    "    with open(filename, 'r') as file:\n",
    "        passwords = file.read().splitlines()\n",
    "    return passwords\n",
    "\n",
    "def bubble_sort(arr):\n",
    "    n = len(arr)\n",
    "    for i in range(n):\n",
    "        for j in range(0, n - i - 1):\n",
    "            if arr[j] > arr[j + 1]:\n",
    "                arr[j], arr[j + 1] = arr[j + 1], arr[j]\n",
    "\n",
    "def binary_search(arr, match):\n",
    "    left, right = 0, len(arr) - 1\n",
    "    while left <= right:\n",
    "        mid = (left + right) // 2\n",
    "        if arr[mid] == match:\n",
    "            return True\n",
    "        elif arr[mid] < match:\n",
    "            left = mid + 1\n",
    "        else:\n",
    "            right = mid - 1\n",
    "    return False\n",
    "\n",
    "def password_exists_in_file(filename, password):\n",
    "    passwords = read_passwords_from_file(filename)\n",
    "    bubble_sort(passwords)\n",
    "    return binary_search(passwords, password)"
   ]
  },
  {
   "cell_type": "code",
   "execution_count": 27,
   "metadata": {},
   "outputs": [
    {
     "name": "stdout",
     "output_type": "stream",
     "text": [
      "I eat anything\n",
      "I eat plants\n",
      "I eat meat\n"
     ]
    }
   ],
   "source": []
  },
  {
   "cell_type": "code",
   "execution_count": 32,
   "metadata": {},
   "outputs": [
    {
     "name": "stdout",
     "output_type": "stream",
     "text": [
      "12\n",
      "0\n",
      "0\n"
     ]
    }
   ],
   "source": [
    "def sum_even_numbers(nums):\n",
    "    if len(nums) == 0:\n",
    "        return 0\n",
    "    else:\n",
    "        if nums[0] % 2 == 0:\n",
    "            return nums[0] + sum_even_numbers(nums[1:])\n",
    "        else:\n",
    "            return sum_even_numbers(nums[1:])\n",
    "\n",
    "print(sum_even_numbers([1, 2, 3, 4, 5, 6]))\n",
    "print(sum_even_numbers([]))\n",
    "print(sum_even_numbers([1, 3, 5, 7]))"
   ]
  },
  {
   "cell_type": "code",
   "execution_count": 33,
   "metadata": {},
   "outputs": [
    {
     "name": "stdout",
     "output_type": "stream",
     "text": [
      "['z0419026', 'u1721175', 'i1930086', 's4025016', 'r4428714']\n"
     ]
    }
   ],
   "source": [
    "def bubble_sort(ids):\n",
    "    n = len(ids)\n",
    "    for i in range(n):\n",
    "        # 用于检查是否在本次遍历中发生了交换的标志\n",
    "        swapped = False\n",
    "\n",
    "        for j in range(0, n-i-1):\n",
    "            # 提取ID的数字部分\n",
    "            id1 = int(ids[j][1:])\n",
    "            id2 = int(ids[j+1][1:])\n",
    "\n",
    "            if id1 > id2:\n",
    "                # 如果数字部分的顺序不正确，交换ID\n",
    "                ids[j], ids[j+1] = ids[j+1], ids[j]\n",
    "                swapped = True\n",
    "\n",
    "        if not swapped:\n",
    "            # 如果在本次遍历中没有发生交换，表示列表已经排序完成\n",
    "            break\n",
    "\n",
    "def binary_search(ids, low, high, target):\n",
    "    if high >= low:\n",
    "        mid = (low + high) // 2\n",
    "\n",
    "        # 提取ID的数字部分用于比较\n",
    "        mid_numeric = int(ids[mid][1:])\n",
    "        target_numeric = int(target[1:])\n",
    "\n",
    "        if mid_numeric == target_numeric:\n",
    "            return True\n",
    "        elif mid_numeric < target_numeric:\n",
    "            return binary_search(ids, mid+1, high, target)\n",
    "        else:\n",
    "            return binary_search(ids, low, mid-1, target)\n",
    "    else:\n",
    "        return False\n",
    "    \n",
    "ids = ['u1721175', 's4025016', 'r4428714', 'i1930086', 'z0419026']\n",
    "bubble_sort(ids)\n",
    "print(ids)"
   ]
  },
  {
   "cell_type": "code",
   "execution_count": 37,
   "metadata": {},
   "outputs": [
    {
     "ename": "AttributeError",
     "evalue": "'VendingMachine' object has no attribute 'machine_id'",
     "output_type": "error",
     "traceback": [
      "\u001b[0;31m---------------------------------------------------------------------------\u001b[0m",
      "\u001b[0;31mAttributeError\u001b[0m                            Traceback (most recent call last)",
      "Cell \u001b[0;32mIn[37], line 42\u001b[0m\n\u001b[1;32m     39\u001b[0m vending_machine\u001b[39m.\u001b[39madd(juice)\n\u001b[1;32m     40\u001b[0m vending_machine\u001b[39m.\u001b[39madd(chocolate)\n\u001b[0;32m---> 42\u001b[0m \u001b[39mprint\u001b[39;49m(vending_machine)\n\u001b[1;32m     43\u001b[0m dispensed_item \u001b[39m=\u001b[39m vending_machine\u001b[39m.\u001b[39mdispense(\u001b[39m\"\u001b[39m\u001b[39mApple Juice\u001b[39m\u001b[39m\"\u001b[39m)\n\u001b[1;32m     44\u001b[0m \u001b[39mif\u001b[39;00m dispensed_item:\n",
      "Cell \u001b[0;32mIn[37], line 33\u001b[0m, in \u001b[0;36mVendingMachine.__str__\u001b[0;34m(self)\u001b[0m\n\u001b[1;32m     31\u001b[0m \u001b[39mdef\u001b[39;00m \u001b[39m__str__\u001b[39m(\u001b[39mself\u001b[39m):\n\u001b[1;32m     32\u001b[0m     content_names \u001b[39m=\u001b[39m [item\u001b[39m.\u001b[39mname \u001b[39mfor\u001b[39;00m item \u001b[39min\u001b[39;00m \u001b[39mself\u001b[39m\u001b[39m.\u001b[39minventory]\n\u001b[0;32m---> 33\u001b[0m     \u001b[39mreturn\u001b[39;00m \u001b[39mf\u001b[39m\u001b[39m\"\u001b[39m\u001b[39mId: \u001b[39m\u001b[39m{\u001b[39;00m\u001b[39mself\u001b[39;49m\u001b[39m.\u001b[39;49mmachine_id\u001b[39m}\u001b[39;00m\u001b[39m, contents: \u001b[39m\u001b[39m{\u001b[39;00mcontent_names\u001b[39m}\u001b[39;00m\u001b[39m\"\u001b[39m\n",
      "\u001b[0;31mAttributeError\u001b[0m: 'VendingMachine' object has no attribute 'machine_id'"
     ]
    }
   ],
   "source": [
    "def process_rgb_image(image):\n",
    "    \"\"\"\n",
    "    Process an RGB image.\n",
    "    \n",
    "    Args:\n",
    "    - image (list of list of tuple): A 3D list representing the image where \n",
    "    each tuple contains 3 values (R, G, B).\n",
    "    \n",
    "    Returns:\n",
    "    - Processed image.\n",
    "    \"\"\"\n",
    "    height = len(image)\n",
    "    width = len(image[0])\n",
    "    #o(1)\n",
    "    \n",
    "    cube = []\n",
    "    for x in range(width):\n",
    "        row = []\n",
    "        for y in range(height):\n",
    "            channel = (0, 0, 0)  # RGB channels initialized to (0, 0, 0)\n",
    "            row.append(channel)\n",
    "        cube.append(row)\n",
    "        #O(width * height * max(width, height))\n",
    "    \n",
    "    for x in range(width):\n",
    "        for y in range(height):\n",
    "            for z in range(3):  # RGB channels\n",
    "                r, g, b = image[y][x]\n",
    "                \n",
    "                \n",
    "                for i in range(max(width, height)):\n",
    "                    # Arbitrary processing\n",
    "                    r = (r + i) % 256\n",
    "                    g = (g + i) % 256\n",
    "                    b = (b + i) % 256\n",
    "                    \n",
    "                    \n",
    "                    cube[x][y][z] = (r, g, b)\n",
    "                #O(width * height * 3 * max(width, height))\n",
    "\n",
    "                # Use the cube to update the image\n",
    "                image[y][x] = cube[x][y][z]\n",
    "                # O(width * height)\n",
    "                \n",
    "                # 时间复杂度为O(width * height * max(width, height))，空间复杂度为O(width * height)\n",
    "    return image"
   ]
  },
  {
   "cell_type": "code",
   "execution_count": 38,
   "metadata": {},
   "outputs": [
    {
     "name": "stdout",
     "output_type": "stream",
     "text": [
      "Id: v1, contents: ['c1', 'j2']\n",
      "Id: v2, contents: ['j1']\n"
     ]
    }
   ],
   "source": [
    "class Item:\n",
    "    def __init__(self, name, price):\n",
    "        self.name = name\n",
    "        self.price = price\n",
    "\n",
    "class JuiceBox(Item):\n",
    "    def __init__(self, name, price, volume):\n",
    "        super().__init__(name, price)\n",
    "        self.volume = volume\n",
    "\n",
    "class Chocolate(Item):\n",
    "    def __init__(self, name, price, weight):\n",
    "        super().__init__(name, price)\n",
    "        self.weight = weight\n",
    "\n",
    "class VendingMachine:\n",
    "    def __init__(self, machine_id):\n",
    "        self.machine_id = machine_id\n",
    "        self.inventory = []\n",
    "\n",
    "    def add(self, item):\n",
    "        self.inventory.append(item)\n",
    "\n",
    "    def dispense(self, item_name):\n",
    "        for item in self.inventory:\n",
    "            if item.name == item_name:\n",
    "                self.inventory.remove(item)\n",
    "                return\n",
    "\n",
    "    def __str__(self):\n",
    "        content_names = [item.name for item in self.inventory]\n",
    "        return f\"Id: {self.machine_id}, contents: {content_names}\"\n",
    "\n",
    "# Create instances and perform the operations\n",
    "v1 = VendingMachine(\"v1\")\n",
    "v2 = VendingMachine(\"v2\")\n",
    "c1 = Chocolate(\"c1\", 5.0, 1.2)\n",
    "j1 = JuiceBox(\"j1\", 10.0, 80.0)\n",
    "j2 = JuiceBox(\"j2\", 20.0, 120.0)\n",
    "\n",
    "v1.add(c1)\n",
    "v1.add(j1)\n",
    "\n",
    "v1.dispense(\"j1\")\n",
    "\n",
    "v1.add(j2)\n",
    "v2.add(j1)\n",
    "\n",
    "# Print the vending machines\n",
    "print(v1)  # Output: Id: v1, contents: ['c1', 'j2']\n",
    "print(v2)  # Output: Id: v2, contents: ['j1']"
   ]
  },
  {
   "cell_type": "code",
   "execution_count": 8,
   "metadata": {},
   "outputs": [
    {
     "name": "stdout",
     "output_type": "stream",
     "text": [
      "[-9, -8, -7, -6, -5, -4, -3, -2, -1]\n"
     ]
    }
   ],
   "source": [
    "class Node:\n",
    "    def __init__(self, data):\n",
    "        self.data = data\n",
    "        self.next = None\n",
    "\n",
    "class SinglyLinkedList:\n",
    "    def __init__(self):\n",
    "        self.head = None\n",
    "\n",
    "    def append_item(self, data):\n",
    "        new_node = Node(data)\n",
    "        if self.head is None:\n",
    "            self.head = new_node\n",
    "        else:\n",
    "            current = self.head\n",
    "            while current.next:\n",
    "                current = current.next\n",
    "            current.next = new_node\n",
    "\n",
    "    def sll_reverse(self):\n",
    "        prev = None\n",
    "        current = self.head\n",
    "        while current is not None:\n",
    "            current.data = -current.data  # Negate the data\n",
    "            next_node = current.next\n",
    "            current.next = prev\n",
    "            prev = current\n",
    "            current = next_node\n",
    "        self.head = prev\n",
    "\n",
    "    def sll_traverse(self):\n",
    "        elements = []\n",
    "        current = self.head\n",
    "        while current is not None:\n",
    "            elements.append(current.data)\n",
    "            current = current.next\n",
    "        return elements\n",
    "\n",
    "s_ll = SinglyLinkedList()\n",
    "s_ll.append_item(1)\n",
    "s_ll.append_item(2)\n",
    "s_ll.append_item(3)\n",
    "s_ll.append_item(4)\n",
    "s_ll.append_item(5)\n",
    "s_ll.append_item(6)\n",
    "s_ll.append_item(7)\n",
    "s_ll.append_item(8)\n",
    "s_ll.append_item(9)\n",
    "s_ll.sll_reverse()\n",
    "result = s_ll.sll_traverse()\n",
    "print(result)\n"
   ]
  },
  {
   "cell_type": "code",
   "execution_count": 1,
   "metadata": {},
   "outputs": [],
   "source": [
    "class Node:\n",
    "    def __init__(self,data):\n",
    "        self.data = data\n",
    "        self.next = None\n",
    "    \n",
    "    def single_link(self):\n",
    "        self.head = None\n",
    "    \n",
    "    def append_item(self,data):\n",
    "        new_node = Node(data)\n",
    "        if self.head == None: \n",
    "            self.head = new_node \n",
    "        else:\n",
    "            curr = self.head\n",
    "            while curr.next != None:\n",
    "                curr = curr.next\n",
    "            curr.next = new_node\n",
    "    \n",
    "    def "
   ]
  },
  {
   "cell_type": "code",
   "execution_count": 14,
   "metadata": {},
   "outputs": [
    {
     "name": "stdout",
     "output_type": "stream",
     "text": [
      "1 <-> 2 <-> 3 <-> 4 <-> 5 <-> 6 <-> 7 <-> 8 <-> 9\n",
      "1 <-> 8 <-> 3 <-> 6 <-> 5 <-> 4 <-> 7 <-> 2 <-> 9\n"
     ]
    }
   ],
   "source": [
    "class Node:\n",
    "    def __init__(self, value):\n",
    "        self.value = value\n",
    "        self.next = None\n",
    "        self.prev = None\n",
    "\n",
    "class DoublyLinkedList:\n",
    "    def __init__(self):\n",
    "        self.head = None\n",
    "        self.tail = None\n",
    "\n",
    "    def append_item(self, value):\n",
    "        new_node = Node(value)\n",
    "        if not self.head:\n",
    "            self.head = new_node\n",
    "            self.tail = new_node\n",
    "        else:\n",
    "            self.tail.next = new_node\n",
    "            new_node.prev = self.tail\n",
    "            self.tail = new_node\n",
    "\n",
    "    def delete_item(self, value):\n",
    "        current = self.head\n",
    "        while current:\n",
    "            if current.value == value:\n",
    "                # Node is head\n",
    "                if current.prev is None:\n",
    "                    self.head = current.next\n",
    "                    if self.head:\n",
    "                        self.head.prev = None\n",
    "                # Node is tail\n",
    "                elif current.next is None:\n",
    "                    self.tail = current.prev\n",
    "                    if self.tail:\n",
    "                        self.tail.next = None\n",
    "                # Node is in the middle\n",
    "                else:\n",
    "                    current.prev.next = current.next\n",
    "                    current.next.prev = current.prev\n",
    "                return  # Exit after deleting the first occurrence\n",
    "            current = current.next\n",
    "\n",
    "    def reverse_even_odd(self):\n",
    "        current = self.head\n",
    "        evens = []\n",
    "        index = 1\n",
    "        while current:\n",
    "            if index % 2 == 0: #奇数修改这里的条件 index % 2 != 0\n",
    "                evens.append(current.value)\n",
    "            current = current.next\n",
    "            index += 1\n",
    "\n",
    "        current = self.head\n",
    "        index = 1\n",
    "        while current and evens:\n",
    "            if index % 2 == 0:  #奇数修改这里的条件 index % 2 != 0\n",
    "                current.value = evens.pop()\n",
    "            current = current.next\n",
    "            index += 1\n",
    "\n",
    "    def __str__(self):\n",
    "        values = []\n",
    "        current = self.head\n",
    "        while current:\n",
    "            values.append(str(current.value))\n",
    "            current = current.next\n",
    "        return \" <-> \".join(values)\n",
    "    \n",
    "dll = DoublyLinkedList()\n",
    "for i in range(1, 10):\n",
    "    dll.append_item(i)\n",
    "print(dll)  # Output: 1 <-> 2 <-> 3 <-> 4 <-> 5 <-> 6 <-> 7 <-> 8 <-> 9\n",
    "\n",
    "dll.reverse_even_odd()\n",
    "print(dll)  # Output: 1 <-> 8 <-> 3 <-> 6 <-> 5 <-> 4 <-> 7 <-> 2 <-> 9\n",
    "\n"
   ]
  },
  {
   "cell_type": "code",
   "execution_count": 1,
   "metadata": {},
   "outputs": [
    {
     "name": "stdout",
     "output_type": "stream",
     "text": [
      "Imbalanced\n",
      "Imbalanced\n",
      "Balanced\n"
     ]
    }
   ],
   "source": [
    "from collections import deque\n",
    "\n",
    "def check_balanced_parentheses(expression):\n",
    "    stack = deque()\n",
    "    parentheses_map = {')': '(', ']': '[', '}': '{'}\n",
    "\n",
    "    for char in expression:\n",
    "        if char in ['(', '[', '{']:\n",
    "            stack.append(char)\n",
    "        elif char in [')', ']', '}']:\n",
    "            if not stack or stack[-1] != parentheses_map[char]:\n",
    "                return \"Imbalanced\"\n",
    "            stack.pop()\n",
    "\n",
    "    if not stack:\n",
    "        return \"Balanced\"\n",
    "    return \"Imbalanced\"\n"
   ]
  },
  {
   "cell_type": "code",
   "execution_count": 16,
   "metadata": {},
   "outputs": [],
   "source": [
    "from collections import deque\n",
    "\n",
    "def remove_adjacent_numeric_pairs(s):\n",
    "    stack = deque()\n",
    "\n",
    "    for i in s:\n",
    "        if i.isnumeric() and stack and i == stack[-1]:\n",
    "            stack.pop()\n",
    "        else:\n",
    "            stack.append(i)\n",
    "\n",
    "    return ''.join(stack)"
   ]
  },
  {
   "cell_type": "code",
   "execution_count": 8,
   "metadata": {},
   "outputs": [],
   "source": [
    "import heapq\n",
    "\n",
    "def allow_entry(queue, spots):\n",
    "    # Convert the deque into a list of tuples with negative trend scores\n",
    "    heap = [(-score, name) for name, score in queue]\n",
    "    \n",
    "    # Use a heap to efficiently find the top spots trendiest people\n",
    "    heapq.heapify(heap)\n",
    "    \n",
    "    # Get the top 'spots' trendiest people\n",
    "    allowed_entry = [heapq.heappop(heap)[1] for _ in range(min(spots, len(heap)))]\n",
    "\n",
    "    return allowed_entry\n"
   ]
  },
  {
   "cell_type": "code",
   "execution_count": 9,
   "metadata": {},
   "outputs": [],
   "source": [
    "import heapq\n",
    "\n",
    "# Convert the list to a heap\n",
    "mylist = [19, 12, 9, 20, 10, 2, 21, 6]\n",
    "heapq.heapify(mylist)\n",
    "\n",
    "# Insert a new element (30)\n",
    "heapq.heappush(mylist, 30)\n",
    "\n",
    "# Delete the smallest element and insert a new element (1)\n",
    "heapq.heapreplace(mylist, 1)\n",
    "five_largest = heapq.nlargest(5, mylist)\n",
    "three_smallest = heapq.nsmallest(3, mylist)\n"
   ]
  },
  {
   "cell_type": "code",
   "execution_count": 7,
   "metadata": {},
   "outputs": [],
   "source": [
    "from collections import deque\n",
    "\n",
    "def process_operations(operations):\n",
    "    document = \"\"\n",
    "    undo = deque()\n",
    "    redo = deque()\n",
    "\n",
    "    for operation in operations:\n",
    "        if operation.startswith(\"store\"):\n",
    "            _, i = operation.split()\n",
    "            undo.append(i)\n",
    "            document += i\n",
    "            \n",
    "        elif operation == \"undo\":\n",
    "            if undo:\n",
    "                i = undo.pop()\n",
    "                redo.append(i)\n",
    "                document = document[:-1]\n",
    "                \n",
    "        elif operation == \"redo\":\n",
    "            if redo:\n",
    "                i = redo.pop()\n",
    "                undo.append(i)\n",
    "                document += i\n",
    "                \n",
    "        elif operation == \"display\":\n",
    "            print(document)\n"
   ]
  },
  {
   "cell_type": "code",
   "execution_count": null,
   "metadata": {},
   "outputs": [],
   "source": []
  }
 ],
 "metadata": {
  "kernelspec": {
   "display_name": "Python 3 (ipykernel)",
   "language": "python",
   "name": "python3"
  },
  "language_info": {
   "codemirror_mode": {
    "name": "ipython",
    "version": 3
   },
   "file_extension": ".py",
   "mimetype": "text/x-python",
   "name": "python",
   "nbconvert_exporter": "python",
   "pygments_lexer": "ipython3",
   "version": "3.11.3"
  }
 },
 "nbformat": 4,
 "nbformat_minor": 2
}
